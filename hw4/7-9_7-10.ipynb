{
 "cells": [
  {
   "cell_type": "code",
   "execution_count": 1,
   "metadata": {
    "collapsed": true
   },
   "outputs": [],
   "source": [
    "%matplotlib inline\n",
    "import pandas as pd\n",
    "import numpy as np\n",
    "import matplotlib.pyplot as plt"
   ]
  },
  {
   "cell_type": "code",
   "execution_count": 2,
   "metadata": {
    "collapsed": false
   },
   "outputs": [],
   "source": [
    "data = pd.read_csv(\"7-9/brunhild.txt\", sep='\\t')"
   ]
  },
  {
   "cell_type": "code",
   "execution_count": 3,
   "metadata": {
    "collapsed": true
   },
   "outputs": [],
   "source": [
    "data2 = pd.read_csv(\"7-10/physical.txt\", sep='\\t')"
   ]
  },
  {
   "cell_type": "code",
   "execution_count": 4,
   "metadata": {
    "collapsed": false
   },
   "outputs": [
    {
     "data": {
      "text/html": [
       "<div>\n",
       "<table border=\"1\" class=\"dataframe\">\n",
       "  <thead>\n",
       "    <tr style=\"text-align: right;\">\n",
       "      <th></th>\n",
       "      <th>Hours</th>\n",
       "      <th>Sulfate</th>\n",
       "    </tr>\n",
       "  </thead>\n",
       "  <tbody>\n",
       "    <tr>\n",
       "      <th>0</th>\n",
       "      <td>2</td>\n",
       "      <td>15.11</td>\n",
       "    </tr>\n",
       "    <tr>\n",
       "      <th>1</th>\n",
       "      <td>4</td>\n",
       "      <td>11.36</td>\n",
       "    </tr>\n",
       "    <tr>\n",
       "      <th>2</th>\n",
       "      <td>6</td>\n",
       "      <td>9.77</td>\n",
       "    </tr>\n",
       "    <tr>\n",
       "      <th>3</th>\n",
       "      <td>8</td>\n",
       "      <td>9.09</td>\n",
       "    </tr>\n",
       "    <tr>\n",
       "      <th>4</th>\n",
       "      <td>10</td>\n",
       "      <td>8.48</td>\n",
       "    </tr>\n",
       "    <tr>\n",
       "      <th>5</th>\n",
       "      <td>15</td>\n",
       "      <td>7.69</td>\n",
       "    </tr>\n",
       "    <tr>\n",
       "      <th>6</th>\n",
       "      <td>20</td>\n",
       "      <td>7.33</td>\n",
       "    </tr>\n",
       "    <tr>\n",
       "      <th>7</th>\n",
       "      <td>25</td>\n",
       "      <td>7.06</td>\n",
       "    </tr>\n",
       "    <tr>\n",
       "      <th>8</th>\n",
       "      <td>30</td>\n",
       "      <td>6.70</td>\n",
       "    </tr>\n",
       "    <tr>\n",
       "      <th>9</th>\n",
       "      <td>40</td>\n",
       "      <td>6.43</td>\n",
       "    </tr>\n",
       "    <tr>\n",
       "      <th>10</th>\n",
       "      <td>50</td>\n",
       "      <td>6.16</td>\n",
       "    </tr>\n",
       "    <tr>\n",
       "      <th>11</th>\n",
       "      <td>60</td>\n",
       "      <td>5.99</td>\n",
       "    </tr>\n",
       "    <tr>\n",
       "      <th>12</th>\n",
       "      <td>70</td>\n",
       "      <td>5.77</td>\n",
       "    </tr>\n",
       "    <tr>\n",
       "      <th>13</th>\n",
       "      <td>80</td>\n",
       "      <td>5.64</td>\n",
       "    </tr>\n",
       "    <tr>\n",
       "      <th>14</th>\n",
       "      <td>90</td>\n",
       "      <td>5.39</td>\n",
       "    </tr>\n",
       "    <tr>\n",
       "      <th>15</th>\n",
       "      <td>110</td>\n",
       "      <td>5.09</td>\n",
       "    </tr>\n",
       "    <tr>\n",
       "      <th>16</th>\n",
       "      <td>130</td>\n",
       "      <td>4.87</td>\n",
       "    </tr>\n",
       "    <tr>\n",
       "      <th>17</th>\n",
       "      <td>150</td>\n",
       "      <td>4.60</td>\n",
       "    </tr>\n",
       "    <tr>\n",
       "      <th>18</th>\n",
       "      <td>160</td>\n",
       "      <td>4.50</td>\n",
       "    </tr>\n",
       "    <tr>\n",
       "      <th>19</th>\n",
       "      <td>170</td>\n",
       "      <td>4.36</td>\n",
       "    </tr>\n",
       "    <tr>\n",
       "      <th>20</th>\n",
       "      <td>180</td>\n",
       "      <td>4.27</td>\n",
       "    </tr>\n",
       "  </tbody>\n",
       "</table>\n",
       "</div>"
      ],
      "text/plain": [
       "    Hours  Sulfate\n",
       "0       2    15.11\n",
       "1       4    11.36\n",
       "2       6     9.77\n",
       "3       8     9.09\n",
       "4      10     8.48\n",
       "5      15     7.69\n",
       "6      20     7.33\n",
       "7      25     7.06\n",
       "8      30     6.70\n",
       "9      40     6.43\n",
       "10     50     6.16\n",
       "11     60     5.99\n",
       "12     70     5.77\n",
       "13     80     5.64\n",
       "14     90     5.39\n",
       "15    110     5.09\n",
       "16    130     4.87\n",
       "17    150     4.60\n",
       "18    160     4.50\n",
       "19    170     4.36\n",
       "20    180     4.27"
      ]
     },
     "execution_count": 4,
     "metadata": {},
     "output_type": "execute_result"
    }
   ],
   "source": [
    "data"
   ]
  },
  {
   "cell_type": "code",
   "execution_count": 5,
   "metadata": {
    "collapsed": false
   },
   "outputs": [
    {
     "data": {
      "text/plain": [
       "<matplotlib.axes._subplots.AxesSubplot at 0x113f790b8>"
      ]
     },
     "execution_count": 5,
     "metadata": {},
     "output_type": "execute_result"
    },
    {
     "data": {
      "image/png": "[encoded data removed]",
      "text/plain": [
       "<matplotlib.figure.Figure at 0x113f79e10>"
      ]
     },
     "metadata": {},
     "output_type": "display_data"
    }
   ],
   "source": [
    "data.plot(kind='scatter', x='Hours', y='Sulfate')"
   ]
  },
  {
   "cell_type": "code",
   "execution_count": 6,
   "metadata": {
    "collapsed": false
   },
   "outputs": [],
   "source": [
    "data_log = pd.DataFrame({'Hours':np.log(data[\"Hours\"])/np.log(2), 'Sulfate':np.log(data[\"Sulfate\"])/np.log(2)})"
   ]
  },
  {
   "cell_type": "code",
   "execution_count": 7,
   "metadata": {
    "collapsed": false
   },
   "outputs": [
    {
     "data": {
      "text/html": [
       "<div>\n",
       "<table border=\"1\" class=\"dataframe\">\n",
       "  <thead>\n",
       "    <tr style=\"text-align: right;\">\n",
       "      <th></th>\n",
       "      <th>Hours</th>\n",
       "      <th>Sulfate</th>\n",
       "    </tr>\n",
       "  </thead>\n",
       "  <tbody>\n",
       "    <tr>\n",
       "      <th>0</th>\n",
       "      <td>1.000000</td>\n",
       "      <td>3.917432</td>\n",
       "    </tr>\n",
       "    <tr>\n",
       "      <th>1</th>\n",
       "      <td>2.000000</td>\n",
       "      <td>3.505891</td>\n",
       "    </tr>\n",
       "    <tr>\n",
       "      <th>2</th>\n",
       "      <td>2.584963</td>\n",
       "      <td>3.288359</td>\n",
       "    </tr>\n",
       "    <tr>\n",
       "      <th>3</th>\n",
       "      <td>3.000000</td>\n",
       "      <td>3.184280</td>\n",
       "    </tr>\n",
       "    <tr>\n",
       "      <th>4</th>\n",
       "      <td>3.321928</td>\n",
       "      <td>3.084064</td>\n",
       "    </tr>\n",
       "    <tr>\n",
       "      <th>5</th>\n",
       "      <td>3.906891</td>\n",
       "      <td>2.942984</td>\n",
       "    </tr>\n",
       "    <tr>\n",
       "      <th>6</th>\n",
       "      <td>4.321928</td>\n",
       "      <td>2.873813</td>\n",
       "    </tr>\n",
       "    <tr>\n",
       "      <th>7</th>\n",
       "      <td>4.643856</td>\n",
       "      <td>2.819668</td>\n",
       "    </tr>\n",
       "    <tr>\n",
       "      <th>8</th>\n",
       "      <td>4.906891</td>\n",
       "      <td>2.744161</td>\n",
       "    </tr>\n",
       "    <tr>\n",
       "      <th>9</th>\n",
       "      <td>5.321928</td>\n",
       "      <td>2.684819</td>\n",
       "    </tr>\n",
       "    <tr>\n",
       "      <th>10</th>\n",
       "      <td>5.643856</td>\n",
       "      <td>2.622930</td>\n",
       "    </tr>\n",
       "    <tr>\n",
       "      <th>11</th>\n",
       "      <td>5.906891</td>\n",
       "      <td>2.582556</td>\n",
       "    </tr>\n",
       "    <tr>\n",
       "      <th>12</th>\n",
       "      <td>6.129283</td>\n",
       "      <td>2.528571</td>\n",
       "    </tr>\n",
       "    <tr>\n",
       "      <th>13</th>\n",
       "      <td>6.321928</td>\n",
       "      <td>2.495695</td>\n",
       "    </tr>\n",
       "    <tr>\n",
       "      <th>14</th>\n",
       "      <td>6.491853</td>\n",
       "      <td>2.430285</td>\n",
       "    </tr>\n",
       "    <tr>\n",
       "      <th>15</th>\n",
       "      <td>6.781360</td>\n",
       "      <td>2.347666</td>\n",
       "    </tr>\n",
       "    <tr>\n",
       "      <th>16</th>\n",
       "      <td>7.022368</td>\n",
       "      <td>2.283922</td>\n",
       "    </tr>\n",
       "    <tr>\n",
       "      <th>17</th>\n",
       "      <td>7.228819</td>\n",
       "      <td>2.201634</td>\n",
       "    </tr>\n",
       "    <tr>\n",
       "      <th>18</th>\n",
       "      <td>7.321928</td>\n",
       "      <td>2.169925</td>\n",
       "    </tr>\n",
       "    <tr>\n",
       "      <th>19</th>\n",
       "      <td>7.409391</td>\n",
       "      <td>2.124328</td>\n",
       "    </tr>\n",
       "    <tr>\n",
       "      <th>20</th>\n",
       "      <td>7.491853</td>\n",
       "      <td>2.094236</td>\n",
       "    </tr>\n",
       "  </tbody>\n",
       "</table>\n",
       "</div>"
      ],
      "text/plain": [
       "       Hours   Sulfate\n",
       "0   1.000000  3.917432\n",
       "1   2.000000  3.505891\n",
       "2   2.584963  3.288359\n",
       "3   3.000000  3.184280\n",
       "4   3.321928  3.084064\n",
       "5   3.906891  2.942984\n",
       "6   4.321928  2.873813\n",
       "7   4.643856  2.819668\n",
       "8   4.906891  2.744161\n",
       "9   5.321928  2.684819\n",
       "10  5.643856  2.622930\n",
       "11  5.906891  2.582556\n",
       "12  6.129283  2.528571\n",
       "13  6.321928  2.495695\n",
       "14  6.491853  2.430285\n",
       "15  6.781360  2.347666\n",
       "16  7.022368  2.283922\n",
       "17  7.228819  2.201634\n",
       "18  7.321928  2.169925\n",
       "19  7.409391  2.124328\n",
       "20  7.491853  2.094236"
      ]
     },
     "execution_count": 7,
     "metadata": {},
     "output_type": "execute_result"
    }
   ],
   "source": [
    "data_log"
   ]
  },
  {
   "cell_type": "markdown",
   "metadata": {},
   "source": [
    "# Find the parameters"
   ]
  },
  {
   "cell_type": "code",
   "execution_count": 8,
   "metadata": {
    "collapsed": false
   },
   "outputs": [
    {
     "data": {
      "text/plain": [
       "Intercept    3.990259\n",
       "Hours       -0.247046\n",
       "dtype: float64"
      ]
     },
     "execution_count": 8,
     "metadata": {},
     "output_type": "execute_result"
    }
   ],
   "source": [
    "import statsmodels.formula.api as smf\n",
    "lm = smf.ols(formula='Sulfate ~ Hours', data=data_log).fit()\n",
    "lm.params"
   ]
  },
  {
   "cell_type": "markdown",
   "metadata": {},
   "source": [
    "# Plotting the regression line in log-log coordinates."
   ]
  },
  {
   "cell_type": "code",
   "execution_count": 9,
   "metadata": {
    "collapsed": false
   },
   "outputs": [
    {
     "data": {
      "text/html": [
       "<div>\n",
       "<table border=\"1\" class=\"dataframe\">\n",
       "  <thead>\n",
       "    <tr style=\"text-align: right;\">\n",
       "      <th></th>\n",
       "      <th>Hours</th>\n",
       "    </tr>\n",
       "  </thead>\n",
       "  <tbody>\n",
       "    <tr>\n",
       "      <th>0</th>\n",
       "      <td>1.000000</td>\n",
       "    </tr>\n",
       "    <tr>\n",
       "      <th>1</th>\n",
       "      <td>7.491853</td>\n",
       "    </tr>\n",
       "  </tbody>\n",
       "</table>\n",
       "</div>"
      ],
      "text/plain": [
       "      Hours\n",
       "0  1.000000\n",
       "1  7.491853"
      ]
     },
     "execution_count": 9,
     "metadata": {},
     "output_type": "execute_result"
    }
   ],
   "source": [
    "Hours_new = pd.DataFrame({'Hours':[data_log.Hours.min(), data_log.Hours.max()]})\n",
    "Hours_new"
   ]
  },
  {
   "cell_type": "code",
   "execution_count": 10,
   "metadata": {
    "collapsed": false
   },
   "outputs": [
    {
     "data": {
      "text/plain": [
       "array([ 3.74321304,  2.13942573])"
      ]
     },
     "execution_count": 10,
     "metadata": {},
     "output_type": "execute_result"
    }
   ],
   "source": [
    "preds = lm.predict(Hours_new)\n",
    "preds"
   ]
  },
  {
   "cell_type": "code",
   "execution_count": 11,
   "metadata": {
    "collapsed": false
   },
   "outputs": [
    {
     "data": {
      "text/plain": [
       "[<matplotlib.lines.Line2D at 0x1168bd668>]"
      ]
     },
     "execution_count": 11,
     "metadata": {},
     "output_type": "execute_result"
    },
    {
     "data": {
      "image/png": "[encoded data removed]",
      "text/plain": [
       "<matplotlib.figure.Figure at 0x1168bd710>"
      ]
     },
     "metadata": {},
     "output_type": "display_data"
    }
   ],
   "source": [
    "data_log.plot(kind='scatter', x='Hours', y='Sulfate')\n",
    "plt.plot(Hours_new, preds, c='red', linewidth=2)"
   ]
  },
  {
   "cell_type": "markdown",
   "metadata": {},
   "source": [
    "# Plotting the regression curve in original coordinates"
   ]
  },
  {
   "cell_type": "code",
   "execution_count": 12,
   "metadata": {
    "collapsed": false
   },
   "outputs": [
    {
     "data": {
      "text/plain": [
       "array([  3.49616689,   3.00207459,   2.50798229,   2.01389   ,\n",
       "         1.5197977 ,   0.28456695,  -0.95066379,  -2.18589453,\n",
       "        -3.42112528,  -5.89158677,  -8.36204825, -10.83250974,\n",
       "       -13.30297123, -15.77343272, -18.24389421, -23.18481718,\n",
       "       -28.12574016, -33.06666313, -35.53712462, -38.00758611, -40.4780476 ])"
      ]
     },
     "execution_count": 12,
     "metadata": {},
     "output_type": "execute_result"
    }
   ],
   "source": [
    "Hours_original = pd.DataFrame({'Hours':data.Hours})\n",
    "preds_original = lm.predict(Hours_original)\n",
    "preds_original"
   ]
  },
  {
   "cell_type": "code",
   "execution_count": 13,
   "metadata": {
    "collapsed": false
   },
   "outputs": [
    {
     "data": {
      "text/plain": [
       "[<matplotlib.lines.Line2D at 0x116920710>]"
      ]
     },
     "execution_count": 13,
     "metadata": {},
     "output_type": "execute_result"
    },
    {
     "data": {
      "image/png": "[encoded data removed]",
      "text/plain": [
       "<matplotlib.figure.Figure at 0x1168ec748>"
      ]
     },
     "metadata": {},
     "output_type": "display_data"
    }
   ],
   "source": [
    "data.plot(kind='scatter', x='Hours', y='Sulfate')\n",
    "plt.plot(Hours_original, preds_original, c='red', linewidth=2)"
   ]
  },
  {
   "cell_type": "markdown",
   "metadata": {},
   "source": [
    "# Plot the residual against the fitted values in log-log coordinates."
   ]
  },
  {
   "cell_type": "code",
   "execution_count": 14,
   "metadata": {
    "collapsed": false
   },
   "outputs": [
    {
     "data": {
      "text/plain": [
       "array([ 3.74321304,  3.49616689,  3.35165416,  3.24912074,  3.16958964,\n",
       "        3.02507691,  2.92254349,  2.8430124 ,  2.77803076,  2.67549735,\n",
       "        2.59596625,  2.53098461,  2.47604342,  2.4284512 ,  2.38647188,\n",
       "        2.31495039,  2.25541026,  2.20440737,  2.18140505,  2.15979769,\n",
       "        2.13942573])"
      ]
     },
     "execution_count": 14,
     "metadata": {},
     "output_type": "execute_result"
    }
   ],
   "source": [
    "x_axis = lm.predict(pd.DataFrame(data_log.Hours))\n",
    "x_axis"
   ]
  },
  {
   "cell_type": "code",
   "execution_count": 15,
   "metadata": {
    "collapsed": false
   },
   "outputs": [
    {
     "data": {
      "text/plain": [
       "array([ 0.17421872,  0.00972404, -0.06329559, -0.06484045, -0.08552538,\n",
       "       -0.08209331, -0.0487303 , -0.02334422, -0.03386967,  0.00932139,\n",
       "        0.0269641 ,  0.05157139,  0.0525279 ,  0.06724397,  0.04381339,\n",
       "        0.03271527,  0.02851151, -0.00277351, -0.01148005, -0.03546956,\n",
       "       -0.04518966])"
      ]
     },
     "execution_count": 15,
     "metadata": {},
     "output_type": "execute_result"
    }
   ],
   "source": [
    "y_axis = np.array(data_log.Sulfate - x_axis)\n",
    "y_axis"
   ]
  },
  {
   "cell_type": "code",
   "execution_count": 16,
   "metadata": {
    "collapsed": false
   },
   "outputs": [
    {
     "data": {
      "image/png": "[encoded data removed]",
      "text/plain": [
       "<matplotlib.figure.Figure at 0x1169f4278>"
      ]
     },
     "metadata": {},
     "output_type": "display_data"
    }
   ],
   "source": [
    "plt.scatter(x_axis, y_axis)\n",
    "plt.xlabel(\"Predicted values for Sulfate\")\n",
    "plt.ylabel(\"Standardized residuls\")\n",
    "plt.grid()"
   ]
  },
  {
   "cell_type": "markdown",
   "metadata": {},
   "source": [
    "# Plot the residual against the fitted values in original coordinates."
   ]
  },
  {
   "cell_type": "code",
   "execution_count": 17,
   "metadata": {
    "collapsed": false
   },
   "outputs": [
    {
     "data": {
      "text/plain": [
       "array([ 11.61383311,   8.35792541,   7.26201771,   7.07611   ,\n",
       "         6.9602023 ,   7.40543305,   8.28066379,   9.24589453,\n",
       "        10.12112528,  12.32158677,  14.52204825,  16.82250974,\n",
       "        19.07297123,  21.41343272,  23.63389421,  28.27481718,\n",
       "        32.99574016,  37.66666313,  40.03712462,  42.36758611,  44.7480476 ])"
      ]
     },
     "execution_count": 17,
     "metadata": {},
     "output_type": "execute_result"
    }
   ],
   "source": [
    "x_axis = preds_original\n",
    "y_axis = np.array(data.Sulfate - x_axis)\n",
    "y_axis"
   ]
  },
  {
   "cell_type": "code",
   "execution_count": 18,
   "metadata": {
    "collapsed": false
   },
   "outputs": [
    {
     "data": {
      "image/png": "[encoded data removed]",
      "text/plain": [
       "<matplotlib.figure.Figure at 0x116a52630>"
      ]
     },
     "metadata": {},
     "output_type": "display_data"
    }
   ],
   "source": [
    "plt.scatter(x_axis, y_axis)\n",
    "plt.xlabel(\"Predicted values for Sulfate\")\n",
    "plt.ylabel(\"Standardized residuls\")\n",
    "plt.grid()"
   ]
  },
  {
   "cell_type": "code",
   "execution_count": null,
   "metadata": {
    "collapsed": true
   },
   "outputs": [],
   "source": []
  },
  {
   "cell_type": "code",
   "execution_count": 19,
   "metadata": {
    "collapsed": false
   },
   "outputs": [
    {
     "data": {
      "text/html": [
       "<div>\n",
       "<table border=\"1\" class=\"dataframe\">\n",
       "  <thead>\n",
       "    <tr style=\"text-align: right;\">\n",
       "      <th></th>\n",
       "      <th>Mass</th>\n",
       "      <th>Fore</th>\n",
       "      <th>Bicep</th>\n",
       "      <th>Chest</th>\n",
       "      <th>Neck</th>\n",
       "      <th>Shoulder</th>\n",
       "      <th>Waist</th>\n",
       "      <th>Height</th>\n",
       "      <th>Calf</th>\n",
       "      <th>Thigh</th>\n",
       "      <th>Head</th>\n",
       "    </tr>\n",
       "  </thead>\n",
       "  <tbody>\n",
       "    <tr>\n",
       "      <th>0</th>\n",
       "      <td>77.0</td>\n",
       "      <td>28.5</td>\n",
       "      <td>33.5</td>\n",
       "      <td>100.0</td>\n",
       "      <td>38.5</td>\n",
       "      <td>114.0</td>\n",
       "      <td>85.0</td>\n",
       "      <td>178.0</td>\n",
       "      <td>37.5</td>\n",
       "      <td>53.0</td>\n",
       "      <td>58.0</td>\n",
       "    </tr>\n",
       "    <tr>\n",
       "      <th>1</th>\n",
       "      <td>85.5</td>\n",
       "      <td>29.5</td>\n",
       "      <td>36.5</td>\n",
       "      <td>107.0</td>\n",
       "      <td>39.0</td>\n",
       "      <td>119.0</td>\n",
       "      <td>90.5</td>\n",
       "      <td>187.0</td>\n",
       "      <td>40.0</td>\n",
       "      <td>52.0</td>\n",
       "      <td>59.0</td>\n",
       "    </tr>\n",
       "    <tr>\n",
       "      <th>2</th>\n",
       "      <td>63.0</td>\n",
       "      <td>25.0</td>\n",
       "      <td>31.0</td>\n",
       "      <td>94.0</td>\n",
       "      <td>36.5</td>\n",
       "      <td>102.0</td>\n",
       "      <td>80.5</td>\n",
       "      <td>175.0</td>\n",
       "      <td>33.0</td>\n",
       "      <td>49.0</td>\n",
       "      <td>57.0</td>\n",
       "    </tr>\n",
       "    <tr>\n",
       "      <th>3</th>\n",
       "      <td>80.5</td>\n",
       "      <td>28.5</td>\n",
       "      <td>34.0</td>\n",
       "      <td>104.0</td>\n",
       "      <td>39.0</td>\n",
       "      <td>114.0</td>\n",
       "      <td>91.5</td>\n",
       "      <td>183.0</td>\n",
       "      <td>38.0</td>\n",
       "      <td>50.0</td>\n",
       "      <td>60.0</td>\n",
       "    </tr>\n",
       "    <tr>\n",
       "      <th>4</th>\n",
       "      <td>79.5</td>\n",
       "      <td>28.5</td>\n",
       "      <td>36.5</td>\n",
       "      <td>107.0</td>\n",
       "      <td>39.0</td>\n",
       "      <td>114.0</td>\n",
       "      <td>92.0</td>\n",
       "      <td>174.0</td>\n",
       "      <td>40.0</td>\n",
       "      <td>53.0</td>\n",
       "      <td>59.0</td>\n",
       "    </tr>\n",
       "    <tr>\n",
       "      <th>5</th>\n",
       "      <td>94.0</td>\n",
       "      <td>30.5</td>\n",
       "      <td>38.0</td>\n",
       "      <td>112.0</td>\n",
       "      <td>39.0</td>\n",
       "      <td>121.0</td>\n",
       "      <td>101.0</td>\n",
       "      <td>180.0</td>\n",
       "      <td>39.5</td>\n",
       "      <td>57.5</td>\n",
       "      <td>59.0</td>\n",
       "    </tr>\n",
       "    <tr>\n",
       "      <th>6</th>\n",
       "      <td>66.0</td>\n",
       "      <td>26.5</td>\n",
       "      <td>29.0</td>\n",
       "      <td>93.0</td>\n",
       "      <td>35.0</td>\n",
       "      <td>105.0</td>\n",
       "      <td>76.0</td>\n",
       "      <td>177.5</td>\n",
       "      <td>38.5</td>\n",
       "      <td>50.0</td>\n",
       "      <td>58.5</td>\n",
       "    </tr>\n",
       "    <tr>\n",
       "      <th>7</th>\n",
       "      <td>69.0</td>\n",
       "      <td>27.0</td>\n",
       "      <td>31.0</td>\n",
       "      <td>95.0</td>\n",
       "      <td>37.0</td>\n",
       "      <td>108.0</td>\n",
       "      <td>84.0</td>\n",
       "      <td>182.5</td>\n",
       "      <td>36.0</td>\n",
       "      <td>49.0</td>\n",
       "      <td>60.0</td>\n",
       "    </tr>\n",
       "    <tr>\n",
       "      <th>8</th>\n",
       "      <td>65.0</td>\n",
       "      <td>26.5</td>\n",
       "      <td>29.0</td>\n",
       "      <td>93.0</td>\n",
       "      <td>35.0</td>\n",
       "      <td>112.0</td>\n",
       "      <td>74.0</td>\n",
       "      <td>178.5</td>\n",
       "      <td>34.0</td>\n",
       "      <td>47.0</td>\n",
       "      <td>55.5</td>\n",
       "    </tr>\n",
       "    <tr>\n",
       "      <th>9</th>\n",
       "      <td>58.0</td>\n",
       "      <td>26.5</td>\n",
       "      <td>31.0</td>\n",
       "      <td>96.0</td>\n",
       "      <td>35.0</td>\n",
       "      <td>103.0</td>\n",
       "      <td>76.0</td>\n",
       "      <td>168.5</td>\n",
       "      <td>35.0</td>\n",
       "      <td>46.0</td>\n",
       "      <td>58.0</td>\n",
       "    </tr>\n",
       "    <tr>\n",
       "      <th>10</th>\n",
       "      <td>69.5</td>\n",
       "      <td>28.5</td>\n",
       "      <td>37.0</td>\n",
       "      <td>109.5</td>\n",
       "      <td>39.0</td>\n",
       "      <td>118.0</td>\n",
       "      <td>80.0</td>\n",
       "      <td>170.0</td>\n",
       "      <td>38.0</td>\n",
       "      <td>50.0</td>\n",
       "      <td>58.5</td>\n",
       "    </tr>\n",
       "    <tr>\n",
       "      <th>11</th>\n",
       "      <td>73.0</td>\n",
       "      <td>27.5</td>\n",
       "      <td>33.0</td>\n",
       "      <td>102.0</td>\n",
       "      <td>38.5</td>\n",
       "      <td>113.0</td>\n",
       "      <td>86.0</td>\n",
       "      <td>180.0</td>\n",
       "      <td>36.0</td>\n",
       "      <td>49.0</td>\n",
       "      <td>59.0</td>\n",
       "    </tr>\n",
       "    <tr>\n",
       "      <th>12</th>\n",
       "      <td>74.0</td>\n",
       "      <td>29.5</td>\n",
       "      <td>36.0</td>\n",
       "      <td>101.0</td>\n",
       "      <td>38.5</td>\n",
       "      <td>115.5</td>\n",
       "      <td>82.0</td>\n",
       "      <td>186.5</td>\n",
       "      <td>38.0</td>\n",
       "      <td>49.0</td>\n",
       "      <td>60.0</td>\n",
       "    </tr>\n",
       "    <tr>\n",
       "      <th>13</th>\n",
       "      <td>68.0</td>\n",
       "      <td>25.0</td>\n",
       "      <td>30.0</td>\n",
       "      <td>98.5</td>\n",
       "      <td>37.0</td>\n",
       "      <td>108.0</td>\n",
       "      <td>82.0</td>\n",
       "      <td>188.0</td>\n",
       "      <td>37.0</td>\n",
       "      <td>49.5</td>\n",
       "      <td>57.0</td>\n",
       "    </tr>\n",
       "    <tr>\n",
       "      <th>14</th>\n",
       "      <td>80.0</td>\n",
       "      <td>29.5</td>\n",
       "      <td>36.0</td>\n",
       "      <td>103.0</td>\n",
       "      <td>40.0</td>\n",
       "      <td>117.0</td>\n",
       "      <td>95.5</td>\n",
       "      <td>173.0</td>\n",
       "      <td>37.0</td>\n",
       "      <td>52.5</td>\n",
       "      <td>58.0</td>\n",
       "    </tr>\n",
       "    <tr>\n",
       "      <th>15</th>\n",
       "      <td>66.0</td>\n",
       "      <td>26.5</td>\n",
       "      <td>32.5</td>\n",
       "      <td>89.0</td>\n",
       "      <td>35.0</td>\n",
       "      <td>104.5</td>\n",
       "      <td>81.0</td>\n",
       "      <td>171.0</td>\n",
       "      <td>38.0</td>\n",
       "      <td>48.0</td>\n",
       "      <td>56.5</td>\n",
       "    </tr>\n",
       "    <tr>\n",
       "      <th>16</th>\n",
       "      <td>54.5</td>\n",
       "      <td>24.0</td>\n",
       "      <td>30.0</td>\n",
       "      <td>92.5</td>\n",
       "      <td>35.5</td>\n",
       "      <td>102.0</td>\n",
       "      <td>76.0</td>\n",
       "      <td>169.0</td>\n",
       "      <td>32.0</td>\n",
       "      <td>42.0</td>\n",
       "      <td>57.0</td>\n",
       "    </tr>\n",
       "    <tr>\n",
       "      <th>17</th>\n",
       "      <td>64.0</td>\n",
       "      <td>25.5</td>\n",
       "      <td>28.5</td>\n",
       "      <td>87.5</td>\n",
       "      <td>35.0</td>\n",
       "      <td>109.0</td>\n",
       "      <td>84.0</td>\n",
       "      <td>181.0</td>\n",
       "      <td>35.5</td>\n",
       "      <td>42.0</td>\n",
       "      <td>58.0</td>\n",
       "    </tr>\n",
       "    <tr>\n",
       "      <th>18</th>\n",
       "      <td>84.0</td>\n",
       "      <td>30.0</td>\n",
       "      <td>34.5</td>\n",
       "      <td>99.0</td>\n",
       "      <td>40.5</td>\n",
       "      <td>119.0</td>\n",
       "      <td>88.0</td>\n",
       "      <td>188.0</td>\n",
       "      <td>39.0</td>\n",
       "      <td>50.5</td>\n",
       "      <td>56.0</td>\n",
       "    </tr>\n",
       "    <tr>\n",
       "      <th>19</th>\n",
       "      <td>73.0</td>\n",
       "      <td>28.0</td>\n",
       "      <td>34.5</td>\n",
       "      <td>97.0</td>\n",
       "      <td>37.0</td>\n",
       "      <td>104.0</td>\n",
       "      <td>82.0</td>\n",
       "      <td>173.0</td>\n",
       "      <td>38.0</td>\n",
       "      <td>49.0</td>\n",
       "      <td>58.0</td>\n",
       "    </tr>\n",
       "    <tr>\n",
       "      <th>20</th>\n",
       "      <td>89.0</td>\n",
       "      <td>29.0</td>\n",
       "      <td>35.5</td>\n",
       "      <td>106.0</td>\n",
       "      <td>39.0</td>\n",
       "      <td>118.0</td>\n",
       "      <td>96.0</td>\n",
       "      <td>179.0</td>\n",
       "      <td>39.5</td>\n",
       "      <td>51.0</td>\n",
       "      <td>58.5</td>\n",
       "    </tr>\n",
       "    <tr>\n",
       "      <th>21</th>\n",
       "      <td>94.0</td>\n",
       "      <td>31.0</td>\n",
       "      <td>33.5</td>\n",
       "      <td>106.0</td>\n",
       "      <td>39.0</td>\n",
       "      <td>120.0</td>\n",
       "      <td>99.5</td>\n",
       "      <td>184.0</td>\n",
       "      <td>42.0</td>\n",
       "      <td>55.0</td>\n",
       "      <td>57.0</td>\n",
       "    </tr>\n",
       "  </tbody>\n",
       "</table>\n",
       "</div>"
      ],
      "text/plain": [
       "    Mass  Fore  Bicep  Chest  Neck  Shoulder  Waist  Height  Calf  Thigh  Head\n",
       "0   77.0  28.5   33.5  100.0  38.5     114.0   85.0   178.0  37.5   53.0  58.0\n",
       "1   85.5  29.5   36.5  107.0  39.0     119.0   90.5   187.0  40.0   52.0  59.0\n",
       "2   63.0  25.0   31.0   94.0  36.5     102.0   80.5   175.0  33.0   49.0  57.0\n",
       "3   80.5  28.5   34.0  104.0  39.0     114.0   91.5   183.0  38.0   50.0  60.0\n",
       "4   79.5  28.5   36.5  107.0  39.0     114.0   92.0   174.0  40.0   53.0  59.0\n",
       "5   94.0  30.5   38.0  112.0  39.0     121.0  101.0   180.0  39.5   57.5  59.0\n",
       "6   66.0  26.5   29.0   93.0  35.0     105.0   76.0   177.5  38.5   50.0  58.5\n",
       "7   69.0  27.0   31.0   95.0  37.0     108.0   84.0   182.5  36.0   49.0  60.0\n",
       "8   65.0  26.5   29.0   93.0  35.0     112.0   74.0   178.5  34.0   47.0  55.5\n",
       "9   58.0  26.5   31.0   96.0  35.0     103.0   76.0   168.5  35.0   46.0  58.0\n",
       "10  69.5  28.5   37.0  109.5  39.0     118.0   80.0   170.0  38.0   50.0  58.5\n",
       "11  73.0  27.5   33.0  102.0  38.5     113.0   86.0   180.0  36.0   49.0  59.0\n",
       "12  74.0  29.5   36.0  101.0  38.5     115.5   82.0   186.5  38.0   49.0  60.0\n",
       "13  68.0  25.0   30.0   98.5  37.0     108.0   82.0   188.0  37.0   49.5  57.0\n",
       "14  80.0  29.5   36.0  103.0  40.0     117.0   95.5   173.0  37.0   52.5  58.0\n",
       "15  66.0  26.5   32.5   89.0  35.0     104.5   81.0   171.0  38.0   48.0  56.5\n",
       "16  54.5  24.0   30.0   92.5  35.5     102.0   76.0   169.0  32.0   42.0  57.0\n",
       "17  64.0  25.5   28.5   87.5  35.0     109.0   84.0   181.0  35.5   42.0  58.0\n",
       "18  84.0  30.0   34.5   99.0  40.5     119.0   88.0   188.0  39.0   50.5  56.0\n",
       "19  73.0  28.0   34.5   97.0  37.0     104.0   82.0   173.0  38.0   49.0  58.0\n",
       "20  89.0  29.0   35.5  106.0  39.0     118.0   96.0   179.0  39.5   51.0  58.5\n",
       "21  94.0  31.0   33.5  106.0  39.0     120.0   99.5   184.0  42.0   55.0  57.0"
      ]
     },
     "execution_count": 19,
     "metadata": {},
     "output_type": "execute_result"
    }
   ],
   "source": [
    "data2"
   ]
  },
  {
   "cell_type": "code",
   "execution_count": 20,
   "metadata": {
    "collapsed": false
   },
   "outputs": [
    {
     "data": {
      "text/plain": [
       "Intercept   -69.517135\n",
       "Fore          1.781819\n",
       "Bicep         0.155090\n",
       "Chest         0.189135\n",
       "Neck         -0.481837\n",
       "Shoulder     -0.029312\n",
       "Waist         0.661441\n",
       "Height        0.317846\n",
       "Calf          0.445890\n",
       "Thigh         0.297212\n",
       "Head         -0.919563\n",
       "dtype: float64"
      ]
     },
     "execution_count": 20,
     "metadata": {},
     "output_type": "execute_result"
    }
   ],
   "source": [
    "lm2 = smf.ols(formula='Mass ~ Fore + Bicep + Chest + Neck + Shoulder + Waist + Height + Calf + Thigh + Head', data=data2).fit()\n",
    "lm2.params"
   ]
  },
  {
   "cell_type": "code",
   "execution_count": 33,
   "metadata": {
    "collapsed": false
   },
   "outputs": [
    {
     "data": {
      "text/html": [
       "<table class=\"simpletable\">\n",
       "<caption>OLS Regression Results</caption>\n",
       "<tr>\n",
       "  <th>Dep. Variable:</th>          <td>Mass</td>       <th>  R-squared:         </th> <td>   0.977</td>\n",
       "</tr>\n",
       "<tr>\n",
       "  <th>Model:</th>                   <td>OLS</td>       <th>  Adj. R-squared:    </th> <td>   0.956</td>\n",
       "</tr>\n",
       "<tr>\n",
       "  <th>Method:</th>             <td>Least Squares</td>  <th>  F-statistic:       </th> <td>   47.17</td>\n",
       "</tr>\n",
       "<tr>\n",
       "  <th>Date:</th>             <td>Mon, 27 Feb 2017</td> <th>  Prob (F-statistic):</th> <td>1.41e-07</td>\n",
       "</tr>\n",
       "<tr>\n",
       "  <th>Time:</th>                 <td>23:28:20</td>     <th>  Log-Likelihood:    </th> <td> -41.789</td>\n",
       "</tr>\n",
       "<tr>\n",
       "  <th>No. Observations:</th>      <td>    22</td>      <th>  AIC:               </th> <td>   105.6</td>\n",
       "</tr>\n",
       "<tr>\n",
       "  <th>Df Residuals:</th>          <td>    11</td>      <th>  BIC:               </th> <td>   117.6</td>\n",
       "</tr>\n",
       "<tr>\n",
       "  <th>Df Model:</th>              <td>    10</td>      <th>                     </th>     <td> </td>   \n",
       "</tr>\n",
       "<tr>\n",
       "  <th>Covariance Type:</th>      <td>nonrobust</td>    <th>                     </th>     <td> </td>   \n",
       "</tr>\n",
       "</table>\n",
       "<table class=\"simpletable\">\n",
       "<tr>\n",
       "      <td></td>         <th>coef</th>     <th>std err</th>      <th>t</th>      <th>P>|t|</th> <th>[95.0% Conf. Int.]</th> \n",
       "</tr>\n",
       "<tr>\n",
       "  <th>Intercept</th> <td>  -69.5171</td> <td>   29.037</td> <td>   -2.394</td> <td> 0.036</td> <td> -133.428    -5.606</td>\n",
       "</tr>\n",
       "<tr>\n",
       "  <th>Fore</th>      <td>    1.7818</td> <td>    0.855</td> <td>    2.085</td> <td> 0.061</td> <td>   -0.099     3.663</td>\n",
       "</tr>\n",
       "<tr>\n",
       "  <th>Bicep</th>     <td>    0.1551</td> <td>    0.485</td> <td>    0.320</td> <td> 0.755</td> <td>   -0.913     1.223</td>\n",
       "</tr>\n",
       "<tr>\n",
       "  <th>Chest</th>     <td>    0.1891</td> <td>    0.226</td> <td>    0.838</td> <td> 0.420</td> <td>   -0.308     0.686</td>\n",
       "</tr>\n",
       "<tr>\n",
       "  <th>Neck</th>      <td>   -0.4818</td> <td>    0.721</td> <td>   -0.669</td> <td> 0.518</td> <td>   -2.068     1.104</td>\n",
       "</tr>\n",
       "<tr>\n",
       "  <th>Shoulder</th>  <td>   -0.0293</td> <td>    0.239</td> <td>   -0.122</td> <td> 0.905</td> <td>   -0.556     0.498</td>\n",
       "</tr>\n",
       "<tr>\n",
       "  <th>Waist</th>     <td>    0.6614</td> <td>    0.116</td> <td>    5.679</td> <td> 0.000</td> <td>    0.405     0.918</td>\n",
       "</tr>\n",
       "<tr>\n",
       "  <th>Height</th>    <td>    0.3178</td> <td>    0.130</td> <td>    2.438</td> <td> 0.033</td> <td>    0.031     0.605</td>\n",
       "</tr>\n",
       "<tr>\n",
       "  <th>Calf</th>      <td>    0.4459</td> <td>    0.413</td> <td>    1.081</td> <td> 0.303</td> <td>   -0.462     1.354</td>\n",
       "</tr>\n",
       "<tr>\n",
       "  <th>Thigh</th>     <td>    0.2972</td> <td>    0.305</td> <td>    0.974</td> <td> 0.351</td> <td>   -0.374     0.969</td>\n",
       "</tr>\n",
       "<tr>\n",
       "  <th>Head</th>      <td>   -0.9196</td> <td>    0.520</td> <td>   -1.768</td> <td> 0.105</td> <td>   -2.064     0.225</td>\n",
       "</tr>\n",
       "</table>\n",
       "<table class=\"simpletable\">\n",
       "<tr>\n",
       "  <th>Omnibus:</th>       <td> 1.829</td> <th>  Durbin-Watson:     </th> <td>   1.625</td>\n",
       "</tr>\n",
       "<tr>\n",
       "  <th>Prob(Omnibus):</th> <td> 0.401</td> <th>  Jarque-Bera (JB):  </th> <td>   0.991</td>\n",
       "</tr>\n",
       "<tr>\n",
       "  <th>Skew:</th>          <td> 0.519</td> <th>  Prob(JB):          </th> <td>   0.609</td>\n",
       "</tr>\n",
       "<tr>\n",
       "  <th>Kurtosis:</th>      <td> 3.073</td> <th>  Cond. No.          </th> <td>1.60e+04</td>\n",
       "</tr>\n",
       "</table>"
      ],
      "text/plain": [
       "<class 'statsmodels.iolib.summary.Summary'>\n",
       "\"\"\"\n",
       "                            OLS Regression Results                            \n",
       "==============================================================================\n",
       "Dep. Variable:                   Mass   R-squared:                       0.977\n",
       "Model:                            OLS   Adj. R-squared:                  0.956\n",
       "Method:                 Least Squares   F-statistic:                     47.17\n",
       "Date:                Mon, 27 Feb 2017   Prob (F-statistic):           1.41e-07\n",
       "Time:                        23:28:20   Log-Likelihood:                -41.789\n",
       "No. Observations:                  22   AIC:                             105.6\n",
       "Df Residuals:                      11   BIC:                             117.6\n",
       "Df Model:                          10                                         \n",
       "Covariance Type:            nonrobust                                         \n",
       "==============================================================================\n",
       "                 coef    std err          t      P>|t|      [95.0% Conf. Int.]\n",
       "------------------------------------------------------------------------------\n",
       "Intercept    -69.5171     29.037     -2.394      0.036      -133.428    -5.606\n",
       "Fore           1.7818      0.855      2.085      0.061        -0.099     3.663\n",
       "Bicep          0.1551      0.485      0.320      0.755        -0.913     1.223\n",
       "Chest          0.1891      0.226      0.838      0.420        -0.308     0.686\n",
       "Neck          -0.4818      0.721     -0.669      0.518        -2.068     1.104\n",
       "Shoulder      -0.0293      0.239     -0.122      0.905        -0.556     0.498\n",
       "Waist          0.6614      0.116      5.679      0.000         0.405     0.918\n",
       "Height         0.3178      0.130      2.438      0.033         0.031     0.605\n",
       "Calf           0.4459      0.413      1.081      0.303        -0.462     1.354\n",
       "Thigh          0.2972      0.305      0.974      0.351        -0.374     0.969\n",
       "Head          -0.9196      0.520     -1.768      0.105        -2.064     0.225\n",
       "==============================================================================\n",
       "Omnibus:                        1.829   Durbin-Watson:                   1.625\n",
       "Prob(Omnibus):                  0.401   Jarque-Bera (JB):                0.991\n",
       "Skew:                           0.519   Prob(JB):                        0.609\n",
       "Kurtosis:                       3.073   Cond. No.                     1.60e+04\n",
       "==============================================================================\n",
       "\n",
       "Warnings:\n",
       "[1] Standard Errors assume that the covariance matrix of the errors is correctly specified.\n",
       "[2] The condition number is large, 1.6e+04. This might indicate that there are\n",
       "strong multicollinearity or other numerical problems.\n",
       "\"\"\""
      ]
     },
     "execution_count": 33,
     "metadata": {},
     "output_type": "execute_result"
    }
   ],
   "source": [
    "lm2.summary()"
   ]
  },
  {
   "cell_type": "code",
   "execution_count": 22,
   "metadata": {
    "collapsed": false
   },
   "outputs": [],
   "source": [
    "features = data2.drop(['Mass'], axis=1)"
   ]
  },
  {
   "cell_type": "code",
   "execution_count": 23,
   "metadata": {
    "collapsed": false
   },
   "outputs": [
    {
     "data": {
      "text/plain": [
       "array([ 75.41910814,  84.99916116,  62.76980909,  79.3930597 ,\n",
       "        80.52127459,  94.03259848,  64.76643423,  69.38366451,\n",
       "        63.416757  ,  60.55234445,  70.4220923 ,  72.48721443,\n",
       "        75.6461613 ,  70.10536813,  82.32971607,  66.83032498,\n",
       "        53.62109325,  64.89798085,  83.8752733 ,  70.59230182,\n",
       "        84.82811752,  95.61014467])"
      ]
     },
     "execution_count": 23,
     "metadata": {},
     "output_type": "execute_result"
    }
   ],
   "source": [
    "Mass_predicted = lm2.predict(features)\n",
    "Mass_predicted"
   ]
  },
  {
   "cell_type": "code",
   "execution_count": 24,
   "metadata": {
    "collapsed": false
   },
   "outputs": [
    {
     "data": {
      "text/plain": [
       "array([ 1.58089186,  0.50083884,  0.23019091,  1.1069403 , -1.02127459,\n",
       "       -0.03259848,  1.23356577, -0.38366451,  1.583243  , -2.55234445,\n",
       "       -0.9220923 ,  0.51278557, -1.6461613 , -2.10536813, -2.32971607,\n",
       "       -0.83032498,  0.87890675, -0.89798085,  0.1247267 ,  2.40769818,\n",
       "        4.17188248, -1.61014467])"
      ]
     },
     "execution_count": 24,
     "metadata": {},
     "output_type": "execute_result"
    }
   ],
   "source": [
    "x_axis = Mass_predicted\n",
    "y_axis = np.array(data2.Mass - Mass_predicted)\n",
    "y_axis"
   ]
  },
  {
   "cell_type": "code",
   "execution_count": 25,
   "metadata": {
    "collapsed": false
   },
   "outputs": [
    {
     "data": {
      "image/png": "[encoded data removed]",
      "text/plain": [
       "<matplotlib.figure.Figure at 0x116ca22b0>"
      ]
     },
     "metadata": {},
     "output_type": "display_data"
    }
   ],
   "source": [
    "plt.scatter(x_axis, y_axis)\n",
    "plt.xlabel(\"Predicted values for Mass\")\n",
    "plt.ylabel(\"Standardized residuls\")\n",
    "plt.grid()"
   ]
  },
  {
   "cell_type": "markdown",
   "metadata": {},
   "source": [
    "# Regress the cube root of mass against these diameters"
   ]
  },
  {
   "cell_type": "code",
   "execution_count": 30,
   "metadata": {
    "collapsed": false
   },
   "outputs": [],
   "source": [
    "data_cubed = pd.DataFrame({'Mass': data2.Mass**(1./3.)})\n",
    "data_cubed = pd.concat([data_cubed, features], axis=1)"
   ]
  },
  {
   "cell_type": "code",
   "execution_count": 31,
   "metadata": {
    "collapsed": false
   },
   "outputs": [
    {
     "data": {
      "text/html": [
       "<div>\n",
       "<table border=\"1\" class=\"dataframe\">\n",
       "  <thead>\n",
       "    <tr style=\"text-align: right;\">\n",
       "      <th></th>\n",
       "      <th>Mass</th>\n",
       "      <th>Fore</th>\n",
       "      <th>Bicep</th>\n",
       "      <th>Chest</th>\n",
       "      <th>Neck</th>\n",
       "      <th>Shoulder</th>\n",
       "      <th>Waist</th>\n",
       "      <th>Height</th>\n",
       "      <th>Calf</th>\n",
       "      <th>Thigh</th>\n",
       "      <th>Head</th>\n",
       "    </tr>\n",
       "  </thead>\n",
       "  <tbody>\n",
       "    <tr>\n",
       "      <th>0</th>\n",
       "      <td>4.254321</td>\n",
       "      <td>28.5</td>\n",
       "      <td>33.5</td>\n",
       "      <td>100.0</td>\n",
       "      <td>38.5</td>\n",
       "      <td>114.0</td>\n",
       "      <td>85.0</td>\n",
       "      <td>178.0</td>\n",
       "      <td>37.5</td>\n",
       "      <td>53.0</td>\n",
       "      <td>58.0</td>\n",
       "    </tr>\n",
       "    <tr>\n",
       "      <th>1</th>\n",
       "      <td>4.405434</td>\n",
       "      <td>29.5</td>\n",
       "      <td>36.5</td>\n",
       "      <td>107.0</td>\n",
       "      <td>39.0</td>\n",
       "      <td>119.0</td>\n",
       "      <td>90.5</td>\n",
       "      <td>187.0</td>\n",
       "      <td>40.0</td>\n",
       "      <td>52.0</td>\n",
       "      <td>59.0</td>\n",
       "    </tr>\n",
       "    <tr>\n",
       "      <th>2</th>\n",
       "      <td>3.979057</td>\n",
       "      <td>25.0</td>\n",
       "      <td>31.0</td>\n",
       "      <td>94.0</td>\n",
       "      <td>36.5</td>\n",
       "      <td>102.0</td>\n",
       "      <td>80.5</td>\n",
       "      <td>175.0</td>\n",
       "      <td>33.0</td>\n",
       "      <td>49.0</td>\n",
       "      <td>57.0</td>\n",
       "    </tr>\n",
       "    <tr>\n",
       "      <th>3</th>\n",
       "      <td>4.317828</td>\n",
       "      <td>28.5</td>\n",
       "      <td>34.0</td>\n",
       "      <td>104.0</td>\n",
       "      <td>39.0</td>\n",
       "      <td>114.0</td>\n",
       "      <td>91.5</td>\n",
       "      <td>183.0</td>\n",
       "      <td>38.0</td>\n",
       "      <td>50.0</td>\n",
       "      <td>60.0</td>\n",
       "    </tr>\n",
       "    <tr>\n",
       "      <th>4</th>\n",
       "      <td>4.299874</td>\n",
       "      <td>28.5</td>\n",
       "      <td>36.5</td>\n",
       "      <td>107.0</td>\n",
       "      <td>39.0</td>\n",
       "      <td>114.0</td>\n",
       "      <td>92.0</td>\n",
       "      <td>174.0</td>\n",
       "      <td>40.0</td>\n",
       "      <td>53.0</td>\n",
       "      <td>59.0</td>\n",
       "    </tr>\n",
       "    <tr>\n",
       "      <th>5</th>\n",
       "      <td>4.546836</td>\n",
       "      <td>30.5</td>\n",
       "      <td>38.0</td>\n",
       "      <td>112.0</td>\n",
       "      <td>39.0</td>\n",
       "      <td>121.0</td>\n",
       "      <td>101.0</td>\n",
       "      <td>180.0</td>\n",
       "      <td>39.5</td>\n",
       "      <td>57.5</td>\n",
       "      <td>59.0</td>\n",
       "    </tr>\n",
       "    <tr>\n",
       "      <th>6</th>\n",
       "      <td>4.041240</td>\n",
       "      <td>26.5</td>\n",
       "      <td>29.0</td>\n",
       "      <td>93.0</td>\n",
       "      <td>35.0</td>\n",
       "      <td>105.0</td>\n",
       "      <td>76.0</td>\n",
       "      <td>177.5</td>\n",
       "      <td>38.5</td>\n",
       "      <td>50.0</td>\n",
       "      <td>58.5</td>\n",
       "    </tr>\n",
       "    <tr>\n",
       "      <th>7</th>\n",
       "      <td>4.101566</td>\n",
       "      <td>27.0</td>\n",
       "      <td>31.0</td>\n",
       "      <td>95.0</td>\n",
       "      <td>37.0</td>\n",
       "      <td>108.0</td>\n",
       "      <td>84.0</td>\n",
       "      <td>182.5</td>\n",
       "      <td>36.0</td>\n",
       "      <td>49.0</td>\n",
       "      <td>60.0</td>\n",
       "    </tr>\n",
       "    <tr>\n",
       "      <th>8</th>\n",
       "      <td>4.020726</td>\n",
       "      <td>26.5</td>\n",
       "      <td>29.0</td>\n",
       "      <td>93.0</td>\n",
       "      <td>35.0</td>\n",
       "      <td>112.0</td>\n",
       "      <td>74.0</td>\n",
       "      <td>178.5</td>\n",
       "      <td>34.0</td>\n",
       "      <td>47.0</td>\n",
       "      <td>55.5</td>\n",
       "    </tr>\n",
       "    <tr>\n",
       "      <th>9</th>\n",
       "      <td>3.870877</td>\n",
       "      <td>26.5</td>\n",
       "      <td>31.0</td>\n",
       "      <td>96.0</td>\n",
       "      <td>35.0</td>\n",
       "      <td>103.0</td>\n",
       "      <td>76.0</td>\n",
       "      <td>168.5</td>\n",
       "      <td>35.0</td>\n",
       "      <td>46.0</td>\n",
       "      <td>58.0</td>\n",
       "    </tr>\n",
       "    <tr>\n",
       "      <th>10</th>\n",
       "      <td>4.111449</td>\n",
       "      <td>28.5</td>\n",
       "      <td>37.0</td>\n",
       "      <td>109.5</td>\n",
       "      <td>39.0</td>\n",
       "      <td>118.0</td>\n",
       "      <td>80.0</td>\n",
       "      <td>170.0</td>\n",
       "      <td>38.0</td>\n",
       "      <td>50.0</td>\n",
       "      <td>58.5</td>\n",
       "    </tr>\n",
       "    <tr>\n",
       "      <th>11</th>\n",
       "      <td>4.179339</td>\n",
       "      <td>27.5</td>\n",
       "      <td>33.0</td>\n",
       "      <td>102.0</td>\n",
       "      <td>38.5</td>\n",
       "      <td>113.0</td>\n",
       "      <td>86.0</td>\n",
       "      <td>180.0</td>\n",
       "      <td>36.0</td>\n",
       "      <td>49.0</td>\n",
       "      <td>59.0</td>\n",
       "    </tr>\n",
       "    <tr>\n",
       "      <th>12</th>\n",
       "      <td>4.198336</td>\n",
       "      <td>29.5</td>\n",
       "      <td>36.0</td>\n",
       "      <td>101.0</td>\n",
       "      <td>38.5</td>\n",
       "      <td>115.5</td>\n",
       "      <td>82.0</td>\n",
       "      <td>186.5</td>\n",
       "      <td>38.0</td>\n",
       "      <td>49.0</td>\n",
       "      <td>60.0</td>\n",
       "    </tr>\n",
       "    <tr>\n",
       "      <th>13</th>\n",
       "      <td>4.081655</td>\n",
       "      <td>25.0</td>\n",
       "      <td>30.0</td>\n",
       "      <td>98.5</td>\n",
       "      <td>37.0</td>\n",
       "      <td>108.0</td>\n",
       "      <td>82.0</td>\n",
       "      <td>188.0</td>\n",
       "      <td>37.0</td>\n",
       "      <td>49.5</td>\n",
       "      <td>57.0</td>\n",
       "    </tr>\n",
       "    <tr>\n",
       "      <th>14</th>\n",
       "      <td>4.308869</td>\n",
       "      <td>29.5</td>\n",
       "      <td>36.0</td>\n",
       "      <td>103.0</td>\n",
       "      <td>40.0</td>\n",
       "      <td>117.0</td>\n",
       "      <td>95.5</td>\n",
       "      <td>173.0</td>\n",
       "      <td>37.0</td>\n",
       "      <td>52.5</td>\n",
       "      <td>58.0</td>\n",
       "    </tr>\n",
       "    <tr>\n",
       "      <th>15</th>\n",
       "      <td>4.041240</td>\n",
       "      <td>26.5</td>\n",
       "      <td>32.5</td>\n",
       "      <td>89.0</td>\n",
       "      <td>35.0</td>\n",
       "      <td>104.5</td>\n",
       "      <td>81.0</td>\n",
       "      <td>171.0</td>\n",
       "      <td>38.0</td>\n",
       "      <td>48.0</td>\n",
       "      <td>56.5</td>\n",
       "    </tr>\n",
       "    <tr>\n",
       "      <th>16</th>\n",
       "      <td>3.791393</td>\n",
       "      <td>24.0</td>\n",
       "      <td>30.0</td>\n",
       "      <td>92.5</td>\n",
       "      <td>35.5</td>\n",
       "      <td>102.0</td>\n",
       "      <td>76.0</td>\n",
       "      <td>169.0</td>\n",
       "      <td>32.0</td>\n",
       "      <td>42.0</td>\n",
       "      <td>57.0</td>\n",
       "    </tr>\n",
       "    <tr>\n",
       "      <th>17</th>\n",
       "      <td>4.000000</td>\n",
       "      <td>25.5</td>\n",
       "      <td>28.5</td>\n",
       "      <td>87.5</td>\n",
       "      <td>35.0</td>\n",
       "      <td>109.0</td>\n",
       "      <td>84.0</td>\n",
       "      <td>181.0</td>\n",
       "      <td>35.5</td>\n",
       "      <td>42.0</td>\n",
       "      <td>58.0</td>\n",
       "    </tr>\n",
       "    <tr>\n",
       "      <th>18</th>\n",
       "      <td>4.379519</td>\n",
       "      <td>30.0</td>\n",
       "      <td>34.5</td>\n",
       "      <td>99.0</td>\n",
       "      <td>40.5</td>\n",
       "      <td>119.0</td>\n",
       "      <td>88.0</td>\n",
       "      <td>188.0</td>\n",
       "      <td>39.0</td>\n",
       "      <td>50.5</td>\n",
       "      <td>56.0</td>\n",
       "    </tr>\n",
       "    <tr>\n",
       "      <th>19</th>\n",
       "      <td>4.179339</td>\n",
       "      <td>28.0</td>\n",
       "      <td>34.5</td>\n",
       "      <td>97.0</td>\n",
       "      <td>37.0</td>\n",
       "      <td>104.0</td>\n",
       "      <td>82.0</td>\n",
       "      <td>173.0</td>\n",
       "      <td>38.0</td>\n",
       "      <td>49.0</td>\n",
       "      <td>58.0</td>\n",
       "    </tr>\n",
       "    <tr>\n",
       "      <th>20</th>\n",
       "      <td>4.464745</td>\n",
       "      <td>29.0</td>\n",
       "      <td>35.5</td>\n",
       "      <td>106.0</td>\n",
       "      <td>39.0</td>\n",
       "      <td>118.0</td>\n",
       "      <td>96.0</td>\n",
       "      <td>179.0</td>\n",
       "      <td>39.5</td>\n",
       "      <td>51.0</td>\n",
       "      <td>58.5</td>\n",
       "    </tr>\n",
       "    <tr>\n",
       "      <th>21</th>\n",
       "      <td>4.546836</td>\n",
       "      <td>31.0</td>\n",
       "      <td>33.5</td>\n",
       "      <td>106.0</td>\n",
       "      <td>39.0</td>\n",
       "      <td>120.0</td>\n",
       "      <td>99.5</td>\n",
       "      <td>184.0</td>\n",
       "      <td>42.0</td>\n",
       "      <td>55.0</td>\n",
       "      <td>57.0</td>\n",
       "    </tr>\n",
       "  </tbody>\n",
       "</table>\n",
       "</div>"
      ],
      "text/plain": [
       "        Mass  Fore  Bicep  Chest  Neck  Shoulder  Waist  Height  Calf  Thigh  \\\n",
       "0   4.254321  28.5   33.5  100.0  38.5     114.0   85.0   178.0  37.5   53.0   \n",
       "1   4.405434  29.5   36.5  107.0  39.0     119.0   90.5   187.0  40.0   52.0   \n",
       "2   3.979057  25.0   31.0   94.0  36.5     102.0   80.5   175.0  33.0   49.0   \n",
       "3   4.317828  28.5   34.0  104.0  39.0     114.0   91.5   183.0  38.0   50.0   \n",
       "4   4.299874  28.5   36.5  107.0  39.0     114.0   92.0   174.0  40.0   53.0   \n",
       "5   4.546836  30.5   38.0  112.0  39.0     121.0  101.0   180.0  39.5   57.5   \n",
       "6   4.041240  26.5   29.0   93.0  35.0     105.0   76.0   177.5  38.5   50.0   \n",
       "7   4.101566  27.0   31.0   95.0  37.0     108.0   84.0   182.5  36.0   49.0   \n",
       "8   4.020726  26.5   29.0   93.0  35.0     112.0   74.0   178.5  34.0   47.0   \n",
       "9   3.870877  26.5   31.0   96.0  35.0     103.0   76.0   168.5  35.0   46.0   \n",
       "10  4.111449  28.5   37.0  109.5  39.0     118.0   80.0   170.0  38.0   50.0   \n",
       "11  4.179339  27.5   33.0  102.0  38.5     113.0   86.0   180.0  36.0   49.0   \n",
       "12  4.198336  29.5   36.0  101.0  38.5     115.5   82.0   186.5  38.0   49.0   \n",
       "13  4.081655  25.0   30.0   98.5  37.0     108.0   82.0   188.0  37.0   49.5   \n",
       "14  4.308869  29.5   36.0  103.0  40.0     117.0   95.5   173.0  37.0   52.5   \n",
       "15  4.041240  26.5   32.5   89.0  35.0     104.5   81.0   171.0  38.0   48.0   \n",
       "16  3.791393  24.0   30.0   92.5  35.5     102.0   76.0   169.0  32.0   42.0   \n",
       "17  4.000000  25.5   28.5   87.5  35.0     109.0   84.0   181.0  35.5   42.0   \n",
       "18  4.379519  30.0   34.5   99.0  40.5     119.0   88.0   188.0  39.0   50.5   \n",
       "19  4.179339  28.0   34.5   97.0  37.0     104.0   82.0   173.0  38.0   49.0   \n",
       "20  4.464745  29.0   35.5  106.0  39.0     118.0   96.0   179.0  39.5   51.0   \n",
       "21  4.546836  31.0   33.5  106.0  39.0     120.0   99.5   184.0  42.0   55.0   \n",
       "\n",
       "    Head  \n",
       "0   58.0  \n",
       "1   59.0  \n",
       "2   57.0  \n",
       "3   60.0  \n",
       "4   59.0  \n",
       "5   59.0  \n",
       "6   58.5  \n",
       "7   60.0  \n",
       "8   55.5  \n",
       "9   58.0  \n",
       "10  58.5  \n",
       "11  59.0  \n",
       "12  60.0  \n",
       "13  57.0  \n",
       "14  58.0  \n",
       "15  56.5  \n",
       "16  57.0  \n",
       "17  58.0  \n",
       "18  56.0  \n",
       "19  58.0  \n",
       "20  58.5  \n",
       "21  57.0  "
      ]
     },
     "execution_count": 31,
     "metadata": {},
     "output_type": "execute_result"
    }
   ],
   "source": [
    "data_cubed"
   ]
  },
  {
   "cell_type": "code",
   "execution_count": 32,
   "metadata": {
    "collapsed": false
   },
   "outputs": [
    {
     "data": {
      "text/plain": [
       "Intercept    1.119229\n",
       "Fore         0.027972\n",
       "Bicep        0.004144\n",
       "Chest        0.001052\n",
       "Neck        -0.002532\n",
       "Shoulder     0.000810\n",
       "Waist        0.011152\n",
       "Height       0.005774\n",
       "Calf         0.010656\n",
       "Thigh        0.007919\n",
       "Head        -0.012452\n",
       "dtype: float64"
      ]
     },
     "execution_count": 32,
     "metadata": {},
     "output_type": "execute_result"
    }
   ],
   "source": [
    "lm_cubed = smf.ols(formula='Mass ~ Fore + Bicep + Chest + Neck + \\\n",
    "Shoulder + Waist + Height + Calf + Thigh + Head', data=data_cubed).fit()\n",
    "lm_cubed.params"
   ]
  },
  {
   "cell_type": "code",
   "execution_count": 35,
   "metadata": {
    "collapsed": false
   },
   "outputs": [
    {
     "data": {
      "text/html": [
       "<table class=\"simpletable\">\n",
       "<caption>OLS Regression Results</caption>\n",
       "<tr>\n",
       "  <th>Dep. Variable:</th>          <td>Mass</td>       <th>  R-squared:         </th> <td>   0.976</td>\n",
       "</tr>\n",
       "<tr>\n",
       "  <th>Model:</th>                   <td>OLS</td>       <th>  Adj. R-squared:    </th> <td>   0.954</td>\n",
       "</tr>\n",
       "<tr>\n",
       "  <th>Method:</th>             <td>Least Squares</td>  <th>  F-statistic:       </th> <td>   44.44</td>\n",
       "</tr>\n",
       "<tr>\n",
       "  <th>Date:</th>             <td>Mon, 27 Feb 2017</td> <th>  Prob (F-statistic):</th> <td>1.93e-07</td>\n",
       "</tr>\n",
       "<tr>\n",
       "  <th>Time:</th>                 <td>23:28:45</td>     <th>  Log-Likelihood:    </th> <td>  44.910</td>\n",
       "</tr>\n",
       "<tr>\n",
       "  <th>No. Observations:</th>      <td>    22</td>      <th>  AIC:               </th> <td>  -67.82</td>\n",
       "</tr>\n",
       "<tr>\n",
       "  <th>Df Residuals:</th>          <td>    11</td>      <th>  BIC:               </th> <td>  -55.82</td>\n",
       "</tr>\n",
       "<tr>\n",
       "  <th>Df Model:</th>              <td>    10</td>      <th>                     </th>     <td> </td>   \n",
       "</tr>\n",
       "<tr>\n",
       "  <th>Covariance Type:</th>      <td>nonrobust</td>    <th>                     </th>     <td> </td>   \n",
       "</tr>\n",
       "</table>\n",
       "<table class=\"simpletable\">\n",
       "<tr>\n",
       "      <td></td>         <th>coef</th>     <th>std err</th>      <th>t</th>      <th>P>|t|</th> <th>[95.0% Conf. Int.]</th> \n",
       "</tr>\n",
       "<tr>\n",
       "  <th>Intercept</th> <td>    1.1192</td> <td>    0.564</td> <td>    1.984</td> <td> 0.073</td> <td>   -0.123     2.361</td>\n",
       "</tr>\n",
       "<tr>\n",
       "  <th>Fore</th>      <td>    0.0280</td> <td>    0.017</td> <td>    1.684</td> <td> 0.120</td> <td>   -0.009     0.065</td>\n",
       "</tr>\n",
       "<tr>\n",
       "  <th>Bicep</th>     <td>    0.0041</td> <td>    0.009</td> <td>    0.439</td> <td> 0.669</td> <td>   -0.017     0.025</td>\n",
       "</tr>\n",
       "<tr>\n",
       "  <th>Chest</th>     <td>    0.0011</td> <td>    0.004</td> <td>    0.240</td> <td> 0.815</td> <td>   -0.009     0.011</td>\n",
       "</tr>\n",
       "<tr>\n",
       "  <th>Neck</th>      <td>   -0.0025</td> <td>    0.014</td> <td>   -0.181</td> <td> 0.860</td> <td>   -0.033     0.028</td>\n",
       "</tr>\n",
       "<tr>\n",
       "  <th>Shoulder</th>  <td>    0.0008</td> <td>    0.005</td> <td>    0.174</td> <td> 0.865</td> <td>   -0.009     0.011</td>\n",
       "</tr>\n",
       "<tr>\n",
       "  <th>Waist</th>     <td>    0.0112</td> <td>    0.002</td> <td>    4.927</td> <td> 0.000</td> <td>    0.006     0.016</td>\n",
       "</tr>\n",
       "<tr>\n",
       "  <th>Height</th>    <td>    0.0058</td> <td>    0.003</td> <td>    2.279</td> <td> 0.044</td> <td>    0.000     0.011</td>\n",
       "</tr>\n",
       "<tr>\n",
       "  <th>Calf</th>      <td>    0.0107</td> <td>    0.008</td> <td>    1.329</td> <td> 0.211</td> <td>   -0.007     0.028</td>\n",
       "</tr>\n",
       "<tr>\n",
       "  <th>Thigh</th>     <td>    0.0079</td> <td>    0.006</td> <td>    1.336</td> <td> 0.209</td> <td>   -0.005     0.021</td>\n",
       "</tr>\n",
       "<tr>\n",
       "  <th>Head</th>      <td>   -0.0125</td> <td>    0.010</td> <td>   -1.232</td> <td> 0.244</td> <td>   -0.035     0.010</td>\n",
       "</tr>\n",
       "</table>\n",
       "<table class=\"simpletable\">\n",
       "<tr>\n",
       "  <th>Omnibus:</th>       <td> 2.722</td> <th>  Durbin-Watson:     </th> <td>   1.725</td>\n",
       "</tr>\n",
       "<tr>\n",
       "  <th>Prob(Omnibus):</th> <td> 0.256</td> <th>  Jarque-Bera (JB):  </th> <td>   1.735</td>\n",
       "</tr>\n",
       "<tr>\n",
       "  <th>Skew:</th>          <td> 0.688</td> <th>  Prob(JB):          </th> <td>   0.420</td>\n",
       "</tr>\n",
       "<tr>\n",
       "  <th>Kurtosis:</th>      <td> 3.032</td> <th>  Cond. No.          </th> <td>1.60e+04</td>\n",
       "</tr>\n",
       "</table>"
      ],
      "text/plain": [
       "<class 'statsmodels.iolib.summary.Summary'>\n",
       "\"\"\"\n",
       "                            OLS Regression Results                            \n",
       "==============================================================================\n",
       "Dep. Variable:                   Mass   R-squared:                       0.976\n",
       "Model:                            OLS   Adj. R-squared:                  0.954\n",
       "Method:                 Least Squares   F-statistic:                     44.44\n",
       "Date:                Mon, 27 Feb 2017   Prob (F-statistic):           1.93e-07\n",
       "Time:                        23:28:45   Log-Likelihood:                 44.910\n",
       "No. Observations:                  22   AIC:                            -67.82\n",
       "Df Residuals:                      11   BIC:                            -55.82\n",
       "Df Model:                          10                                         \n",
       "Covariance Type:            nonrobust                                         \n",
       "==============================================================================\n",
       "                 coef    std err          t      P>|t|      [95.0% Conf. Int.]\n",
       "------------------------------------------------------------------------------\n",
       "Intercept      1.1192      0.564      1.984      0.073        -0.123     2.361\n",
       "Fore           0.0280      0.017      1.684      0.120        -0.009     0.065\n",
       "Bicep          0.0041      0.009      0.439      0.669        -0.017     0.025\n",
       "Chest          0.0011      0.004      0.240      0.815        -0.009     0.011\n",
       "Neck          -0.0025      0.014     -0.181      0.860        -0.033     0.028\n",
       "Shoulder       0.0008      0.005      0.174      0.865        -0.009     0.011\n",
       "Waist          0.0112      0.002      4.927      0.000         0.006     0.016\n",
       "Height         0.0058      0.003      2.279      0.044         0.000     0.011\n",
       "Calf           0.0107      0.008      1.329      0.211        -0.007     0.028\n",
       "Thigh          0.0079      0.006      1.336      0.209        -0.005     0.021\n",
       "Head          -0.0125      0.010     -1.232      0.244        -0.035     0.010\n",
       "==============================================================================\n",
       "Omnibus:                        2.722   Durbin-Watson:                   1.725\n",
       "Prob(Omnibus):                  0.256   Jarque-Bera (JB):                1.735\n",
       "Skew:                           0.688   Prob(JB):                        0.420\n",
       "Kurtosis:                       3.032   Cond. No.                     1.60e+04\n",
       "==============================================================================\n",
       "\n",
       "Warnings:\n",
       "[1] Standard Errors assume that the covariance matrix of the errors is correctly specified.\n",
       "[2] The condition number is large, 1.6e+04. This might indicate that there are\n",
       "strong multicollinearity or other numerical problems.\n",
       "\"\"\""
      ]
     },
     "execution_count": 35,
     "metadata": {},
     "output_type": "execute_result"
    }
   ],
   "source": [
    "lm_cubed.summary()"
   ]
  },
  {
   "cell_type": "code",
   "execution_count": 36,
   "metadata": {
    "collapsed": false
   },
   "outputs": [
    {
     "data": {
      "text/plain": [
       "array([ 4.22807829,  4.3982012 ,  3.97416548,  4.29111863,  4.3157667 ,\n",
       "        4.55417618,  4.02511261,  4.1117055 ,  3.97989744,  3.92022421,\n",
       "        4.1279417 ,  4.16191621,  4.23304581,  4.11672292,  4.34713976,\n",
       "        4.0569729 ,  3.7920873 ,  4.01285653,  4.38440086,  4.12210494,\n",
       "        4.38633572,  4.58050896])"
      ]
     },
     "execution_count": 36,
     "metadata": {},
     "output_type": "execute_result"
    }
   ],
   "source": [
    "Mass_cube_predicted = lm_cubed.predict(features)\n",
    "Mass_cube_predicted"
   ]
  },
  {
   "cell_type": "code",
   "execution_count": 37,
   "metadata": {
    "collapsed": false
   },
   "outputs": [
    {
     "data": {
      "text/plain": [
       "array([ 0.02624258,  0.00723286,  0.00489173,  0.02670893, -0.0158929 ,\n",
       "       -0.00734024,  0.01612741, -0.01013957,  0.04082832, -0.04934757,\n",
       "       -0.01649244,  0.01742298, -0.03470935, -0.03506782, -0.03827038,\n",
       "       -0.01573288, -0.00069404, -0.01285653, -0.00488172,  0.05723426,\n",
       "        0.07840938, -0.03367301])"
      ]
     },
     "execution_count": 37,
     "metadata": {},
     "output_type": "execute_result"
    }
   ],
   "source": [
    "x_axis = Mass_cube_predicted\n",
    "y_axis = np.array(data_cubed.Mass - Mass_cube_predicted)\n",
    "y_axis"
   ]
  },
  {
   "cell_type": "code",
   "execution_count": 38,
   "metadata": {
    "collapsed": false
   },
   "outputs": [
    {
     "data": {
      "image/png": "[encoded data removed]",
      "text/plain": [
       "<matplotlib.figure.Figure at 0x11715e0f0>"
      ]
     },
     "metadata": {},
     "output_type": "display_data"
    }
   ],
   "source": [
    "plt.scatter(x_axis, y_axis)\n",
    "plt.xlabel(\"Predicted values for Cubed Mass over original coordinates\")\n",
    "plt.ylabel(\"Standardized residuls\")\n",
    "plt.grid()"
   ]
  },
  {
   "cell_type": "code",
   "execution_count": null,
   "metadata": {
    "collapsed": true
   },
   "outputs": [],
   "source": []
  }
 ],
 "metadata": {
  "anaconda-cloud": {},
  "kernelspec": {
   "display_name": "Python [Root]",
   "language": "python",
   "name": "Python [Root]"
  },
  "language_info": {
   "codemirror_mode": {
    "name": "ipython",
    "version": 3
   },
   "file_extension": ".py",
   "mimetype": "text/x-python",
   "name": "python",
   "nbconvert_exporter": "python",
   "pygments_lexer": "ipython3",
   "version": "3.5.2"
  }
 },
 "nbformat": 4,
 "nbformat_minor": 0
}
