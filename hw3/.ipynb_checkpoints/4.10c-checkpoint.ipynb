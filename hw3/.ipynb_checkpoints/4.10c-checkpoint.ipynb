{
 "cells": [
  {
   "cell_type": "code",
   "execution_count": null,
   "metadata": {
    "collapsed": false
   },
   "outputs": [
    {
     "name": "stdout",
     "output_type": "stream",
     "text": [
      "reading file 1...\n",
      "reading file 2...\n",
      "reading file 3...\n",
      "reading file 4...\n",
      "reading file 5...\n"
     ]
    }
   ],
   "source": [
    "import numpy as np\n",
    "from scipy.spatial import distance\n",
    "from matplotlib import pyplot as plt\n",
    "from sklearn import manifold\n",
    "from sklearn.decomposition import PCA\n",
    "import _pickle as cPickle\n",
    "\n",
    "def unpickle(file):\n",
    "    fo = open(file, 'rb')\n",
    "    dict = cPickle.load(fo,  encoding='latin1')\n",
    "    fo.close()\n",
    "    return dict\n",
    "\n",
    "def read_files():\n",
    "##    ret = np.empty( (10,0,3072))\n",
    "    ret = [[] for x in range(10)]\n",
    "\n",
    "    for i in range(1,6):#files 1 to 5\n",
    "        print(\"reading file \" + str(i) + \"...\")\n",
    "        unsorted = unpickle(\"cifar-10-batches-py/data_batch_\" + str(i))\n",
    "        for i in range(10000):\n",
    "            type = unsorted['labels'][i]\n",
    "##            ret[type] = np.append(ret[type], unsorted['data'][i], axis = 0)\n",
    "            ret[type].append(unsorted['data'][i])\n",
    "    return np.array(ret)\n",
    "\n",
    "def read_meta():\n",
    "    return unpickle(\"cifar-10-batches-py/batches.meta\")['label_names']\n",
    "    \n",
    "\n",
    "def compute_means(data):\n",
    "    ret = np.empty((10,3072))\n",
    "    for i in range(10):\n",
    "        for j in range(data[i].shape[0]):\n",
    "            ret[i] = np.add(ret[i], data[i][j])\n",
    "        ret[i] = np.divide(ret[i], data[i].shape[0])\n",
    "    return ret\n",
    "\n",
    "def make_dist_matrix(inputvectors, distfunction):\n",
    "    ret = np.zeros( (inputvectors.shape[0],inputvectors.shape[0]) )\n",
    "\n",
    "    for i in range(inputvectors.shape[0]):\n",
    "        for j in range(inputvectors.shape[0]):\n",
    "#            print(inputvectors[i], inputvectors[j])\n",
    "            ret[i][j] = distfunction(inputvectors[i], inputvectors[j])\n",
    "    return ret\n",
    "\n",
    "def euclidean_dist(a, b):\n",
    "#    return 0\n",
    "    return distance.euclidean(a,b)\n",
    "\n",
    "def partB(means, labels):\n",
    "    print('Begin part B')\n",
    "    dist_matrix = make_dist_matrix(means, euclidean_dist)\n",
    "#    mds = manifold.MDS(n_components = 2, verbose = 1,max_iter=3000, n_jobs = 1, dissimilarity = 'precomputed')\n",
    "#    #do NOT set n_jobs to anything > 1 - it makes fit hang for some reason\n",
    "#    print('Fitting using MDS...')\n",
    "#    mds_out = mds.fit(dist_matrix).embedding_\n",
    "#    #print('Scaling')\n",
    "#    #mds_out *= np.sqrt((means ** 2).sum()) / np.sqrt((mds_out ** 2).sum())\n",
    "#    clf = PCA(n_components=2)\n",
    "#    print('Transforming')\n",
    "#    mds_out = clf.fit_transform(mds_out)\n",
    "#    print('Plotting')\n",
    "#    plt.figure(1)\n",
    "#    plt.subplot(111)\n",
    "#    plt.scatter(mds_out[:,0], mds_out[:,1])\n",
    "#    \n",
    "#    for point in zip(mds_out[:,0], mds_out[:,1], range(0,10)):\n",
    "#        plt.annotate(labels[point[2]], xy = point[0:2], xytext = (6, -6), textcoords = 'offset pixels')\n",
    "#        \n",
    "#    plt.show(block=False)\n",
    "    return plt.subplot(111)\n",
    "\n",
    "\n",
    "    \n",
    "sorted_data = read_files()\n",
    "label_names = read_meta()\n",
    "means = compute_means(sorted_data)\n",
    "figure_b = partB(means, label_names)\n",
    "print('B completed')\n",
    "#\n",
    "# input function\n",
    "# 5 files-> pictures\n",
    "#  \n"
   ]
  },
  {
   "cell_type": "code",
   "execution_count": 1,
   "metadata": {
    "collapsed": false
   },
   "outputs": [
    {
     "name": "stdout",
     "output_type": "stream",
     "text": [
      "3.5.2 |Anaconda 4.2.0 (64-bit)| (default, Jul  2 2016, 17:53:06) \n",
      "[GCC 4.4.7 20120313 (Red Hat 4.4.7-1)]\n"
     ]
    }
   ],
   "source": [
    "import sys\n",
    "print(sys.version)"
   ]
  }
 ],
 "metadata": {
  "anaconda-cloud": {},
  "kernelspec": {
   "display_name": "Python [default]",
   "language": "python",
   "name": "python3"
  },
  "language_info": {
   "codemirror_mode": {
    "name": "ipython",
    "version": 3
   },
   "file_extension": ".py",
   "mimetype": "text/x-python",
   "name": "python",
   "nbconvert_exporter": "python",
   "pygments_lexer": "ipython3",
   "version": "3.5.2"
  }
 },
 "nbformat": 4,
 "nbformat_minor": 1
}
