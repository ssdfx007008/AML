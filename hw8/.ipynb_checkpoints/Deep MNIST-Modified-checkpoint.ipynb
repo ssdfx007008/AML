{
 "cells": [
  {
   "cell_type": "code",
   "execution_count": 1,
   "metadata": {},
   "outputs": [
    {
     "name": "stdout",
     "output_type": "stream",
     "text": [
      "Extracting MNIST_data\\train-images-idx3-ubyte.gz\n",
      "Extracting MNIST_data\\train-labels-idx1-ubyte.gz\n",
      "Extracting MNIST_data\\t10k-images-idx3-ubyte.gz\n",
      "Extracting MNIST_data\\t10k-labels-idx1-ubyte.gz\n",
      "done!\n"
     ]
    }
   ],
   "source": [
    "from tqdm import tqdm_notebook as tq\n",
    "from tensorflow.examples.tutorials.mnist import input_data\n",
    "mnist = input_data.read_data_sets('MNIST_data', one_hot=True)\n",
    "import tensorflow as tf\n",
    "import numpy as np\n",
    "sess = tf.InteractiveSession()\n",
    "print(\"done!\")\n",
    "\n"
   ]
  },
  {
   "cell_type": "code",
   "execution_count": 2,
   "metadata": {
    "collapsed": true
   },
   "outputs": [],
   "source": [
    "def TB(logdir, cleanup=False):\n",
    "    import webbrowser\n",
    "    webbrowser.open('http://127.0.1.1:6006')\n",
    "    !tensorboard --logdir=logdir #\"logs\"\n",
    "\n",
    "    if cleanup:\n",
    "        !rm -R logs/"
   ]
  },
  {
   "cell_type": "code",
   "execution_count": 3,
   "metadata": {
    "collapsed": true
   },
   "outputs": [],
   "source": [
    "x = tf.placeholder(tf.float32, shape=[None, 784]) #input\n",
    "y_ = tf.placeholder(tf.float32, shape=[None, 10])#output\n",
    "\n",
    "W = tf.Variable(tf.zeros([784,10])) #weight\n",
    "b = tf.Variable(tf.zeros([10]))#bias\n",
    "\n",
    "sess.run(tf.global_variables_initializer())#init\n"
   ]
  },
  {
   "cell_type": "code",
   "execution_count": 4,
   "metadata": {
    "collapsed": true
   },
   "outputs": [],
   "source": [
    "y = tf.matmul(x,W) + b\n",
    "cross_entropy = tf.reduce_mean(\n",
    "    tf.nn.softmax_cross_entropy_with_logits(labels=y_, logits=y))\n",
    "\n",
    "train_step = tf.train.GradientDescentOptimizer(0.5).minimize(cross_entropy)\n",
    "\n",
    "# for _ in tq(range(1000)):\n",
    "#   batch = mnist.train.next_batch(100)\n",
    "#   train_step.run(feed_dict={x: batch[0], y_: batch[1]})\n",
    "\n",
    "# batch = mnist.train.next_batch(100)\n",
    "# train_step.run(feed_dict={x: batch[0], y_: batch[1]})\n",
    "\n",
    "# correct_prediction = tf.equal(tf.argmax(y,1), tf.argmax(y_,1))\n",
    "# accuracy = tf.reduce_mean(tf.cast(correct_prediction, tf.float32))\n",
    "# acc_raw = tf.reduce_sum(tf.cast(correct_prediction, tf.float32))\n",
    "# print(accuracy.eval(feed_dict={x: mnist.test.images, y_: mnist.test.labels}))\n"
   ]
  },
  {
   "cell_type": "code",
   "execution_count": 5,
   "metadata": {
    "collapsed": true
   },
   "outputs": [],
   "source": [
    "def weight_variable(shape):\n",
    "  initial = tf.truncated_normal(shape, stddev=0.1)\n",
    "  return tf.Variable(initial)\n",
    "\n",
    "def bias_variable(shape):\n",
    "  initial = tf.constant(0.1, shape=shape)\n",
    "  return tf.Variable(initial)\n",
    "\n",
    "def conv2d(x, W):\n",
    "  return tf.nn.conv2d(x, W, strides=[1, 1, 1, 1], padding='SAME')\n",
    "\n",
    "def max_pool_2x2(x):\n",
    "  return tf.nn.max_pool(x, ksize=[1, 2, 2, 1],\n",
    "                        strides=[1, 2, 2, 1], padding='SAME')"
   ]
  },
  {
   "cell_type": "code",
   "execution_count": 6,
   "metadata": {
    "collapsed": true
   },
   "outputs": [],
   "source": [
    "W_conv1 = weight_variable([5, 5, 1, 32])\n",
    "b_conv1 = bias_variable([32])\n",
    "\n",
    "x_image = tf.reshape(x, [-1, 28, 28, 1])\n",
    "h_conv1 = tf.nn.relu(conv2d(x_image, W_conv1) + b_conv1)\n",
    "h_pool1 = max_pool_2x2(h_conv1)\n",
    "\n",
    "W_conv2 = weight_variable([5, 5, 32, 64])\n",
    "b_conv2 = bias_variable([64])\n",
    "\n",
    "h_conv2 = tf.nn.relu(conv2d(h_pool1, W_conv2) + b_conv2)\n",
    "h_pool2 = max_pool_2x2(h_conv2)\n",
    "\n",
    "W_fc1 = weight_variable([7 * 7 * 64, 1024])\n",
    "b_fc1 = bias_variable([1024])\n",
    "\n",
    "h_pool2_flat = tf.reshape(h_pool2, [-1, 7*7*64])\n",
    "h_fc1 = tf.nn.relu(tf.matmul(h_pool2_flat, W_fc1) + b_fc1)\n",
    "\n",
    "\n",
    "keep_prob = tf.placeholder(tf.float32)\n",
    "h_fc1_drop = tf.nn.dropout(h_fc1, keep_prob)\n",
    "\n",
    "\n",
    "W_fc2 = weight_variable([1024, 10])\n",
    "b_fc2 = bias_variable([10])\n",
    "\n",
    "y_conv = tf.matmul(h_fc1_drop, W_fc2) + b_fc2"
   ]
  },
  {
   "cell_type": "code",
   "execution_count": 7,
   "metadata": {},
   "outputs": [
    {
     "name": "stdout",
     "output_type": "stream",
     "text": [
      "E:/Documents/Git/AML/hw8/logs/mnist_tutorial/train\n"
     ]
    },
    {
     "data": {
      "text/plain": [
       "<tf.Tensor 'Test_Acc:0' shape=() dtype=string>"
      ]
     },
     "execution_count": 7,
     "metadata": {},
     "output_type": "execute_result"
    }
   ],
   "source": [
    "\n",
    "cross_entropy = tf.reduce_mean(\n",
    "    tf.nn.softmax_cross_entropy_with_logits(labels=y_, logits=y_conv))\n",
    "train_step = tf.train.AdamOptimizer(1e-4).minimize(cross_entropy)\n",
    "correct_prediction = tf.equal(tf.argmax(y_conv, 1), tf.argmax(y_, 1))\n",
    "accuracy = tf.reduce_mean(tf.cast(correct_prediction, tf.float32))\n",
    "\n",
    "# t_accuracy = tf.reduce_mean(tf.cast(correct_prediction, tf.float32))\n",
    "\n",
    "t_correct_prediction = tf.equal(tf.argmax(y_conv, 1), tf.argmax(y_, 1))\n",
    "t_accuracy = tf.reduce_mean(tf.cast(t_correct_prediction, tf.float32))\n",
    "\n",
    "tb_tutorial =\"E:/Documents/Git/AML/hw8/logs/mnist_modified\"\n",
    "\n",
    "\n",
    "merged = tf.summary.merge_all()\n",
    "train_writer = tf.summary.FileWriter(tb_tutorial,\n",
    "                                      sess.graph)\n",
    "# test_writer = tf.summary.FileWriter(tb_tutorial + '/test')\n",
    "inp = tf.placeholder(tf.int32)\n",
    "currentsess = None\n",
    "\n",
    "def batched_test(a):\n",
    "    batch_size = 500 #GPU doesn't have the memory to do the entire set at once.\n",
    "    batch_num = int(mnist.test.num_examples / batch_size)\n",
    "    temp = 0\n",
    "    for j in range(batch_num):\n",
    "        a=j* batch_size\n",
    "        b=(j+1)* batch_size\n",
    "        temp += t_accuracy.eval(session=currentsess,feed_dict={x: mnist.test.images[a:b]\n",
    "                                                                , y_: mnist.test.labels[a:b],keep_prob: 1.0})\n",
    "    temp /=  batch_num\n",
    "#     print(temp)\n",
    "    return temp\n",
    "\n",
    "\n",
    "test_accuracy = tf.py_func(batched_test,[inp], tf.float64)\n",
    "\n",
    "tf.global_variables_initializer().run()\n",
    "\n",
    "print(tb_tutorial)\n",
    "\n",
    "\n",
    "\n",
    "\n",
    "\n",
    "\n",
    "tf.summary.scalar('Train_Acc', accuracy)\n",
    "tf.summary.scalar('Test_Acc', test_accuracy)\n"
   ]
  },
  {
   "cell_type": "code",
   "execution_count": 8,
   "metadata": {},
   "outputs": [
    {
     "data": {
      "application/vnd.jupyter.widget-view+json": {
       "model_id": "0f561efb95ad471abe506e56cd3e2cea"
      }
     },
     "metadata": {},
     "output_type": "display_data"
    },
    {
     "name": "stdout",
     "output_type": "stream",
     "text": [
      "step 0, training accuracy 0.12, test accuracy 0.1092\n",
      "step 100, training accuracy 0.84, test accuracy 0.8477\n",
      "step 200, training accuracy 0.9, test accuracy 0.9095\n",
      "step 300, training accuracy 0.86, test accuracy 0.9233\n",
      "step 400, training accuracy 0.98, test accuracy 0.9383\n",
      "step 500, training accuracy 0.94, test accuracy 0.9438\n",
      "step 600, training accuracy 1, test accuracy 0.9491\n",
      "step 700, training accuracy 0.98, test accuracy 0.9492\n",
      "step 800, training accuracy 0.9, test accuracy 0.9566\n",
      "step 900, training accuracy 1, test accuracy 0.9588\n",
      "step 1000, training accuracy 0.96, test accuracy 0.9632\n",
      "step 1100, training accuracy 0.96, test accuracy 0.9624\n",
      "step 1200, training accuracy 0.98, test accuracy 0.9658\n",
      "step 1300, training accuracy 0.96, test accuracy 0.968\n",
      "step 1400, training accuracy 0.92, test accuracy 0.9688\n",
      "step 1500, training accuracy 0.98, test accuracy 0.9709\n",
      "step 1600, training accuracy 1, test accuracy 0.9717\n",
      "step 1700, training accuracy 0.98, test accuracy 0.9728\n",
      "step 1800, training accuracy 0.96, test accuracy 0.9734\n",
      "step 1900, training accuracy 0.96, test accuracy 0.9745\n",
      "step 2000, training accuracy 1, test accuracy 0.9734\n",
      "step 2100, training accuracy 1, test accuracy 0.9738\n",
      "step 2200, training accuracy 1, test accuracy 0.9768\n",
      "step 2300, training accuracy 0.98, test accuracy 0.9777\n",
      "step 2400, training accuracy 0.96, test accuracy 0.978\n",
      "step 2500, training accuracy 1, test accuracy 0.9785\n",
      "step 2600, training accuracy 0.96, test accuracy 0.9767\n",
      "step 2700, training accuracy 1, test accuracy 0.9794\n",
      "step 2800, training accuracy 1, test accuracy 0.9796\n",
      "step 2900, training accuracy 0.98, test accuracy 0.9802\n",
      "step 3000, training accuracy 0.98, test accuracy 0.9797\n",
      "step 3100, training accuracy 1, test accuracy 0.9812\n",
      "step 3200, training accuracy 0.96, test accuracy 0.9832\n",
      "step 3300, training accuracy 0.98, test accuracy 0.9828\n",
      "step 3400, training accuracy 1, test accuracy 0.9826\n",
      "step 3500, training accuracy 1, test accuracy 0.9833\n",
      "step 3600, training accuracy 0.98, test accuracy 0.9825\n",
      "step 3700, training accuracy 0.96, test accuracy 0.983\n",
      "step 3800, training accuracy 1, test accuracy 0.9812\n",
      "step 3900, training accuracy 1, test accuracy 0.984\n",
      "step 4000, training accuracy 0.98, test accuracy 0.9847\n",
      "step 4100, training accuracy 1, test accuracy 0.9841\n",
      "step 4200, training accuracy 1, test accuracy 0.9832\n",
      "step 4300, training accuracy 0.98, test accuracy 0.9825\n",
      "step 4400, training accuracy 1, test accuracy 0.9846\n",
      "step 4500, training accuracy 0.98, test accuracy 0.986\n",
      "step 4600, training accuracy 1, test accuracy 0.9871\n",
      "step 4700, training accuracy 0.96, test accuracy 0.9861\n",
      "step 4800, training accuracy 1, test accuracy 0.9868\n",
      "step 4900, training accuracy 1, test accuracy 0.9862\n",
      "step 5000, training accuracy 0.98, test accuracy 0.9867\n",
      "step 5100, training accuracy 0.98, test accuracy 0.9875\n",
      "step 5200, training accuracy 1, test accuracy 0.9879\n",
      "step 5300, training accuracy 1, test accuracy 0.987\n",
      "step 5400, training accuracy 1, test accuracy 0.987\n",
      "step 5500, training accuracy 0.98, test accuracy 0.9883\n",
      "step 5600, training accuracy 1, test accuracy 0.9883\n",
      "step 5700, training accuracy 1, test accuracy 0.9879\n",
      "step 5800, training accuracy 0.98, test accuracy 0.9877\n",
      "step 5900, training accuracy 1, test accuracy 0.9878\n",
      "step 6000, training accuracy 1, test accuracy 0.9886\n",
      "step 6100, training accuracy 0.98, test accuracy 0.9883\n",
      "step 6200, training accuracy 0.98, test accuracy 0.9879\n",
      "step 6300, training accuracy 1, test accuracy 0.9871\n",
      "step 6400, training accuracy 1, test accuracy 0.9869\n",
      "step 6500, training accuracy 0.98, test accuracy 0.9881\n",
      "step 6600, training accuracy 1, test accuracy 0.989\n",
      "step 6700, training accuracy 0.98, test accuracy 0.9886\n",
      "step 6800, training accuracy 0.98, test accuracy 0.9898\n",
      "step 6900, training accuracy 0.98, test accuracy 0.9885\n",
      "step 7000, training accuracy 1, test accuracy 0.9894\n",
      "step 7100, training accuracy 0.98, test accuracy 0.9897\n",
      "step 7200, training accuracy 1, test accuracy 0.9868\n",
      "step 7300, training accuracy 0.96, test accuracy 0.9895\n",
      "step 7400, training accuracy 1, test accuracy 0.9885\n",
      "step 7500, training accuracy 1, test accuracy 0.9893\n",
      "step 7600, training accuracy 1, test accuracy 0.9895\n",
      "step 7700, training accuracy 0.98, test accuracy 0.9888\n",
      "step 7800, training accuracy 1, test accuracy 0.9902\n",
      "step 7900, training accuracy 1, test accuracy 0.9899\n",
      "step 8000, training accuracy 0.98, test accuracy 0.9898\n",
      "step 8100, training accuracy 1, test accuracy 0.9895\n",
      "step 8200, training accuracy 0.96, test accuracy 0.9883\n",
      "step 8300, training accuracy 1, test accuracy 0.9896\n",
      "step 8400, training accuracy 1, test accuracy 0.9886\n",
      "step 8500, training accuracy 1, test accuracy 0.9898\n",
      "step 8600, training accuracy 1, test accuracy 0.9908\n",
      "step 8700, training accuracy 0.98, test accuracy 0.9898\n",
      "step 8800, training accuracy 1, test accuracy 0.99\n",
      "step 8900, training accuracy 0.98, test accuracy 0.9915\n",
      "step 9000, training accuracy 0.98, test accuracy 0.9907\n",
      "step 9100, training accuracy 1, test accuracy 0.9901\n",
      "step 9200, training accuracy 1, test accuracy 0.9899\n",
      "step 9300, training accuracy 1, test accuracy 0.9911\n",
      "step 9400, training accuracy 1, test accuracy 0.9894\n",
      "step 9500, training accuracy 0.98, test accuracy 0.9905\n",
      "step 9600, training accuracy 0.98, test accuracy 0.9899\n",
      "step 9700, training accuracy 0.98, test accuracy 0.9908\n",
      "step 9800, training accuracy 1, test accuracy 0.9903\n",
      "step 9900, training accuracy 1, test accuracy 0.9907\n",
      "\n"
     ]
    }
   ],
   "source": [
    "\n",
    "config = tf.ConfigProto()\n",
    "config.gpu_options.allocator_type = 'BFC'\n",
    "config.gpu_options.allow_growth=True\n",
    "\n",
    "with tf.Session(config = config) as s:\n",
    "    with tf.Session() as sess:\n",
    "        currentsess=sess\n",
    "        sess.run(tf.global_variables_initializer())\n",
    "        for i in tq(range(10000)):\n",
    "            batch = mnist.train.next_batch(50)\n",
    "            if i % 100 == 0:\n",
    "#                 acc = accuracy.eval(feed_dict={x: batch[0], y_: batch[1], keep_prob: 1.0})\n",
    "#                 tf.summary.scalar('train_accuracy', acc)\n",
    "                if merged is None:\n",
    "                    merged = tf.summary.merge_all()\n",
    "                sum, acc,t_acc = sess.run([merged, accuracy,test_accuracy],\n",
    "                                           feed_dict={x: batch[0], y_: batch[1], keep_prob: 1.0\n",
    "                                                    ,inp:1})\n",
    "                train_writer.add_summary(sum, i)\n",
    "                print('step %d, training accuracy %g, test accuracy %g' % (i, acc,t_acc))\n",
    "\n",
    "            train_step.run(feed_dict={x: batch[0], y_: batch[1], keep_prob: 0.5})\n",
    "\n",
    "#             print(\"test accuracy %g\"%test_accuracy)\n",
    "\n",
    "#         print('test accuracy %g' % accuracy.eval(feed_dict={x: mnist.test.images, y_: mnist.test.labels, keep_prob: 1.0}))"
   ]
  },
  {
   "cell_type": "code",
   "execution_count": 9,
   "metadata": {
    "collapsed": true
   },
   "outputs": [],
   "source": [
    "currentsess.close()"
   ]
  },
  {
   "cell_type": "code",
   "execution_count": null,
   "metadata": {
    "collapsed": true
   },
   "outputs": [],
   "source": []
  }
 ],
 "metadata": {
  "kernelspec": {
   "display_name": "my-virtualenv-name",
   "language": "python",
   "name": "my-virtualenv-name"
  },
  "language_info": {
   "codemirror_mode": {
    "name": "ipython",
    "version": 3
   },
   "file_extension": ".py",
   "mimetype": "text/x-python",
   "name": "python",
   "nbconvert_exporter": "python",
   "pygments_lexer": "ipython3",
   "version": "3.5.2"
  }
 },
 "nbformat": 4,
 "nbformat_minor": 2
}
