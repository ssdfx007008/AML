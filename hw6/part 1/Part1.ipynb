{
 "cells": [
  {
   "cell_type": "code",
   "execution_count": 33,
   "metadata": {
    "collapsed": false
   },
   "outputs": [
    {
     "name": "stdout",
     "output_type": "stream",
     "text": [
      "data read, np-ifying now\n",
      "\n"
     ]
    }
   ],
   "source": [
    "import math, random, copy\n",
    "import numpy as np\n",
    "import matplotlib.pyplot as plt\n",
    "import pandas as pd\n",
    "from tqdm import *\n",
    "\n",
    "N_Docs = 1500 \n",
    "N_Words = 12419\n",
    "Nonzero_Counts = 746316\n",
    "raw_data = pd.read_csv('data_processed.txt', delimiter = ' ')\n",
    "vocab = pd.read_csv('vocab.nips.txt')\n",
    "\n",
    "print('data read, np-ifying now')\n",
    "\n",
    "Word_Totals = np.zeros(N_Words)\n",
    "\n",
    "data = np.zeros( (N_Words, N_Docs)) \n",
    "for i in tqdm_notebook(range(Nonzero_Counts)):\n",
    "    data[raw_data['Word'][i]-1][raw_data['Doc'][i]-1]=raw_data['Count'][i]\n",
    "\n",
    "\n",
    "\n",
    "#resources\n",
    "#pg 234 in text\n",
    "#https://github.com/sseemayer/mixem/tree/master/mixem\n",
    "#http://www.cs."
   ]
  },
  {
   "cell_type": "code",
   "execution_count": 34,
   "metadata": {
    "collapsed": false
   },
   "outputs": [
    {
     "name": "stdout",
     "output_type": "stream",
     "text": [
      "\n"
     ]
    },
    {
     "name": "stderr",
     "output_type": "stream",
     "text": [
      "E:\\ProgramFilesE\\Anaconda\\lib\\site-packages\\numpy\\lib\\function_base.py:4265: FutureWarning: in the future insert will treat boolean arrays and array-likes as boolean index instead of casting it to integer\n",
      "  \"as boolean index instead of casting it to integer\", FutureWarning)\n"
     ]
    },
    {
     "name": "stdout",
     "output_type": "stream",
     "text": [
      "(12418, 1500) 12418\n"
     ]
    }
   ],
   "source": [
    "for i in tqdm_notebook(range(N_Words)):\n",
    "    Word_Totals[i] = np.sum(data[i])\n",
    "    \n",
    "zeroes = not np.nonzero(Word_Totals)\n",
    "\n",
    "data = np.delete(data, zeroes, axis=0)\n",
    "Word_Totals = np.delete(Word_Totals, zeroes, axis=0)\n",
    "# vocab = np.delete(Word_Totals, zeroes, axis = 0)\n",
    "N_Words = data.shape[0]\n",
    "print(data.shape, N_Words)\n",
    "\n",
    "\n",
    "#resources\n",
    "#pg 234 in text\n",
    "#https://github.com/sseemayer/mixem/tree/master/mixem\n",
    "#http://www.cs.\n",
    "#columbia.edu/~jebara/4771/tutorials/multinomial.pdf"
   ]
  },
  {
   "cell_type": "code",
   "execution_count": 7,
   "metadata": {
    "collapsed": false
   },
   "outputs": [],
   "source": [
    "#https://en.wikipedia.org/wiki/Multinomial_distribution\n",
    "#n, the number of trials is the sum of a word's total appearances \n",
    "#word is a row off of the word array, with each index corresponding to a document, and the value there being the count\n",
    "#params is the probability of seeing a certain word - this is precalculated in the main flow. it is the {p1,p2,...pn}\n",
    "\n",
    "def multinomial_logpdf(word, param):\n",
    "    log_nfact = math.log(math.factorial(np.sum(word)))\n",
    "    log_xis = 0\n",
    "    log_probs = 0\n",
    "    for i in range(N_Docs):\n",
    "        if word[i] > 0 and param[i] > 0 :\n",
    "            log_xis += math.log(math.factorial(word[i]))\n",
    "            log_probs += math.log(param[i]) *word[i]\n",
    "    \n",
    "    return log_nfact + log_probs - log_xis\n",
    "\n"
   ]
  },
  {
   "cell_type": "code",
   "execution_count": 10,
   "metadata": {
    "collapsed": false
   },
   "outputs": [],
   "source": [
    "def Assign_Labels(data, Word_Labels, Word_Probs, topic_params):\n",
    "    for i in tqdm_notebook(range(N_Words)):\n",
    "        for j in range(30):\n",
    "            Word_Probs[i][j] = multinomial_logpdf(data[i], topic_params[j])\n",
    "        Word_Labels[i] = np.argmax(Word_Probs[i])\n",
    "\n",
    "def estimate_params(Word_Rates, topic_params, Word_Labels):\n",
    "    for i in range(30):\n",
    "#         topic_params[i,:] = 0\n",
    "        temp = np.zeros(N_Docs)\n",
    "        n = 0\n",
    "        for j in range(N_Docs):\n",
    "            if Word_Labels[j] == i:\n",
    "                temp += Word_Rates[j,:]\n",
    "                n+=1\n",
    "        if n > 0:\n",
    "            temp /= n\n",
    "            topic_params[i,:] = temp\n"
   ]
  },
  {
   "cell_type": "code",
   "execution_count": 11,
   "metadata": {
    "collapsed": false
   },
   "outputs": [
    {
     "name": "stdout",
     "output_type": "stream",
     "text": [
      "\n",
      "setup completed\n"
     ]
    }
   ],
   "source": [
    "topic_params = np.random.rand(30, N_Docs)\n",
    "# for i in range(30):\n",
    "#     sum = np.sum(topic_params[i])\n",
    "#     for j in range(N_Docs):\n",
    "#         topic_params[i][j] /= sum\n",
    "\n",
    "Word_Labels = np.random.randint(0, 30, N_Words)\n",
    "Word_Probs = np.zeros((N_Words, 30)) #w_ij values for each word x topic combo\n",
    "\n",
    "\n",
    "Word_Rates = np.zeros((N_Words, N_Docs))#the rates at which words appear in documents. pre-calculated to save time\n",
    "for i in tqdm_notebook(range(N_Words)):\n",
    "    sum = np.sum(data[i])\n",
    "    for j in range(N_Docs):\n",
    "        if data[i][j] != 0:\n",
    "            Word_Rates[i][j] = data[i][j]/sum\n",
    "\n",
    "            \n",
    "estimate_params(Word_Rates, topic_params, Word_Labels)\n",
    "\n",
    "print(\"setup completed\")\n",
    "#outline\n",
    "#For each Document:\n",
    "#    Calculate all 30 Doc_probs (1 for each topic_param) using logpdf\n",
    "#        Assign highest as Doc_Label\n",
    "#For each topic:\n",
    "#    For each document labelled as this topic\n",
    "#        Average Doc_rates for each document to create new topic param\n",
    "#Rinse and repeat, I think\n"
   ]
  },
  {
   "cell_type": "code",
   "execution_count": 12,
   "metadata": {
    "collapsed": false
   },
   "outputs": [
    {
     "name": "stdout",
     "output_type": "stream",
     "text": [
      "\n",
      "[ 7 28 28 ...,  1 28  0]\n"
     ]
    }
   ],
   "source": [
    "Assign_Labels(data, Word_Labels, Word_Probs, topic_params)\n",
    "print(Word_Labels)\n"
   ]
  },
  {
   "cell_type": "code",
   "execution_count": 13,
   "metadata": {
    "collapsed": false
   },
   "outputs": [],
   "source": [
    "estimate_params(Word_Rates, topic_params, Word_Labels)"
   ]
  },
  {
   "cell_type": "code",
   "execution_count": 17,
   "metadata": {
    "collapsed": false
   },
   "outputs": [
    {
     "name": "stdout",
     "output_type": "stream",
     "text": [
      "\n",
      "iter 0:  [ 1 21  1 ...,  1  1  0] [ 1 21  1 ...,  1  1  0]\n"
     ]
    }
   ],
   "source": [
    "Old_Labels = np.copy(Word_Labels)\n",
    "\n",
    "for i in range(20):\n",
    "    Assign_Labels(data, Word_Labels, Word_Probs, topic_params)\n",
    "    estimate_params(Word_Rates, topic_params, Word_Labels)\n",
    "    print(\"iter \"+str(i) + \": \", Old_Labels, Word_Labels )\n",
    "    if (np.array_equal(Old_Labels,Word_Labels)):\n",
    "        break\n",
    "    Old_Labels = np.copy(Word_Labels)\n"
   ]
  },
  {
   "cell_type": "code",
   "execution_count": 18,
   "metadata": {
    "collapsed": false
   },
   "outputs": [
    {
     "name": "stdout",
     "output_type": "stream",
     "text": [
      "[  8.10000000e+01   1.18150000e+04   0.00000000e+00   0.00000000e+00\n",
      "   1.58000000e+02   0.00000000e+00   0.00000000e+00   0.00000000e+00\n",
      "   3.00000000e+00   0.00000000e+00   0.00000000e+00   0.00000000e+00\n",
      "   1.60000000e+01   0.00000000e+00   1.50000000e+01   0.00000000e+00\n",
      "   6.00000000e+01   1.29000000e+02   4.00000000e+01   9.00000000e+00\n",
      "   0.00000000e+00   2.40000000e+01   6.00000000e+00   2.00000000e+00\n",
      "   4.50000000e+01   0.00000000e+00   5.00000000e+00   0.00000000e+00\n",
      "   0.00000000e+00   1.00000000e+01]\n"
     ]
    },
    {
     "data": {
      "image/png": "[encoded data removed]",
      "text/plain": [
       "<matplotlib.figure.Figure at 0x1d399f4b860>"
      ]
     },
     "metadata": {},
     "output_type": "display_data"
    }
   ],
   "source": [
    "#Graphing time\n",
    "#Produce a graph showing, for each topic, the probability with which the topic is selected.\n",
    "\n",
    "Topic_Totals = np.zeros(30)\n",
    "#Word_Labels == i\n",
    "for i in range(N_Words):\n",
    "    Topic_Totals[Word_Labels[i]] += 1\n",
    "print(Topic_Totals)\n",
    "plt.bar(left = range(0,30), height = Topic_Totals)\n",
    "plt.show(block = False)"
   ]
  },
  {
   "cell_type": "code",
   "execution_count": 49,
   "metadata": {
    "collapsed": false
   },
   "outputs": [
    {
     "name": "stdout",
     "output_type": "stream",
     "text": [
      "Topic Number: 0\n",
      "accompanied amplifying ansatz assembly asymmetries avoided berlin biochemical bypass categorized \n",
      "\n",
      "Topic Number: 1\n",
      "accurately ach array asy auditory availability bigg bij binder cassandra \n",
      "\n",
      "Topic Number: 2\n",
      "accompanied ansatz approach berlin bigg bij boston bypass carded cases \n",
      "\n",
      "Topic Number: 3\n",
      "aapo acyclic ago appeared arrange availability aver barry barto carrier \n",
      "\n",
      "Topic Number: 4\n",
      "affect annaswamy blegdamsvej britten busy buy calculus cas cate categorical \n",
      "\n",
      "Topic Number: 5\n",
      "activated annulus approximation arbor arrival assure asymptote auditory begin blumer \n",
      "\n",
      "Topic Number: 6\n",
      "accounted accumulated added ass autoshaping belew binder buckland burnod case \n",
      "\n",
      "Topic Number: 7\n",
      "agrees aren atomic awareness blowfly blumer breaking ca1 california cases \n",
      "\n",
      "Topic Number: 8\n",
      "accurately activity algo applying art2 attention bases bees capturing cardiac \n",
      "\n",
      "Topic Number: 9\n",
      "admissibility algorithmic alleviate analyzing augment automatically awareness big bij bregler \n",
      "\n",
      "Topic Number: 10\n",
      "acoustically andrew automata autotypist basri beam bear body bout caruana \n",
      "\n",
      "Topic Number: 11\n",
      "acid ackley algorit alvis autocorrelation behaviorally bound broadening bulb cassandra \n",
      "\n",
      "Topic Number: 12\n",
      "adding aji almeida amsterdam anticipate batches becker beginning bending buy \n",
      "\n",
      "Topic Number: 13\n",
      "amnesia bayliss benign bij biophy bottleneck bra breast busey carlo \n",
      "\n",
      "Topic Number: 14\n",
      "absorb acm actor anal arcing backscatter bending bilities cart categorized \n",
      "\n",
      "Topic Number: 15\n",
      "analyze annular art2 asa ata atiya auditory batch bert button \n",
      "\n",
      "Topic Number: 16\n",
      "addresses bilinear bow box built bution buy categorical categories categorized \n",
      "\n",
      "Topic Number: 17\n",
      "accurately annal apical architectural artifact barycentric batches binocular buy categorized \n",
      "\n",
      "Topic Number: 18\n",
      "accelerator adclus akaike armed arrange artifact att begin blackwell bpwd \n",
      "\n",
      "Topic Number: 19\n",
      "ach ance approach avg avlsi basin bend biilthoff biomedical brandeis \n",
      "\n",
      "Topic Number: 20\n",
      "accuracy adhesion agc andrew answer bear berlin boxlet bulletin caruana \n",
      "\n",
      "Topic Number: 21\n",
      "abi adaptability adclus arbitrary atom atomic blumer britten busy cam \n",
      "\n",
      "Topic Number: 22\n",
      "abstracted adaptability agency aggregate alarm allocated allocation autoassociation boyen cad \n",
      "\n",
      "Topic Number: 23\n",
      "absolutely accelerating ago argmaxp baird benign benveniste blasdel burden capital \n",
      "\n",
      "Topic Number: 24\n",
      "antenna architectural articulatory artifact backpropagation batches batteries bin bpn buy \n",
      "\n",
      "Topic Number: 25\n",
      "accumulate ach agation ambiguities assigning aux baram birth bootstrapping buffered \n",
      "\n",
      "Topic Number: 26\n",
      "afford ali anneal archie averaging barney barry bonet carlson cartesian \n",
      "\n",
      "Topic Number: 27\n",
      "aca acad arrhythmia artery balances belonging biometrika cable carded cart \n",
      "\n",
      "Topic Number: 28\n",
      "admission aged amenable amin arm auditory autotypist bilities brain buckland \n",
      "\n",
      "Topic Number: 29\n",
      "actuator angle anonymous assistance autotypist barto beckman berthold bpn busy \n",
      "\n"
     ]
    }
   ],
   "source": [
    "Topic_TopTens = np.zeros((30,10))\n",
    "for i in range(30):\n",
    "    slice = np.argpartition(topic_params[i], N_Docs - 10, axis = 0)[N_Docs-11:N_Docs-1]\n",
    "    Topic_TopTens[i] = np.sort(slice)\n",
    "for i in range(30):\n",
    "    print(\"Topic Number: \" + str(i))\n",
    "    for j in range(10):\n",
    "        print(str(vocab['a2i'][Topic_TopTens[i][j]])+\" \", end='')\n",
    "    print(\"\\n\")"
   ]
  },
  {
   "cell_type": "code",
   "execution_count": null,
   "metadata": {
    "collapsed": true
   },
   "outputs": [],
   "source": []
  }
 ],
 "metadata": {
  "kernelspec": {
   "display_name": "Python 3",
   "language": "python",
   "name": "python3"
  },
  "language_info": {
   "codemirror_mode": {
    "name": "ipython",
    "version": 3
   },
   "file_extension": ".py",
   "mimetype": "text/x-python",
   "name": "python",
   "nbconvert_exporter": "python",
   "pygments_lexer": "ipython3",
   "version": "3.6.0"
  },
  "widgets": {
   "state": {
    "396450a645ab43419dcdfed2f6455955": {
     "views": [
      {
       "cell_index": 7
      }
     ]
    },
    "6da1807bd7b84acb843bd99764512727": {
     "views": [
      {
       "cell_index": 5
      }
     ]
    },
    "7dea2b7224f347498a513586402658ec": {
     "views": [
      {
       "cell_index": 4
      }
     ]
    },
    "bc7a92a5d2ae4dc7b7f1e231b474fa87": {
     "views": [
      {
       "cell_index": 1
      }
     ]
    },
    "f3996e6199f247a4a90d02d35249c3c3": {
     "views": [
      {
       "cell_index": 0
      }
     ]
    }
   },
   "version": "1.2.0"
  }
 },
 "nbformat": 4,
 "nbformat_minor": 2
}
