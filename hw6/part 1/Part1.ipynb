{
 "cells": [
  {
   "cell_type": "code",
   "execution_count": 11,
   "metadata": {
    "collapsed": false
   },
   "outputs": [
    {
     "name": "stdout",
     "output_type": "stream",
     "text": [
      "data read, np-ifying now\n",
      "\n"
     ]
    }
   ],
   "source": [
    "import math, random, copy\n",
    "import numpy as np\n",
    "import matplotlib.pyplot as plt\n",
    "import pandas as pd\n",
    "from tqdm import *\n",
    "\n",
    "N_Docs = 1500 \n",
    "N_Words = 12419\n",
    "Nonzero_Counts = 746316\n",
    "raw_data = pd.read_csv('data_processed.txt', delimiter = ' ')\n",
    "vocab = pd.read_csv('vocab.nips.txt')\n",
    "\n",
    "print('data read, np-ifying now')\n",
    "\n",
    "Word_Totals = np.zeros(N_Words)\n",
    "\n",
    "data = np.zeros( (N_Words, N_Docs)) \n",
    "for i in tqdm_notebook(range(Nonzero_Counts)):\n",
    "    data[raw_data['Word'][i]-1][raw_data['Doc'][i]-1]=raw_data['Count'][i]\n",
    "\n",
    "\n",
    "\n",
    "#resources\n",
    "#pg 234 in text\n",
    "#https://github.com/sseemayer/mixem/tree/master/mixem\n",
    "#http://www.cs."
   ]
  },
  {
   "cell_type": "code",
   "execution_count": 2,
   "metadata": {
    "collapsed": false
   },
   "outputs": [
    {
     "name": "stdout",
     "output_type": "stream",
     "text": [
      "\n"
     ]
    },
    {
     "name": "stderr",
     "output_type": "stream",
     "text": [
      "E:\\ProgramFilesE\\Anaconda\\lib\\site-packages\\numpy\\lib\\function_base.py:4265: FutureWarning: in the future insert will treat boolean arrays and array-likes as boolean index instead of casting it to integer\n",
      "  \"as boolean index instead of casting it to integer\", FutureWarning)\n"
     ]
    },
    {
     "name": "stdout",
     "output_type": "stream",
     "text": [
      "(12418, 1500) 12418\n"
     ]
    }
   ],
   "source": [
    "for i in tqdm_notebook(range(N_Words)):\n",
    "    Word_Totals[i] = np.sum(data[i])\n",
    "    \n",
    "zeroes = not np.nonzero(Word_Totals)\n",
    "\n",
    "data = np.delete(data, zeroes, axis=0)\n",
    "Word_Totals = np.delete(Word_Totals, zeroes, axis=0)\n",
    "N_Words = data.shape[0]\n",
    "print(data.shape, N_Words)\n",
    "\n",
    "\n",
    "#resources\n",
    "#pg 234 in text\n",
    "#https://github.com/sseemayer/mixem/tree/master/mixem\n",
    "#http://www.cs.\n",
    "#columbia.edu/~jebara/4771/tutorials/multinomial.pdf"
   ]
  },
  {
   "cell_type": "code",
   "execution_count": 12,
   "metadata": {
    "collapsed": false
   },
   "outputs": [],
   "source": [
    "#https://en.wikipedia.org/wiki/Multinomial_distribution\n",
    "#n, the number of trials is the sum of a document's word counts\n",
    "#doc is a row off of the doc array, with each index corresponding to a word, and the value there being the count\n",
    "#params is the probability of seeing a certain word - this is precalculated in the main flow. it is the {p1,p2,...pn}\n",
    "\n",
    "def multinomial_logpdf(word, param):\n",
    "    log_nfact = math.log(math.factorial(np.sum(word)))\n",
    "    log_xis = 0\n",
    "    log_probs = 0\n",
    "    for i in range(N_Docs):\n",
    "        if word[i] > 0 and param[i] > 0 :\n",
    "            log_xis += math.log(math.factorial(word[i]))\n",
    "            log_probs += math.log(param[i]) *word[i]\n",
    "    \n",
    "    return log_nfact + log_probs - log_xis\n",
    "\n"
   ]
  },
  {
   "cell_type": "code",
   "execution_count": 13,
   "metadata": {
    "collapsed": false
   },
   "outputs": [
    {
     "name": "stdout",
     "output_type": "stream",
     "text": [
      "\n",
      "setup completed\n"
     ]
    }
   ],
   "source": [
    "topic_params = np.random.rand(30, N_Docs)\n",
    "for i in range(30):\n",
    "    sum = np.sum(topic_params[i])\n",
    "    for j in range(N_Docs):\n",
    "        topic_params[i][j] /= sum\n",
    "\n",
    "Word_Labels = np.zeros(N_Words)\n",
    "Word_Probs = np.zeros((N_Words, 30)) #w_ij values for each word x topic combo\n",
    "\n",
    "\n",
    "Word_Rates = np.zeros((N_Words, N_Docs))#the rates at which words appear in documents. pre-calculated to save time\n",
    "for i in tqdm_notebook(range(N_Words)):\n",
    "    sum = np.sum(data[i])\n",
    "    for j in range(N_Docs):\n",
    "        if data[i][j] != 0:\n",
    "            Word_Rates[i][j] = data[i][j]/sum\n",
    "\n",
    "print(\"setup completed\")\n",
    "#outline\n",
    "#For each Document:\n",
    "#    Calculate all 30 Doc_probs (1 for each topic_param) using logpdf\n",
    "#        Assign highest as Doc_Label\n",
    "#For each topic:\n",
    "#    For each document labelled as this topic\n",
    "#        Average Doc_rates for each document to create new topic param\n",
    "#Rinse and repeat, I think\n"
   ]
  },
  {
   "cell_type": "code",
   "execution_count": null,
   "metadata": {
    "collapsed": false
   },
   "outputs": [],
   "source": [
    "def Assign_Labels(data, Word_Labels, Word_Probs, topic_params):\n",
    "    for i in tqdm_notebook(range(N_Words)):\n",
    "        for j in range(30):\n",
    "            Word_Probs[i][j] = multinomial_logpdf(data[i], topic_params[j])\n",
    "        Word_Labels[i] = np.argmax(Word_Probs[i])\n",
    "\n",
    "def estimate_params(Word_Rates, topic_params, Doc_Labels):\n",
    "    for i in range(30):\n",
    "        topic_params[i,:] = 0\n",
    "        n = 0\n",
    "        for j in range(N_Docs):\n",
    "            if Word_Labels[j] == i:\n",
    "                topic_params[i,:] += Word_Rates[j,:]\n",
    "                n+=1\n",
    "        topic_params[i,:] /= n\n"
   ]
  },
  {
   "cell_type": "code",
   "execution_count": 15,
   "metadata": {
    "collapsed": false
   },
   "outputs": [
    {
     "name": "stdout",
     "output_type": "stream",
     "text": [
      "\n",
      "[ 11.  11.  25. ...,  15.  25.   8.]\n"
     ]
    }
   ],
   "source": [
    "Assign_Labels(data, Word_Labels, Word_Probs, topic_params)\n",
    "print(Word_Labels)\n"
   ]
  },
  {
   "cell_type": "code",
   "execution_count": 16,
   "metadata": {
    "collapsed": false
   },
   "outputs": [
    {
     "name": "stdout",
     "output_type": "stream",
     "text": [
      "66\n",
      "52\n",
      "42\n",
      "36\n",
      "57\n",
      "57\n",
      "50\n",
      "57\n",
      "59\n",
      "44\n",
      "57\n",
      "36\n",
      "45\n",
      "56\n",
      "40\n",
      "34\n",
      "35\n",
      "54\n",
      "49\n",
      "54\n",
      "68\n",
      "66\n",
      "49\n",
      "43\n",
      "49\n",
      "51\n",
      "51\n",
      "41\n",
      "49\n",
      "53\n",
      "\n"
     ]
    }
   ],
   "source": [
    "estimate_params(Word_Rates, topic_params, Word_Labels)"
   ]
  },
  {
   "cell_type": "code",
   "execution_count": 19,
   "metadata": {
    "collapsed": false
   },
   "outputs": [
    {
     "ename": "SyntaxError",
     "evalue": "invalid syntax (<ipython-input-19-1220d3c53afe>, line 8)",
     "output_type": "error",
     "traceback": [
      "\u001b[0;36m  File \u001b[0;32m\"<ipython-input-19-1220d3c53afe>\"\u001b[0;36m, line \u001b[0;32m8\u001b[0m\n\u001b[0;31m    break:\u001b[0m\n\u001b[0m         ^\u001b[0m\n\u001b[0;31mSyntaxError\u001b[0m\u001b[0;31m:\u001b[0m invalid syntax\n"
     ]
    }
   ],
   "source": [
    "old_Labels = Word_Labels\n",
    "Word_Labels = numpy.zeros(N_Words)\n",
    "\n",
    "for i in range(20):\n",
    "    Assign_Labels(data, Word_Labels, Word_Probs, topic_params)\n",
    "    estimate_params(Word_Rates, topic_params, Word_Labels)\n",
    "    if (np.sum(np.diff(Old_Labels, Word_Labels))):\n",
    "        break\n",
    "    print(\"iter \"+str(i) + \": \" + str(np.sum(np.diff(Old_Labels, Word_Labels))) )\n",
    "    old_Labels = Word_Labels\n",
    "    Word_Labels = numpy.zeros(N_Words)"
   ]
  },
  {
   "cell_type": "code",
   "execution_count": 25,
   "metadata": {
    "collapsed": false
   },
   "outputs": [
    {
     "name": "stderr",
     "output_type": "stream",
     "text": [
      "E:\\ProgramFilesE\\Anaconda\\lib\\site-packages\\ipykernel\\__main__.py:7: VisibleDeprecationWarning: using a non-integer number instead of an integer will result in an error in the future\n"
     ]
    },
    {
     "name": "stdout",
     "output_type": "stream",
     "text": [
      "[ 4381.  1580.  1221.   868.   619.  3231.   519.     0.     0.     0.\n",
      "     0.     0.     0.     0.     0.     0.     0.     0.     0.     0.\n",
      "     0.     0.     0.     0.     0.     0.     0.     0.     0.     0.]\n"
     ]
    },
    {
     "data": {
      "image/png": "[encoded data removed]",
      "text/plain": [
       "<matplotlib.figure.Figure at 0x198e5d63630>"
      ]
     },
     "metadata": {},
     "output_type": "display_data"
    }
   ],
   "source": [
    "#Graphing time\n",
    "#Produce a graph showing, for each topic, the probability with which the topic is selected.\n",
    "\n",
    "Topic_Totals = np.zeros(30)\n",
    "#Word_Labels == i\n",
    "for i in range(N_Words):\n",
    "    Topic_Totals[Word_Labels[i]] += 1\n",
    "print(Topic_Totals)\n",
    "plt.bar(left = range(0,30), height = Topic_Totals)\n",
    "plt.show(block = False)"
   ]
  },
  {
   "cell_type": "code",
   "execution_count": null,
   "metadata": {
    "collapsed": true
   },
   "outputs": [],
   "source": [
    "Topic_TopTens = np.zeros((30,10))\n"
   ]
  }
 ],
 "metadata": {
  "kernelspec": {
   "display_name": "Python 3",
   "language": "python",
   "name": "python3"
  },
  "language_info": {
   "codemirror_mode": {
    "name": "ipython",
    "version": 3
   },
   "file_extension": ".py",
   "mimetype": "text/x-python",
   "name": "python",
   "nbconvert_exporter": "python",
   "pygments_lexer": "ipython3",
   "version": "3.6.0"
  },
  "widgets": {
   "state": {
    "004996fdc13d4385a678bb9e73949ad4": {
     "views": [
      {
       "cell_index": 7
      }
     ]
    },
    "0cfe93465efe4d9eb85b978e0eeb7806": {
     "views": [
      {
       "cell_index": 7
      }
     ]
    },
    "1c3e8bb5c1c94506a210cd6e22b1cf2c": {
     "views": [
      {
       "cell_index": 7
      }
     ]
    },
    "1e00ef7966b34aa8bda7c68f2a167522": {
     "views": [
      {
       "cell_index": 7
      }
     ]
    },
    "26c038cf4b434f049506465bab5c72eb": {
     "views": [
      {
       "cell_index": 0
      }
     ]
    },
    "2b0fe4df44484718be3805750c3bebec": {
     "views": [
      {
       "cell_index": 7
      }
     ]
    },
    "42a8ce251f33412292e0d4451eed7ebd": {
     "views": [
      {
       "cell_index": 7
      }
     ]
    },
    "5823456feaa44bd0b95257022173a22f": {
     "views": [
      {
       "cell_index": 6
      }
     ]
    },
    "615001eeb51a42d3b7e8683819d2db2e": {
     "views": [
      {
       "cell_index": 7
      }
     ]
    },
    "6e717fe6555e4b57a9f08c34b0c6d90a": {
     "views": [
      {
       "cell_index": 3
      }
     ]
    },
    "844837eed8cf4da5a78a63c4abc3aa2c": {
     "views": [
      {
       "cell_index": 7
      }
     ]
    },
    "8b96417b5be24fd2b3ac76cb7e1d128e": {
     "views": [
      {
       "cell_index": 7
      }
     ]
    },
    "a4de60aabb864eac9cc1512daedaabc4": {
     "views": [
      {
       "cell_index": 7
      }
     ]
    },
    "aefcc91d961e42879eede4ae550b48f2": {
     "views": [
      {
       "cell_index": 5
      }
     ]
    },
    "b10a32bd29244fe4b14cb32a4d029ee4": {
     "views": [
      {
       "cell_index": 7
      }
     ]
    },
    "e3ceda46a5a6442c842fd7bff05cf1da": {
     "views": [
      {
       "cell_index": 1
      }
     ]
    }
   },
   "version": "1.2.0"
  }
 },
 "nbformat": 4,
 "nbformat_minor": 2
}
