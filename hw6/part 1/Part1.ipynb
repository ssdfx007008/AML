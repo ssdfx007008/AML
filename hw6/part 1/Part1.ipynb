{
 "cells": [
  {
   "cell_type": "code",
   "execution_count": 3,
   "metadata": {
    "collapsed": false
   },
   "outputs": [
    {
     "name": "stdout",
     "output_type": "stream",
     "text": [
      "data read, np-ifying now\n",
      "[[ 0.  1.  0. ...,  0.  0.  0.]\n",
      " [ 0.  0.  0. ...,  0.  0.  0.]\n",
      " [ 0.  0.  0. ...,  0.  0.  0.]\n",
      " ..., \n",
      " [ 0.  0.  0. ...,  0.  0.  0.]\n",
      " [ 0.  0.  2. ...,  0.  0.  0.]\n",
      " [ 0.  0.  0. ...,  0.  0.  0.]]\n"
     ]
    }
   ],
   "source": [
    "import math, random, copy\n",
    "import numpy as np\n",
    "import matplotlib.pyplot as plt\n",
    "import pandas as pd\n",
    "\n",
    "N_Docs = 1500 \n",
    "N_Words = 12419\n",
    "Nonzero_Counts = 746316\n",
    "raw_data = pd.read_csv('data_processed.txt', delimiter = ' ')\n",
    "vocab = pd.read_csv('vocab.nips.txt')\n",
    "\n",
    "print('data read, np-ifying now')\n",
    "\n",
    "data = np.zeros( (N_Docs, N_Words)) \n",
    "for i in range(Nonzero_Counts):\n",
    "    data[raw_data['Doc'][i]-1][raw_data['Word'][i]-1]=raw_data['Count'][i]\n",
    "    \n",
    "print('data in np array')\n",
    "\n",
    "\n",
    "#resources\n",
    "#pg 234 in text\n",
    "#https://github.com/sseemayer/mixem/tree/master/mixem\n",
    "#http://www.cs.columbia.edu/~jebara/4771/tutorials/multinomial.pdf"
   ]
  },
  {
   "cell_type": "code",
   "execution_count": 4,
   "metadata": {
    "collapsed": false
   },
   "outputs": [],
   "source": [
    "#https://en.wikipedia.org/wiki/Multinomial_distribution\n",
    "#n, the number of trials is the sum of a document's word counts\n",
    "#doc is a row off of the doc array, with each index corresponding to a word, and the value there being the count\n",
    "#params is the probability of seeing a certain word - this is precalculated in the main flow. it is the {p1,p2,...pn}\n",
    "\n",
    "def multinomial_logpdf(doc, probs):\n",
    "    numerator = math.fact(np.sum(doc))\n",
    "    denominator = 1\n",
    "    for i in range(N_Words):\n",
    "        if doc[i] !=0 :\n",
    "            denominator *= math.fact(doc[i])\n",
    "            numerator *= probs[i]**doc[i]\n",
    "    return np.log(numerator/denominator)\n",
    "\n",
    "def estimate_params(Doc_rates, param, Doc_Labels):\n",
    "    "
   ]
  },
  {
   "cell_type": "code",
   "execution_count": 12,
   "metadata": {
    "collapsed": false
   },
   "outputs": [],
   "source": [
    "topic_params = np.random.rand(30, N_Words)\n",
    "for i in range(30):\n",
    "    sum = np.sum(topic_params[i])\n",
    "    for j in range(N_Words):\n",
    "        topic_params[i][j] /= sum\n",
    "\n",
    "Doc_Labels = np.zeros(N_Docs)\n",
    "Doc_Probs = np.zeros((N_Docs, 30))\n",
    "\n",
    "\n",
    "Doc_Rates = np.zeros((N_Docs, N_Words))\n",
    "for i in range(N_Docs):\n",
    "    sum = np.sum(data[i])\n",
    "    for j in range(N_Words):\n",
    "        if data[i][j] != 0:\n",
    "            Doc_Rates[i][j] = data[i][j]/sum\n",
    "\n",
    "\n",
    "#outline\n",
    "#For each Document:\n",
    "#    Calculate all 30 Doc_probs (1 for each topic_param) using logpdf\n",
    "#        Assign highest as Doc_Label\n",
    "#For each topic:\n",
    "#    For each document labelled as this topic\n",
    "#        Average Doc_rates for each document to create new topic param\n",
    "#Rinse and repeat, I think"
   ]
  },
  {
   "cell_type": "code",
   "execution_count": null,
   "metadata": {
    "collapsed": true
   },
   "outputs": [],
   "source": []
  }
 ],
 "metadata": {
  "kernelspec": {
   "display_name": "Python 3",
   "language": "python",
   "name": "python3"
  },
  "language_info": {
   "codemirror_mode": {
    "name": "ipython",
    "version": 3
   },
   "file_extension": ".py",
   "mimetype": "text/x-python",
   "name": "python",
   "nbconvert_exporter": "python",
   "pygments_lexer": "ipython3",
   "version": "3.6.0"
  }
 },
 "nbformat": 4,
 "nbformat_minor": 2
}
