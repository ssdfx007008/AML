{
 "cells": [
  {
   "cell_type": "code",
   "execution_count": 70,
   "metadata": {
    "collapsed": false
   },
   "outputs": [
    {
     "name": "stdout",
     "output_type": "stream",
     "text": [
      "data read, np-ifying now\n",
      "\n",
      "(1500, 12419)\n"
     ]
    }
   ],
   "source": [
    "import math, random, copy\n",
    "import numpy as np\n",
    "import matplotlib.pyplot as plt\n",
    "import pandas as pd\n",
    "from tqdm import *\n",
    "\n",
    "N_Docs = 1500 \n",
    "N_Words = 12419\n",
    "Nonzero_Counts = 746316\n",
    "raw_data = pd.read_csv('data_processed.txt', delimiter = ' ')\n",
    "vocab = pd.read_csv('vocab.nips.txt')\n",
    "\n",
    "print('data read, np-ifying now')\n",
    "\n",
    "\n",
    "data = np.zeros( (N_Docs, N_Words)) \n",
    "for i in tqdm_notebook(range(Nonzero_Counts)):\n",
    "    data[raw_data['Doc'][i]-1][raw_data['Word'][i]-1]=raw_data['Count'][i]\n",
    "\n",
    "print(data.shape)\n",
    "\n",
    "#pg 234 in text\n"
   ]
  },
  {
   "cell_type": "code",
   "execution_count": 71,
   "metadata": {
    "collapsed": false
   },
   "outputs": [
    {
     "name": "stdout",
     "output_type": "stream",
     "text": [
      "\n"
     ]
    },
    {
     "name": "stderr",
     "output_type": "stream",
     "text": [
      "E:\\ProgramFilesE\\Anaconda\\lib\\site-packages\\numpy\\lib\\function_base.py:4265: FutureWarning: in the future insert will treat boolean arrays and array-likes as boolean index instead of casting it to integer\n",
      "  \"as boolean index instead of casting it to integer\", FutureWarning)\n"
     ]
    },
    {
     "name": "stdout",
     "output_type": "stream",
     "text": [
      "(1500, 12418) 12418\n"
     ]
    }
   ],
   "source": [
    "vocab_arr = vocab.values\n",
    "Word_Totals = np.zeros(N_Words)\n",
    "for i in tqdm_notebook(range(N_Words)):\n",
    "    Word_Totals[i] = np.sum(data[:, i])\n",
    "    \n",
    "zeroes = not np.nonzero(Word_Totals)\n",
    "\n",
    "data = np.delete(data, zeroes, axis=1)\n",
    "Word_Totals = np.delete(Word_Totals, zeroes, axis=0)\n",
    "vocab_arr = np.delete(vocab_arr, zeroes, axis = 0)\n",
    "N_Words = data.shape[1]\n",
    "print(data.shape, N_Words)\n",
    "\n",
    "\n",
    "#resources\n",
    "#pg 234 in text\n",
    "#http://www.cs.columbia.edu/~jebara/4771/tutorials/multinomial.pdf"
   ]
  },
  {
   "cell_type": "code",
   "execution_count": 72,
   "metadata": {
    "collapsed": false
   },
   "outputs": [],
   "source": [
    "#https://en.wikipedia.org/wiki/Multinomial_distribution\n",
    "#n, the number of trials is the sum of a word's total appearances \n",
    "#word is a row off of the doc array, with each index corresponding to a word, and the value there being the count\n",
    "#params is the probability of seeing a certain word - this is precalculated in the main flow. it is the {p1,p2,...pn}\n",
    "\n",
    "# def logsumexp(X):\n",
    "#     x_max = X.max(1)\n",
    "#     return x_max + np.log(np.exp(X - x_max[:, None]).sum(1))\n",
    "# def logfact(X):\n",
    "#     ret = 0\n",
    "#     while (X > 0):\n",
    "#         ret += math.log(X)\n",
    "#         X-=1\n",
    "#     return ret\n",
    "# def multinomial_logpdf(doc, param):\n",
    "#     log_nfact =logfact(np.sum(doc))\n",
    "#     log_xis = 0\n",
    "#     log_probs = 0\n",
    "#     for i in range(N_Words):\n",
    "#         if doc[i] > 0:\n",
    "#             log_xis += logfact(doc[i])\n",
    "#             log_probs += math.log(param[i]) *doc[i]\n",
    "# #     print(log_nfact, log_probs, log_xis)\n",
    "#     return np.exp(log_nfact + log_probs - log_xis)\n",
    "\n",
    "            \n"
   ]
  },
  {
   "cell_type": "code",
   "execution_count": 73,
   "metadata": {
    "collapsed": false
   },
   "outputs": [],
   "source": [
    "def Assign_Labels(data, Doc_Label_Weights, topic_params, pi):\n",
    "    tmp = np.zeros(30)\n",
    "    for i in tqdm_notebook(range(N_Docs)):\n",
    "        for j in range(30):\n",
    "            tmp[j] = np.sum(data[i,:] * np.log(topic_params[j, :]))+ np.log(pi[j])\n",
    "            max = np.amax(tmp)\n",
    "        denom = 0\n",
    "        for j in range(30):\n",
    "            denom += np.exp(tmp[j] - max)\n",
    "        for j in range(30):\n",
    "            num = np.exp( \n",
    "                np.sum(data[i,:] * np.log(topic_params[j,:]))\n",
    "                + np.log(pi[j])-max\n",
    "                      )\n",
    "            Doc_Label_Weights[i][j] = num/denom\n",
    "            \n",
    "            \n",
    "            \n",
    "def estimate_params(data,Doc_Label_Weights, topic_params, pi):\n",
    "    for i in tqdm_notebook(range(30)):\n",
    "        p_num = np.full((N_Words), .05)\n",
    "        p_denom = np.zeros(N_Words)\n",
    "        for j in range(N_Docs):\n",
    "            p_num += data[j] * Doc_Label_Weights[j, i]\n",
    "            p_denom += np.dot(data[j], np.ones(N_Words) * Doc_Label_Weights[j][i]  )\n",
    "        topic_params[i, :] = p_num/p_denom\n",
    "        \n",
    "        new_pi = 0\n",
    "        for j in range(N_Docs):\n",
    "            new_pi += Doc_Label_Weights[j][i]\n",
    "        pi[i] = new_pi/N_Docs\n",
    "        "
   ]
  },
  {
   "cell_type": "code",
   "execution_count": 74,
   "metadata": {
    "collapsed": false
   },
   "outputs": [
    {
     "name": "stdout",
     "output_type": "stream",
     "text": [
      "\n",
      "setup completed\n"
     ]
    }
   ],
   "source": [
    "topic_params = np.random.rand(30, N_Words)\n",
    "\n",
    "Doc_Label_Weights = np.random.rand(N_Docs,30) #w_ij values for each word x topic combo [DDCUMENT][TOPIC]\n",
    "for i in range(N_Docs):\n",
    "    Doc_Label_Weights[i,:] /= np.sum(Doc_Label_Weights[i])\n",
    "\n",
    "pi = np.zeros(30)\n",
    "estimate_params(data,Doc_Label_Weights, topic_params, pi)\n",
    "\n",
    "print(\"setup completed\")\n",
    "\n"
   ]
  },
  {
   "cell_type": "code",
   "execution_count": 75,
   "metadata": {
    "collapsed": false
   },
   "outputs": [
    {
     "name": "stdout",
     "output_type": "stream",
     "text": [
      "\n"
     ]
    }
   ],
   "source": [
    "Assign_Labels(data, Doc_Label_Weights, topic_params, pi)\n"
   ]
  },
  {
   "cell_type": "code",
   "execution_count": 76,
   "metadata": {
    "collapsed": false
   },
   "outputs": [
    {
     "name": "stdout",
     "output_type": "stream",
     "text": [
      "\n"
     ]
    }
   ],
   "source": [
    "estimate_params(data,Doc_Label_Weights, topic_params,pi)\n"
   ]
  },
  {
   "cell_type": "code",
   "execution_count": 77,
   "metadata": {
    "collapsed": false
   },
   "outputs": [
    {
     "name": "stdout",
     "output_type": "stream",
     "text": [
      "\n",
      "\n",
      "iter 0: 0.0152481283197\n",
      "\n",
      "\n",
      "iter 1: 0.00331214110976\n",
      "\n",
      "\n",
      "iter 2: 0.00346439372205\n",
      "\n",
      "\n",
      "iter 3: 0.00188277151293\n",
      "\n",
      "\n",
      "iter 4: 0.000190058825778\n",
      "\n",
      "\n",
      "iter 5: 0.000773403338852\n",
      "\n",
      "\n",
      "iter 6: 2.42703364602e-06\n"
     ]
    }
   ],
   "source": [
    "old_pi = np.copy(pi)\n",
    "eps = .0001\n",
    "\n",
    "for i in range(100):\n",
    "    Assign_Labels(data, Doc_Label_Weights, topic_params,pi)\n",
    "    estimate_params(data,Doc_Label_Weights, topic_params,pi)\n",
    "    d = np.linalg.norm(old_pi - pi)\n",
    "    print(\"iter \"+str(i) + \": \" + str(d))\n",
    "    if(np.linalg.norm(d) < eps):\n",
    "        break\n",
    "    old_pi = np.copy(pi)\n"
   ]
  },
  {
   "cell_type": "code",
   "execution_count": 81,
   "metadata": {
    "collapsed": false
   },
   "outputs": [
    {
     "name": "stdout",
     "output_type": "stream",
     "text": [
      "[ 0.03152705  0.03552182  0.04279251  0.03615359  0.03943977  0.02472055\n",
      "  0.05485927  0.03375505  0.02906707  0.03140827  0.03679283  0.03544696\n",
      "  0.03028259  0.02339735  0.04289185  0.03746518  0.02541923  0.03485087\n",
      "  0.02806588  0.02612083  0.0247695   0.02607998  0.04151154  0.03213428\n",
      "  0.0307434   0.03453212  0.02965767  0.02952719  0.02552798  0.04553784]\n"
     ]
    },
    {
     "data": {
      "image/png": "[encoded data removed]",
      "text/plain": [
       "<matplotlib.figure.Figure object at 0x000001F142FB49E8>"
      ]
     },
     "metadata": {},
     "output_type": "display_data"
    }
   ],
   "source": [
    "#Graphing time\n",
    "#Produce a graph showing, for each topic, the probability with which the topic is selected.\n",
    "\n",
    "Topic_Totals = np.zeros(30)\n",
    "#Word_Labels == i\n",
    "for i in range(30):\n",
    "    for j in range(N_Docs):\n",
    "        Topic_Totals[i] += Doc_Label_Weights[j][i]\n",
    "Topic_Totals /= np.sum(Topic_Totals)\n",
    "print(Topic_Totals)\n",
    "\n",
    "plt.figure(1)\n",
    "plt.bar(left = range(0,30), height = Topic_Totals)\n",
    "\n",
    "# plt.figure(2)\n",
    "# plt.pie(Topic_Totals)\n",
    "# I thought the pie chart might be amusing at least, it's not even that. Turns out 30 is too many ways to split a pizza\n",
    "plt.show(block = False)\n"
   ]
  },
  {
   "cell_type": "code",
   "execution_count": 82,
   "metadata": {
    "collapsed": false
   },
   "outputs": [],
   "source": [
    "# %pprint\n"
   ]
  },
  {
   "cell_type": "code",
   "execution_count": 80,
   "metadata": {
    "collapsed": false
   },
   "outputs": [
    {
     "name": "stdout",
     "output_type": "stream",
     "text": [
      "------------  ------------  ------------------  ---------------  --------------  --------------  ---------------  ----------------  ------------------  ---------------  -----------------\n",
      "Topic Number  Most Common   2nd Most Common3rd  4th              5th             6th             7th              8th               9th                 10th\n",
      "0             ['netxvork']  ['unitary']         ['inquiry']      ['modeled']     ['weighted']    ['hierar']       ['neurally']      ['functional']      ['learnt']       ['outseg']\n",
      "1             ['modeled']   ['cellular']        ['inquiry']      ['netxvork']    ['neuronal']    ['systematic']   ['learnt']        ['functional']      ['patterned']    ['unitary']\n",
      "2             ['netxvork']  ['learnt']          ['algorithmic']  ['functional']  ['weighted']    ['setpoint']     ['unitary']       ['trajec']          ['problematic']  ['modeled']\n",
      "3             ['netxvork']  ['modeled']         ['database']     ['setpoint']    ['functional']  ['algorithmic']  ['inquiry']       ['distributional']  ['unitary']      ['neurally']\n",
      "4             ['netxvork']  ['modeled']         ['database']     ['neurally']    ['functional']  ['setpoint']     ['inquiry']       ['trajec']          ['systematic']   ['learnt']\n",
      "5             ['netxvork']  ['algorithmic']     ['neurally']     ['functional']  ['modeled']     ['learnt']       ['setpoint']      ['problematic']     ['weighted']     ['systematic']\n",
      "6             ['modeled']   ['netxvork']        ['functional']   ['database']    ['learnt']      ['trajec']       ['algorithmic']   ['setpoint']        ['neurally']     ['parameterised']\n",
      "7             ['netxvork']  ['modeled']         ['trajec']       ['learnt']      ['inquiry']     ['unitary']      ['setpoint']      ['neurally']        ['objection']    ['outseg']\n",
      "8             ['netxvork']  ['modeled']         ['database']     ['inquiry']     ['systematic']  ['setpoint']     ['recognizable']  ['unitary']         ['learnt']       ['neurally']\n",
      "9             ['netxvork']  ['learnt']          ['functional']   ['neurally']    ['inquiry']     ['algorithmic']  ['unitary']       ['trajec']          ['setpoint']     ['vectorial']\n",
      "------------  ------------  ------------------  ---------------  --------------  --------------  ---------------  ----------------  ------------------  ---------------  -----------------\n"
     ]
    }
   ],
   "source": [
    "Topic_TopTens = np.zeros((30,10),dtype = np.int32)\n",
    "for i in range(30):\n",
    "#     ten = np.argpartition(topic_params[i], N_Docs - 10, axis = 0)[N_Docs-11:N_Docs-1]\n",
    "# #     print(ten)\n",
    "#     print(np.sort(topic_params[i]))\n",
    "#     ten_sorted = np.argsort(topic_params[i][ten])#sorts in ASCENDING order\n",
    "#     print(topic_params[i][ten])\n",
    "# We were doing argpartition + trying to sort the remainder (returning indices sorted on the values of those indices in another array gets messy), but it's really not much faster than just finding the max 10 times.\n",
    "    for j in range(10):\n",
    "        Topic_TopTens[i][j] = np.argmax(topic_params[i, :])\n",
    "        topic_params[i][np.argmax(topic_params[i, :]) ] = 0\n",
    "        \n",
    "# for i in range(30):\n",
    "#     print(\"Topic Number: \" + str(i))\n",
    "#     for j in range(9,-1,-1):\n",
    "#         print(str(j) +' : '+ vocab['a2i'][Topic_TopTens[i][j]])\n",
    "#     print(\"\\n\")\n",
    "\n",
    "# print(Topic_TopTens)\n",
    "from tabulate import tabulate\n",
    "print(tabulate(\n",
    "    [['Topic Number','Most Common', \"2nd Most Common\" + \"3rd\"] + [str(i)+'th' for i in range(4,11)]] +\n",
    "    [ [i] + [vocab_arr[j] for j in Topic_TopTens[i]] for i in range(10)]\n",
    "\n",
    "))\n"
   ]
  },
  {
   "cell_type": "code",
   "execution_count": null,
   "metadata": {
    "collapsed": true
   },
   "outputs": [],
   "source": []
  }
 ],
 "metadata": {
  "kernelspec": {
   "display_name": "Python 3",
   "language": "python",
   "name": "python3"
  },
  "language_info": {
   "codemirror_mode": {
    "name": "ipython",
    "version": 3
   },
   "file_extension": ".py",
   "mimetype": "text/x-python",
   "name": "python",
   "nbconvert_exporter": "python",
   "pygments_lexer": "ipython3",
   "version": "3.6.0"
  },
  "widgets": {
   "state": {
    "01aa528b75734873ae069d9402c6dfa8": {
     "views": [
      {
       "cell_index": 7
      }
     ]
    },
    "0a135d44fbd54b8ca6b5375e496b078e": {
     "views": [
      {
       "cell_index": 7
      }
     ]
    },
    "0ce43550f84e49febf08f47415c4c7f6": {
     "views": [
      {
       "cell_index": 7
      }
     ]
    },
    "0ed81f6e55fa456a954195a1555ac775": {
     "views": [
      {
       "cell_index": 7
      }
     ]
    },
    "1317304be9c54fe195b8265b699076fa": {
     "views": [
      {
       "cell_index": 4
      }
     ]
    },
    "18e6167960e147028572a4fe2aea75be": {
     "views": [
      {
       "cell_index": 7
      }
     ]
    },
    "1d18397ac3e3415fa910d02e336ecb47": {
     "views": [
      {
       "cell_index": 7
      }
     ]
    },
    "2891461728434fc0b68fc11016ca81cc": {
     "views": [
      {
       "cell_index": 7
      }
     ]
    },
    "308fc945ac51471d9e83a469df6a2b24": {
     "views": [
      {
       "cell_index": 7
      }
     ]
    },
    "3765208e902a49b1bf474256db2f0d7e": {
     "views": [
      {
       "cell_index": 5
      }
     ]
    },
    "387d357461304354b937ad31a5df4395": {
     "views": [
      {
       "cell_index": 7
      }
     ]
    },
    "39f800668a7445daa0d96404627d24b4": {
     "views": [
      {
       "cell_index": 7
      }
     ]
    },
    "3f3724adbdb84e00ae28f690deafabce": {
     "views": [
      {
       "cell_index": 7
      }
     ]
    },
    "4862690ca1eb44f08e0d873360e0bb6c": {
     "views": [
      {
       "cell_index": 7
      }
     ]
    },
    "4aba57177bed4582948cbdfff87714d1": {
     "views": [
      {
       "cell_index": 7
      }
     ]
    },
    "4fda4fee4b014ad886483aafc9574530": {
     "views": [
      {
       "cell_index": 7
      }
     ]
    },
    "5c04b442da724e219eefb6e347c9d57a": {
     "views": [
      {
       "cell_index": 6
      }
     ]
    },
    "5fa8fdbc70e4434383a99ce4b3338eb9": {
     "views": [
      {
       "cell_index": 7
      }
     ]
    },
    "670543b2f8674b839e943c17b50f411b": {
     "views": [
      {
       "cell_index": 7
      }
     ]
    },
    "7b4bb48848b049c9a76026a058a5c55a": {
     "views": [
      {
       "cell_index": 7
      }
     ]
    },
    "8ee98944d36e4bbf89ae9b2c6c6d00f0": {
     "views": [
      {
       "cell_index": 7
      }
     ]
    },
    "963087ed88f54f46b941ee43865123e3": {
     "views": [
      {
       "cell_index": 7
      }
     ]
    },
    "a6f00d65b6a44634b8072ef9f69ab2d2": {
     "views": [
      {
       "cell_index": 0
      }
     ]
    },
    "a9256848286941c08f0cdd4c28f07019": {
     "views": [
      {
       "cell_index": 1
      }
     ]
    },
    "bd1ac3aa8bcf453ab70c3814b3e58476": {
     "views": [
      {
       "cell_index": 7
      }
     ]
    },
    "bf706dd4c595424b831dc5c0f9b62f37": {
     "views": [
      {
       "cell_index": 7
      }
     ]
    },
    "c2b76481258f4419b65145e54dddec62": {
     "views": [
      {
       "cell_index": 7
      }
     ]
    },
    "c8e0be3cdde846dea4ad26f5a06bda1c": {
     "views": [
      {
       "cell_index": 7
      }
     ]
    },
    "cd1f362ac3b94491b9473b5c4977e9db": {
     "views": [
      {
       "cell_index": 7
      }
     ]
    },
    "dfad73deeac14ecdb209f721e2b53f3e": {
     "views": [
      {
       "cell_index": 7
      }
     ]
    },
    "ed9ad223a4fb45fd947be8c330515f8a": {
     "views": [
      {
       "cell_index": 7
      }
     ]
    }
   },
   "version": "1.2.0"
  }
 },
 "nbformat": 4,
 "nbformat_minor": 2
}
