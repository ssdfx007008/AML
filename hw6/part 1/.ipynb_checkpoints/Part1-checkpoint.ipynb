{
 "cells": [
  {
   "cell_type": "code",
   "execution_count": 3,
   "metadata": {
    "collapsed": false
   },
   "outputs": [
    {
     "name": "stdout",
     "output_type": "stream",
     "text": [
      "data read, np-ifying now\n",
      "[[ 0.  1.  0. ...,  0.  0.  0.]\n",
      " [ 0.  0.  0. ...,  0.  0.  0.]\n",
      " [ 0.  0.  0. ...,  0.  0.  0.]\n",
      " ..., \n",
      " [ 0.  0.  0. ...,  0.  0.  0.]\n",
      " [ 0.  0.  2. ...,  0.  0.  0.]\n",
      " [ 0.  0.  0. ...,  0.  0.  0.]]\n"
     ]
    }
   ],
   "source": [
    "import math, random, copy\n",
    "import numpy as np\n",
    "import matplotlib.pyplot as plt\n",
    "import pandas as pd\n",
    "\n",
    "N_Docs = 1500 \n",
    "N_Words = 12419\n",
    "Nonzero_Counts = 746316\n",
    "raw_data = pd.read_csv('data_processed.txt', delimiter = ' ')\n",
    "vocab = pd.read_csv('vocab.nips.txt')\n",
    "\n",
    "print('data read, np-ifying now')\n",
    "\n",
    "data = np.zeros( (N_Docs, N_Words)) \n",
    "for i in range(Nonzero_Counts):\n",
    "    data[raw_data['Doc'][i]-1][raw_data['Word'][i]-1]=raw_data['Count'][i]\n",
    "    \n",
    "print('data in np array')\n",
    "\n",
    "\n",
    "#resources\n",
    "#pg 234 in text\n",
    "#https://github.com/sseemayer/mixem/tree/master/mixem\n",
    "#http://www.cs.columbia.edu/~jebara/4771/tutorials/multinomial.pdf"
   ]
  },
  {
   "cell_type": "code",
   "execution_count": 4,
   "metadata": {
    "collapsed": false
   },
   "outputs": [],
   "source": [
    "#https://en.wikipedia.org/wiki/Multinomial_distribution\n",
    "#n, the number of trials is the sum of a document's word counts\n",
    "#doc is a row off of the doc array, with each index corresponding to a word, and the value there being the count\n",
    "#probs is the probability of seeing a certain word - this is precalculated in the main flow\n",
    "\n",
    "def multinomial_logpdf(doc, probs):\n",
    "    numerator = math.fact(np.sum(doc))\n",
    "    denominator = 1\n",
    "    for i in range(N_Words):\n",
    "        if doc[i] !=0 :\n",
    "            denominator *= math.fact(doc[i])\n",
    "            numerator *= probs[i]**doc[i]\n",
    "    return np.log(numerator/denominator)\n",
    "\n",
    "def estimate_params(probs, data, weights):\n",
    "    "
   ]
  },
  {
   "cell_type": "code",
   "execution_count": 7,
   "metadata": {
    "collapsed": false
   },
   "outputs": [
    {
     "name": "stdout",
     "output_type": "stream",
     "text": [
      "[[  1.51753044e-04   7.39979121e-05   4.94572779e-05 ...,   1.06884989e-04\n",
      "    6.91858774e-05   1.16257178e-04]\n",
      " [  7.87135006e-05   2.12666098e-05   1.55645429e-04 ...,   1.17219869e-04\n",
      "    1.21124110e-04   2.15676521e-05]\n",
      " [  4.48290316e-05   1.68907385e-05   1.49030906e-04 ...,   1.06026511e-04\n",
      "    1.41530247e-04   1.47481685e-04]\n",
      " ..., \n",
      " [  7.73846317e-05   1.60697327e-04   1.37728248e-04 ...,   1.93722395e-06\n",
      "    1.28017839e-04   6.09263956e-05]\n",
      " [  2.36975553e-05   1.39154986e-04   1.34694063e-04 ...,   5.65421721e-05\n",
      "    1.13424693e-04   1.32680071e-04]\n",
      " [  2.71241149e-05   2.14664710e-05   9.12051278e-05 ...,   9.22820356e-05\n",
      "    8.94837567e-05   8.00005896e-05]] 1.0\n"
     ]
    }
   ],
   "source": [
    "probs = np.random.rand(30, N_Words)\n",
    "for i in range(30):\n",
    "    sum = np.sum(probs[i])\n",
    "    for j in range(N_Words):\n",
    "        probs[i][j] /= sum\n"
   ]
  },
  {
   "cell_type": "code",
   "execution_count": null,
   "metadata": {
    "collapsed": true
   },
   "outputs": [],
   "source": []
  }
 ],
 "metadata": {
  "kernelspec": {
   "display_name": "Python 3",
   "language": "python",
   "name": "python3"
  },
  "language_info": {
   "codemirror_mode": {
    "name": "ipython",
    "version": 3
   },
   "file_extension": ".py",
   "mimetype": "text/x-python",
   "name": "python",
   "nbconvert_exporter": "python",
   "pygments_lexer": "ipython3",
   "version": "3.6.0"
  }
 },
 "nbformat": 4,
 "nbformat_minor": 2
}
