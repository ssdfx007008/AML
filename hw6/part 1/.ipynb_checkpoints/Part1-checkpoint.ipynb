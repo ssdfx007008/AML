{
 "cells": [
  {
   "cell_type": "code",
   "execution_count": 1,
   "metadata": {
    "collapsed": false
   },
   "outputs": [
    {
     "name": "stdout",
     "output_type": "stream",
     "text": [
      "data read, np-ifying now\n",
      "\n",
      "(1500, 12419)\n"
     ]
    }
   ],
   "source": [
    "import math, random, copy\n",
    "import numpy as np\n",
    "import matplotlib.pyplot as plt\n",
    "import pandas as pd\n",
    "from tqdm import *\n",
    "\n",
    "N_Docs = 1500 \n",
    "N_Words = 12419\n",
    "Nonzero_Counts = 746316\n",
    "raw_data = pd.read_csv('data_processed.txt', delimiter = ' ')\n",
    "vocab = pd.read_csv('vocab.nips.txt')\n",
    "\n",
    "print('data read, np-ifying now')\n",
    "\n",
    "\n",
    "data = np.zeros( (N_Docs, N_Words)) \n",
    "for i in tqdm_notebook(range(Nonzero_Counts)):\n",
    "    data[raw_data['Doc'][i]-1][raw_data['Word'][i]-1]=raw_data['Count'][i]\n",
    "\n",
    "print(data.shape)\n",
    "\n",
    "#pg 234 in text\n"
   ]
  },
  {
   "cell_type": "code",
   "execution_count": 2,
   "metadata": {
    "collapsed": false
   },
   "outputs": [
    {
     "name": "stdout",
     "output_type": "stream",
     "text": [
      "\n"
     ]
    },
    {
     "name": "stderr",
     "output_type": "stream",
     "text": [
      "E:\\ProgramFilesE\\Anaconda\\lib\\site-packages\\numpy\\lib\\function_base.py:4265: FutureWarning: in the future insert will treat boolean arrays and array-likes as boolean index instead of casting it to integer\n",
      "  \"as boolean index instead of casting it to integer\", FutureWarning)\n"
     ]
    },
    {
     "name": "stdout",
     "output_type": "stream",
     "text": [
      "(1500, 12418) 12418\n"
     ]
    }
   ],
   "source": [
    "vocab_arr = vocab.values\n",
    "Word_Totals = np.zeros(N_Words)\n",
    "for i in tqdm_notebook(range(N_Words)):\n",
    "    Word_Totals[i] = np.sum(data[:, i])\n",
    "    \n",
    "zeroes = not np.nonzero(Word_Totals)\n",
    "\n",
    "data = np.delete(data, zeroes, axis=1)\n",
    "Word_Totals = np.delete(Word_Totals, zeroes, axis=0)\n",
    "vocab_arr = np.delete(vocab_arr, zeroes, axis = 0)\n",
    "N_Words = data.shape[1]\n",
    "print(data.shape, N_Words)\n",
    "\n",
    "\n",
    "#resources\n",
    "#pg 234 in text\n",
    "#http://www.cs.columbia.edu/~jebara/4771/tutorials/multinomial.pdf"
   ]
  },
  {
   "cell_type": "code",
   "execution_count": 3,
   "metadata": {
    "collapsed": false
   },
   "outputs": [],
   "source": [
    "#https://en.wikipedia.org/wiki/Multinomial_distribution\n",
    "#n, the number of trials is the sum of a word's total appearances \n",
    "#word is a row off of the doc array, with each index corresponding to a word, and the value there being the count\n",
    "#params is the probability of seeing a certain word - this is precalculated in the main flow. it is the {p1,p2,...pn}\n",
    "\n",
    "# def logsumexp(X):\n",
    "#     x_max = X.max(1)\n",
    "#     return x_max + np.log(np.exp(X - x_max[:, None]).sum(1))\n",
    "# def logfact(X):\n",
    "#     ret = 0\n",
    "#     while (X > 0):\n",
    "#         ret += math.log(X)\n",
    "#         X-=1\n",
    "#     return ret\n",
    "# def multinomial_logpdf(doc, param):\n",
    "#     log_nfact =logfact(np.sum(doc))\n",
    "#     log_xis = 0\n",
    "#     log_probs = 0\n",
    "#     for i in range(N_Words):\n",
    "#         if doc[i] > 0:\n",
    "#             log_xis += logfact(doc[i])\n",
    "#             log_probs += math.log(param[i]) *doc[i]\n",
    "# #     print(log_nfact, log_probs, log_xis)\n",
    "#     return np.exp(log_nfact + log_probs - log_xis)\n",
    "\n",
    "            \n"
   ]
  },
  {
   "cell_type": "code",
   "execution_count": 4,
   "metadata": {
    "collapsed": false
   },
   "outputs": [],
   "source": [
    "def Assign_Labels(data, Doc_Label_Weights, topic_params, pi):\n",
    "    tmp = np.zeros(30)\n",
    "    for i in tqdm_notebook(range(N_Docs)):\n",
    "        for j in range(30):\n",
    "            tmp[j] = np.sum(data[i,:] * np.log(topic_params[j, :]))+ np.log(pi[j])\n",
    "            max = np.amax(tmp)\n",
    "        denom = 0\n",
    "        for j in range(30):\n",
    "            denom += np.exp(tmp[j] - max)\n",
    "        for j in range(30):\n",
    "            num = np.exp( \n",
    "                np.sum(data[i,:] * np.log(topic_params[j,:]))\n",
    "                + np.log(pi[j])-max\n",
    "                      )\n",
    "            Doc_Label_Weights[i][j] = num/denom\n",
    "            \n",
    "            \n",
    "            \n",
    "def estimate_params(data,Doc_Label_Weights, topic_params, pi):\n",
    "    for i in tqdm_notebook(range(30)):\n",
    "        p_num = np.full((N_Words), .05)\n",
    "        p_denom = np.zeros(N_Words)\n",
    "        for j in range(N_Docs):\n",
    "            p_num += data[j] * Doc_Label_Weights[j, i]\n",
    "            p_denom += np.dot(data[j], np.ones(N_Words) * Doc_Label_Weights[j][i]  )\n",
    "        topic_params[i, :] = p_num/p_denom\n",
    "        \n",
    "        new_pi = 0\n",
    "        for j in range(N_Docs):\n",
    "            new_pi += Doc_Label_Weights[j][i]\n",
    "        pi[i] = new_pi/N_Docs\n",
    "        "
   ]
  },
  {
   "cell_type": "code",
   "execution_count": 5,
   "metadata": {
    "collapsed": false
   },
   "outputs": [
    {
     "name": "stdout",
     "output_type": "stream",
     "text": [
      "\n",
      "setup completed\n"
     ]
    }
   ],
   "source": [
    "topic_params = np.random.rand(30, N_Words)\n",
    "\n",
    "Doc_Label_Weights = np.random.rand(N_Docs,30) #w_ij values for each word x topic combo [DDCUMENT][TOPIC]\n",
    "for i in range(N_Docs):\n",
    "    Doc_Label_Weights[i,:] /= np.sum(Doc_Label_Weights[i])\n",
    "\n",
    "pi = np.zeros(30)\n",
    "estimate_params(data,Doc_Label_Weights, topic_params, pi)\n",
    "\n",
    "print(\"setup completed\")\n",
    "\n"
   ]
  },
  {
   "cell_type": "code",
   "execution_count": 6,
   "metadata": {
    "collapsed": false
   },
   "outputs": [
    {
     "name": "stdout",
     "output_type": "stream",
     "text": [
      "\n"
     ]
    }
   ],
   "source": [
    "Assign_Labels(data, Doc_Label_Weights, topic_params, pi)\n"
   ]
  },
  {
   "cell_type": "code",
   "execution_count": 7,
   "metadata": {
    "collapsed": false
   },
   "outputs": [
    {
     "name": "stdout",
     "output_type": "stream",
     "text": [
      "\n"
     ]
    }
   ],
   "source": [
    "estimate_params(data,Doc_Label_Weights, topic_params,pi)\n"
   ]
  },
  {
   "cell_type": "code",
   "execution_count": 8,
   "metadata": {
    "collapsed": false
   },
   "outputs": [
    {
     "name": "stdout",
     "output_type": "stream",
     "text": [
      "\n",
      "\n",
      "iter 0: 0.0104759484805\n",
      "\n",
      "\n",
      "iter 1: 0.00311727306123\n",
      "\n",
      "\n",
      "iter 2: 0.00221501257985\n",
      "\n",
      "\n",
      "iter 3: 0.00106789544856\n",
      "\n",
      "\n",
      "iter 4: 0.00117866449244\n",
      "\n",
      "\n",
      "iter 5: 0.000898133887637\n",
      "\n",
      "\n",
      "iter 6: 0.000829155958494\n",
      "\n",
      "\n",
      "iter 7: 0.000932852885421\n",
      "\n",
      "\n",
      "iter 8: 0.000762669841602\n",
      "\n",
      "\n",
      "iter 9: 0.00178196889358\n",
      "\n",
      "\n",
      "iter 10: 0.00162494986379\n",
      "\n",
      "\n",
      "iter 11: 0.000935222919904\n",
      "\n",
      "\n",
      "iter 12: 0.00092284002594\n",
      "\n",
      "\n",
      "iter 13: 0.000938823419857\n",
      "\n",
      "\n",
      "iter 14: 7.44941296668e-06\n"
     ]
    }
   ],
   "source": [
    "old_pi = np.copy(pi)\n",
    "eps = .0001\n",
    "\n",
    "for i in range(100):\n",
    "    Assign_Labels(data, Doc_Label_Weights, topic_params,pi)\n",
    "    estimate_params(data,Doc_Label_Weights, topic_params,pi)\n",
    "    d = np.linalg.norm(old_pi - pi)\n",
    "    print(\"iter \"+str(i) + \": \" + str(d))\n",
    "    if(np.linalg.norm(d) < eps):\n",
    "        break\n",
    "    old_pi = np.copy(pi)\n"
   ]
  },
  {
   "cell_type": "code",
   "execution_count": 12,
   "metadata": {
    "collapsed": false
   },
   "outputs": [
    {
     "name": "stdout",
     "output_type": "stream",
     "text": [
      "[ 0.02471634  0.04560501  0.02073199  0.04972014  0.0314425   0.01936878\n",
      "  0.02477817  0.03942466  0.04885754  0.03358025  0.02228758  0.02271804\n",
      "  0.04007709  0.02343793  0.04273066  0.01960418  0.06286617  0.04206085\n",
      "  0.05175153  0.0229833   0.04083399  0.02280696  0.02084974  0.01174772\n",
      "  0.0448718   0.05447857  0.02127421  0.02281421  0.03480378  0.03677629]\n"
     ]
    },
    {
     "data": {
      "image/png": "[encoded data removed]",
      "text/plain": [
       "<matplotlib.figure.Figure at 0x1f31d09ae80>"
      ]
     },
     "metadata": {},
     "output_type": "display_data"
    }
   ],
   "source": [
    "#Graphing time\n",
    "#Produce a graph showing, for each topic, the probability with which the topic is selected.\n",
    "\n",
    "Topic_Totals = np.zeros(30)\n",
    "#Word_Labels == i\n",
    "for i in range(30):\n",
    "    for j in range(N_Docs):\n",
    "        Topic_Totals[i] += Doc_Label_Weights[j][i]\n",
    "Topic_Totals /= np.sum(Topic_Totals)\n",
    "print(Topic_Totals)\n",
    "\n",
    "plt.figure(1)\n",
    "plt.bar(left = range(0,30), height = Topic_Totals)\n",
    "\n",
    "# plt.figure(2)\n",
    "# plt.pie(Topic_Totals)\n",
    "# I thought the pie chart might be amusing at least, it's not even that. Turns out 30 is too many ways to split a pizza\n",
    "plt.show(block = False)\n"
   ]
  },
  {
   "cell_type": "code",
   "execution_count": 10,
   "metadata": {
    "collapsed": false
   },
   "outputs": [],
   "source": [
    "# %pprint\n"
   ]
  },
  {
   "cell_type": "code",
   "execution_count": 22,
   "metadata": {
    "collapsed": false
   },
   "outputs": [
    {
     "name": "stdout",
     "output_type": "stream",
     "text": [
      "['Topic Number, ', 'Most Common, ', '2nd Most Common, 3rd, ', '4th', '5th', '6th', '7th', '8th', '9th', '10th']\n",
      "1,  [\"['matsuoka']\", \"['finder']\", \"['classifies']\", \"['van']\", \"['terman']\", \"['noiseless']\", \"['experimental']\", \"['testable']\", \"['machinery']\", \"['meaning']\"]\n",
      "2,  [\"['fifteen']\", \"['expertise']\", \"['stephen']\", \"['noncausal']\", \"['systematic']\", \"['dimensionalities']\", \"['patterned']\", \"['approached']\", \"['distances']\", \"['nodel']\"]\n",
      "3,  [\"['centered']\", \"['processor']\", \"['noiseless']\", \"['rated']\", \"['stressed']\", \"['componential']\", \"['construct']\", \"['distributional']\", \"['god']\", \"['visualisation']\"]\n",
      "4,  [\"['probable']\", \"['experimental']\", \"['languages']\", \"['phonemes']\", \"['feb']\", \"['letterform']\", \"['sequencer']\", \"['pointed']\", \"['training']\", \"['formal']\"]\n",
      "5,  [\"['connectionism']\", \"['linearities']\", \"['recurrently']\", \"['localised']\", \"['expertise']\", \"['translate']\", \"['foster']\", \"['noiseless']\", \"['generalize']\", \"['informational']\"]\n",
      "6,  [\"['gausstan']\", \"['cellular']\", \"['cases']\", \"['noiseless']\", \"['formal']\", \"['performances']\", \"['log2']\", \"['localised']\", \"['largely']\", \"['noncausal']\"]\n",
      "7,  [\"['class2']\", \"['processor']\", \"['layered']\", \"['rated']\", \"['labeled']\", \"['pointed']\", \"['distributional']\", \"['davies']\", \"['realisation']\", \"['spikes']\"]\n",
      "8,  [\"['classified']\", \"['systematic']\", \"['informational']\", \"['mixtures']\", \"['posteriori']\", \"['outseg']\", \"['log2']\", \"['hierar']\", \"['stephen']\", \"['patterned']\"]\n",
      "9,  [\"['meaning']\", \"['ordered']\", \"['class2']\", \"['enforce']\", \"['theoretic']\", \"['propel']\", \"['gradual']\", \"['classifies']\", \"['dimensional']\", \"['stephen']\"]\n",
      "10,  [\"['patterned']\", \"['cases']\", \"['header']\", \"['layered']\", \"['methodologies']\", \"['probable']\", \"['componential']\", \"['losses']\", \"['rbm']\", \"['training']\"]\n",
      "11,  [\"['van']\", \"['recherche']\", \"['distributional']\", \"['linearities']\", \"['localised']\", \"['hierar']\", \"['segmenta']\", \"['erties']\", \"['noiseless']\", \"['responses']\"]\n",
      "12,  [\"['vectorial']\", \"['speechreading']\", \"['net32k']\", \"['fixes']\", \"['testable']\", \"['training']\", \"['cases']\", \"['linearities']\", \"['sequencer']\", \"['largely']\"]\n",
      "13,  [\"['meaning']\", \"['trees']\", \"['validatory']\", \"['largely']\", \"['approached']\", \"['tat']\", \"['crosscorrelation']\", \"['vectorial']\", \"['controllable']\", \"['patterned']\"]\n",
      "14,  [\"['winning']\", \"['voltages']\", \"['ordered']\", \"['activ']\", \"['dynamical']\", \"['sized']\", \"['analyte']\", \"['lowe']\", \"['computational']\", \"['curried']\"]\n",
      "15,  [\"['ordered']\", \"['iterative']\", \"['variances']\", \"['matsuoka']\", \"['approached']\", \"['largely']\", \"['localised']\", \"['sampled']\", \"['hierar']\", \"['linear']\"]\n",
      "16,  [\"['imaginary']\", \"['feb']\", \"['regional']\", \"['synaptic']\", \"['contrasted']\", \"['curried']\", \"['responsibilities']\", \"['surrounded']\", \"['synaptically']\", \"['algorithmic']\"]\n",
      "17,  [\"['optimality']\", \"['patterned']\", \"['hierar']\", \"['dimensional']\", \"['callaway']\", \"['largely']\", \"['ordered']\", \"['theoretic']\", \"['sized']\", \"['conceptual']\"]\n",
      "18,  [\"['priori']\", \"['ordered']\", \"['dent']\", \"['noncausal']\", \"['mapped']\", \"['linearities']\", \"['probable']\", \"['dynamical']\", \"['matsuoka']\", \"['terman']\"]\n",
      "19,  [\"['paperclip']\", \"['decisive']\", \"['row']\", \"['iterative']\", \"['predictive']\", \"['markovian']\", \"['finitely']\", \"['translate']\", \"['approached']\", \"['adaptively']\"]\n",
      "20,  [\"['feedfor']\", \"['layered']\", \"['testable']\", \"['class2']\", \"['classifies']\", \"['architectures']\", \"['rob']\", \"['linearities']\", \"['activ']\", \"['representational']\"]\n",
      "21,  [\"['corti']\", \"['erties']\", \"['tunley']\", \"['methodologies']\", \"['fight']\", \"['tat']\", \"['numbered']\", \"['simpler']\", \"['algorithmic']\", \"['trajec']\"]\n",
      "22,  [\"['iter']\", \"['known']\", \"['kerr']\", \"['noiseless']\", \"['imaginary']\", \"['directional']\", \"['subjected']\", \"['informational']\", \"['salient']\", \"['parameterised']\"]\n",
      "23,  [\"['correlational']\", \"['optimality']\", \"['singly']\", \"['cases']\", \"['filterbank']\", \"['signatures']\", \"['equi']\", \"['pointed']\", \"['stephen']\", \"['approached']\"]\n",
      "24,  [\"['imagery']\", \"['retinal']\", \"['spacecraft']\", \"['stephen']\", \"['adapted']\", \"['sensor']\", \"['stinchcombe']\", \"['stimulus']\", \"['rated']\", \"['classified']\"]\n",
      "25,  [\"['processor']\", \"['linearities']\", \"['weighted']\", \"['temporally']\", \"['cortices']\", \"['equi']\", \"['spacecraft']\", \"['excite']\", \"['unitary']\", \"['features']\"]\n",
      "26,  [\"['singly']\", \"['synapses']\", \"['mapped']\", \"['erties']\", \"['bite']\", \"['eyes']\", \"['memoryless']\", \"['controllable']\", \"['performances']\", \"['pointed']\"]\n",
      "27,  [\"['hierar']\", \"['processor']\", \"['tat']\", \"['algorithmic']\", \"['performances']\", \"['positional']\", \"['pointed']\", \"['flower']\", \"['training']\", \"['robotic']\"]\n",
      "28,  [\"['rulebase']\", \"['layered']\", \"['weighted']\", \"['approached']\", \"['activ']\", \"['noncausal']\", \"['ordered']\", \"['spacecraft']\", \"['testable']\", \"['net32k']\"]\n",
      "29,  [\"['testable']\", \"['classified']\", \"['hierar']\", \"['locative']\", \"['visualisation']\", \"['targeted']\", \"['matsuoka']\", \"['localised']\", \"['regressive']\", \"['hummel']\"]\n",
      "30,  [\"['simulator']\", \"['linearities']\", \"['associator']\", \"['fifteen']\", \"['representational']\", \"['voltages']\", \"['brainard']\", \"['connectionism']\", \"['erties']\", \"['parallelism']\"]\n"
     ]
    }
   ],
   "source": [
    "Topic_TopTens = np.zeros((30,10),dtype = np.int32)\n",
    "for i in range(30):\n",
    "#     ten = np.argpartition(topic_params[i], N_Docs - 10, axis = 0)[N_Docs-11:N_Docs-1]\n",
    "# #     print(ten)\n",
    "#     print(np.sort(topic_params[i]))\n",
    "#     ten_sorted = np.argsort(topic_params[i][ten])#sorts in ASCENDING order\n",
    "#     print(topic_params[i][ten])\n",
    "# We were doing argpartition + trying to sort the remainder (returning indices sorted on the values of those indices in another array gets messy), but it's really not much faster than just finding the max 10 times.\n",
    "    for j in range(10):\n",
    "        Topic_TopTens[i][j] = np.argmax(topic_params[i, :])\n",
    "        topic_params[i][np.argmax(topic_params[i, :]) ] = 0\n",
    "        \n",
    "# for i in range(30):\n",
    "#     print(\"Topic Number: \" + str(i))\n",
    "#     for j in range(9,-1,-1):\n",
    "#         print(str(j) +' : '+ vocab['a2i'][Topic_TopTens[i][j]])\n",
    "#     print(\"\\n\")\n",
    "\n",
    "# print(Topic_TopTens)\n",
    "# from tabulate import tabulate\n",
    "print(['Topic Number, ','Most Common, ', \"2nd Most Common, \" + \"3rd, \"] + [str(i)+'th' for i in range(4,11)])\n",
    "for i in range(30):\n",
    "    print(str(i+1) + ', ' , [str(vocab_arr[j]) for j in Topic_TopTens[i]])\n",
    "\n",
    "\n"
   ]
  },
  {
   "cell_type": "code",
   "execution_count": null,
   "metadata": {
    "collapsed": true
   },
   "outputs": [],
   "source": []
  }
 ],
 "metadata": {
  "kernelspec": {
   "display_name": "Python 3",
   "language": "python",
   "name": "python3"
  },
  "language_info": {
   "codemirror_mode": {
    "name": "ipython",
    "version": 3
   },
   "file_extension": ".py",
   "mimetype": "text/x-python",
   "name": "python",
   "nbconvert_exporter": "python",
   "pygments_lexer": "ipython3",
   "version": "3.6.0"
  },
  "widgets": {
   "state": {
    "036b188904874ba49d98d2fae5e25755": {
     "views": [
      {
       "cell_index": 7
      }
     ]
    },
    "0623a6098cd24a3ea00d078e26ecfc1c": {
     "views": [
      {
       "cell_index": 7
      }
     ]
    },
    "0c15be42ed3f4ed89a957102313a56b5": {
     "views": [
      {
       "cell_index": 7
      }
     ]
    },
    "139c5376906d45b99a3a334bc00ea08a": {
     "views": [
      {
       "cell_index": 5
      }
     ]
    },
    "14416a06baaf456e82ad642cbd8a64a4": {
     "views": [
      {
       "cell_index": 7
      }
     ]
    },
    "17c712b4ffeb4413afac8d1bac657d47": {
     "views": [
      {
       "cell_index": 7
      }
     ]
    },
    "2202568bc21744be9776a97d9bb2d85d": {
     "views": [
      {
       "cell_index": 7
      }
     ]
    },
    "35ac52141507483099c8d5f2ea550a5e": {
     "views": [
      {
       "cell_index": 7
      }
     ]
    },
    "4a1078a67465458b9bceb8cd142165a1": {
     "views": [
      {
       "cell_index": 6
      }
     ]
    },
    "4f52b67e81bd48ada167dde1e22b24fb": {
     "views": [
      {
       "cell_index": 7
      }
     ]
    },
    "544315ea9eb741a285066ee7bb6aad9c": {
     "views": [
      {
       "cell_index": 7
      }
     ]
    },
    "580daa6e2bc446f981f48b02ee1b7c28": {
     "views": [
      {
       "cell_index": 7
      }
     ]
    },
    "5b37ef92b3d44630b2918135bc878aa7": {
     "views": [
      {
       "cell_index": 7
      }
     ]
    },
    "614cae0751cc4cfcbe78110320c8a8b6": {
     "views": [
      {
       "cell_index": 7
      }
     ]
    },
    "689d48571bfc4b3cabddff15c43ab5e2": {
     "views": [
      {
       "cell_index": 7
      }
     ]
    },
    "6e6df25c97384571b85e770a96d932fb": {
     "views": [
      {
       "cell_index": 7
      }
     ]
    },
    "7bef261c75db4275b72bf73118233bbf": {
     "views": [
      {
       "cell_index": 7
      }
     ]
    },
    "80c2517b382a4fa0861a5ae68f6fd9f1": {
     "views": [
      {
       "cell_index": 7
      }
     ]
    },
    "823a093526a14c38ba39914482c8040c": {
     "views": [
      {
       "cell_index": 0
      }
     ]
    },
    "8421ab4afe534cf9a5a637a579b4c58a": {
     "views": [
      {
       "cell_index": 7
      }
     ]
    },
    "996a8fa76cd041be9f4f4006ecafbd15": {
     "views": [
      {
       "cell_index": 7
      }
     ]
    },
    "99d642d3a01348298c8a403aed75a7d2": {
     "views": [
      {
       "cell_index": 7
      }
     ]
    },
    "a86592241cce471e9e31a227bf1523c0": {
     "views": [
      {
       "cell_index": 4
      }
     ]
    },
    "a9f0bb6c23c4410eb9fa39bddcc6ad5a": {
     "views": [
      {
       "cell_index": 7
      }
     ]
    },
    "b43fa19a5b5b47b0af3d9180135b0667": {
     "views": [
      {
       "cell_index": 7
      }
     ]
    },
    "be01c12185af4178a07e68d4c9d07bb9": {
     "views": [
      {
       "cell_index": 7
      }
     ]
    },
    "bebb13f56c6947a999c1c984262490bf": {
     "views": [
      {
       "cell_index": 7
      }
     ]
    },
    "cf63f60d6e294b3a855bd9206b98ca8c": {
     "views": [
      {
       "cell_index": 7
      }
     ]
    },
    "d39e2516b026453f8bd64f6736ec26ff": {
     "views": [
      {
       "cell_index": 7
      }
     ]
    },
    "dfc0433359e64621a47dbc19eead2ead": {
     "views": [
      {
       "cell_index": 7
      }
     ]
    },
    "ef2e07c178814af9a8e83cb26cf4e02d": {
     "views": [
      {
       "cell_index": 7
      }
     ]
    },
    "f4bf146127d1450bbe122eea0a1ab914": {
     "views": [
      {
       "cell_index": 7
      }
     ]
    },
    "f5fb684d71014d55a1e3e73feaa3af8a": {
     "views": [
      {
       "cell_index": 1
      }
     ]
    },
    "f741b9699f2e4bc286d82c202d3a2779": {
     "views": [
      {
       "cell_index": 7
      }
     ]
    },
    "fb1a99498e194b64ad6c880976e58493": {
     "views": [
      {
       "cell_index": 7
      }
     ]
    }
   },
   "version": "1.2.0"
  }
 },
 "nbformat": 4,
 "nbformat_minor": 2
}
