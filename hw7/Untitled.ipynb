{
 "cells": [
  {
   "cell_type": "code",
   "execution_count": 3,
   "metadata": {
    "collapsed": false
   },
   "outputs": [
    {
     "name": "stdout",
     "output_type": "stream",
     "text": [
      "Label: [3]\n"
     ]
    },
    {
     "data": {
      "image/png": "[encoded data removed]",
      "text/plain": [
       "<matplotlib.figure.Figure at 0x2b638ec3c88>"
      ]
     },
     "metadata": {},
     "output_type": "display_data"
    },
    {
     "name": "stdout",
     "output_type": "stream",
     "text": [
      "Label: [3]\n"
     ]
    },
    {
     "data": {
      "image/png": "[encoded data removed]",
      "text/plain": [
       "<matplotlib.figure.Figure at 0x2b63992e400>"
      ]
     },
     "metadata": {},
     "output_type": "display_data"
    },
    {
     "name": "stdout",
     "output_type": "stream",
     "text": [
      "Label: [3]\n"
     ]
    },
    {
     "data": {
      "image/png": "[encoded data removed]",
      "text/plain": [
       "<matplotlib.figure.Figure at 0x2b639a575c0>"
      ]
     },
     "metadata": {},
     "output_type": "display_data"
    },
    {
     "name": "stdout",
     "output_type": "stream",
     "text": [
      "the least accuracy is 0.975765306122449 labeled [3]\n",
      "Label: [1]\n"
     ]
    },
    {
     "data": {
      "image/png": "[encoded data removed]",
      "text/plain": [
       "<matplotlib.figure.Figure at 0x2b639ade080>"
      ]
     },
     "metadata": {},
     "output_type": "display_data"
    },
    {
     "name": "stdout",
     "output_type": "stream",
     "text": [
      "Label: [1]\n"
     ]
    },
    {
     "data": {
      "image/png": "[encoded data removed]",
      "text/plain": [
       "<matplotlib.figure.Figure at 0x2b639b84780>"
      ]
     },
     "metadata": {},
     "output_type": "display_data"
    },
    {
     "name": "stdout",
     "output_type": "stream",
     "text": [
      "Label: [1]\n"
     ]
    },
    {
     "data": {
      "image/png": "[encoded data removed]",
      "text/plain": [
       "<matplotlib.figure.Figure at 0x2b639bb42e8>"
      ]
     },
     "metadata": {},
     "output_type": "display_data"
    },
    {
     "name": "stdout",
     "output_type": "stream",
     "text": [
      "the largest accuracy is 0.9987244897959184 labeled [1]\n",
      "the overall accuracy is  0.9894642857142857\n"
     ]
    }
   ],
   "source": [
    "from struct import unpack\n",
    "import gzip\n",
    "from numpy import zeros, uint8, float32\n",
    "import numpy as np\n",
    "from pylab import imshow, show, cm\n",
    "import random\n",
    "\n",
    "def get_noisy_data(imagefile, labelfile):\n",
    "    \"\"\"Read input-vector (image) and target class (label, 0-9) and return\n",
    "       it as list of tuples.\n",
    "    \"\"\"\n",
    "    # Open the images with gzip in read binary mode\n",
    "    images = gzip.open(imagefile, 'rb')\n",
    "    labels = gzip.open(labelfile, 'rb')\n",
    "\n",
    "    # Read the binary data\n",
    "\n",
    "    # We have to get big endian unsigned int. So we need '>I'\n",
    "\n",
    "    # Get metadata for images\n",
    "    images.read(4)  # skip the magic_number\n",
    "    number_of_images = images.read(4)\n",
    "    number_of_images = unpack('>I', number_of_images)[0]\n",
    "    rows = images.read(4)\n",
    "    rows = unpack('>I', rows)[0]\n",
    "    cols = images.read(4)\n",
    "    cols = unpack('>I', cols)[0]\n",
    "\n",
    "    # Get metadata for labels\n",
    "    labels.read(4)  # skip the magic_number\n",
    "    N = labels.read(4)\n",
    "    N = unpack('>I', N)[0]\n",
    "\n",
    "    if number_of_images != N:\n",
    "        raise Exception('number of labels did not match the number of images')\n",
    "    N=500\n",
    "\n",
    "    # Get the data\n",
    "    x = zeros((N, rows, cols), dtype=float32)  # Initialize numpy array\n",
    "    y = zeros((N, 1), dtype=uint8)  # Initialize numpy array\n",
    "    z = zeros((N, rows, cols), dtype=float32)  \n",
    "    c = zeros((N, rows, cols), dtype=float32)  \n",
    "\n",
    "    for i in range(500):\n",
    "        for row in range(rows):\n",
    "            for col in range(cols):\n",
    "                tmp_pixel = images.read(1)  # Just a single byte\n",
    "                tmp_pixel = unpack('>B', tmp_pixel)[0]\n",
    "                ran=(random.random()<0.02)\n",
    "                c[i][row][col] = (-1)*(2.0*ran-1)*((tmp_pixel>0.5)*2-1)                \n",
    "                x[i][row][col] = c[i][row][col]\n",
    "                z[i][row][col]=((tmp_pixel>0.5)*2-1)\n",
    "        tmp_label = labels.read(1)\n",
    "        y[i] = unpack('>B', tmp_label)[0]\n",
    "    return (x,y, c,z)\n",
    "\n",
    "\n",
    "def view_image(image, label=\"\"):\n",
    "    \"\"\"View a single image.\"\"\"\n",
    "    print(\"Label: %s\" % label)\n",
    "    imshow(image, cmap=cm.gray)\n",
    "    show()\n",
    "#%%\n",
    "data=get_noisy_data(\"train-images-idx3-ubyte.gz\", \"train-labels-idx1-ubyte.gz\")\n",
    "output=zeros((500,28,28), dtype=float32)\n",
    "#%%\n",
    "\n",
    "correct=0.0\n",
    "wrong=0.0\n",
    "maxErr=0.0\n",
    "imgIdx=0\n",
    "smaErr=100000\n",
    "sindex=0\n",
    "for imgIdx in range(500):\n",
    "    miu=zeros((28,28))+0.5\n",
    "    miu_pre=zeros((28,28))    \n",
    "    while np.sum(abs(miu_pre-miu))>0.0001:\n",
    "        miu_pre=miu\n",
    "        for i in range(28):\n",
    "            for j in range(28):\n",
    "                neighbor=0\n",
    "                if(i-1>0):\n",
    "                    neighbor+=0.2*(2*data[0][imgIdx][i-1][j]-1)\n",
    "                if(i+1<28):\n",
    "                    neighbor+=0.2*(data[0][imgIdx][i+1][j]*2-1)\n",
    "                if(j-1>0):\n",
    "                    neighbor+=0.2*(data[0][imgIdx][i][j-1]*2-1)\n",
    "                if(j+1<28):\n",
    "                    neighbor+=0.2*(data[0][imgIdx][i][j-1]*2-1)\n",
    "                    xinput=2*data[0][imgIdx][i][j]\n",
    "                    miu[i][j]= np.exp(neighbor+xinput)/(np.exp(neighbor+xinput)+np.exp(-neighbor-xinput))\n",
    "    picErr=0\n",
    "    for i in range(28): \n",
    "        for j in range(28):\n",
    "            x=data[0][imgIdx][i][j]\n",
    "            output[imgIdx][i][j]=(-1)**(miu[i][j]**((1+x)/2)*(1-miu[i][j])**((1-x)/2) <0.5)*x \n",
    "            if output[imgIdx][i][j]!=data[3][imgIdx][i][j]:\n",
    "                wrong+=1.0\n",
    "                picErr+=1\n",
    "            else:\n",
    "                correct+=1.0\n",
    "    if picErr>maxErr:\n",
    "        maxErr=picErr\n",
    "        index=imgIdx\n",
    "    if picErr<smaErr:\n",
    "        smaErr=picErr\n",
    "        sindex=imgIdx\n",
    "#%%%~\n",
    "view_image(data[3][index],data[1][index])\n",
    "view_image(data[0][index],data[1][index])\n",
    "view_image(output[index],data[1][index])\n",
    "print(\"the least accuracy is\",(28*28-maxErr)/28.0/28.0,\"labeled\",data[1][index])\n",
    "#%%\n",
    "view_image(data[3][sindex],data[1][sindex])\n",
    "view_image(data[0][sindex],data[1][sindex])\n",
    "view_image(output[sindex],data[1][sindex])\n",
    "print(\"the largest accuracy is\", (28*28-smaErr)/28.0/28.0, \"labeled\",data[1][sindex])\n",
    "#%%\n",
    "\n",
    "print(\"the overall accuracy is \",correct/(correct+wrong))\n",
    "#print(data[0][5])\n",
    "\n",
    "\n",
    "\n",
    "\n",
    "\n",
    "\n"
   ]
  },
  {
   "cell_type": "code",
   "execution_count": null,
   "metadata": {
    "collapsed": true
   },
   "outputs": [],
   "source": []
  }
 ],
 "metadata": {
  "kernelspec": {
   "display_name": "Python 3",
   "language": "python",
   "name": "python3"
  },
  "language_info": {
   "codemirror_mode": {
    "name": "ipython",
    "version": 3
   },
   "file_extension": ".py",
   "mimetype": "text/x-python",
   "name": "python",
   "nbconvert_exporter": "python",
   "pygments_lexer": "ipython3",
   "version": "3.6.0"
  }
 },
 "nbformat": 4,
 "nbformat_minor": 2
}
