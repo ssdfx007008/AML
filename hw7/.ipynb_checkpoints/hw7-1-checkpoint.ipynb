{
 "cells": [
  {
   "cell_type": "code",
   "execution_count": 1,
   "metadata": {
    "collapsed": false
   },
   "outputs": [],
   "source": [
    "from struct import unpack\n",
    "import gzip\n",
    "import numpy as np\n",
    "from tqdm import tqdm_notebook\n",
    "import scipy.misc as spm\n",
    "import matplotlib.cm as cm\n",
    "import matplotlib.pyplot as plt\n",
    "from IPython.display import Image\n",
    "from IPython.display import display"
   ]
  },
  {
   "cell_type": "code",
   "execution_count": 2,
   "metadata": {
    "collapsed": false
   },
   "outputs": [
    {
     "name": "stdout",
     "output_type": "stream",
     "text": [
      "\n"
     ]
    }
   ],
   "source": [
    "def get_labeled_data(imagefile, labelfile, lim):\n",
    "    \"\"\"Read input-vector (image) and target class (label, 0-9) and return\n",
    "       it as list of tuples.\n",
    "    \"\"\"\n",
    "    # Open the images with gzip in read binary mode\n",
    "    images = gzip.open(imagefile, 'rb')\n",
    "    labels = gzip.open(labelfile, 'rb')\n",
    "\n",
    "    # Read the binary data\n",
    "\n",
    "    # We have to get big endian unsigned int. So we need '>I'\n",
    "\n",
    "    # Get metadata for images\n",
    "    images.read(4)  # skip the magic_number\n",
    "    number_of_images = images.read(4)\n",
    "    number_of_images = unpack('>I', number_of_images)[0]\n",
    "    rows = images.read(4)\n",
    "    rows = unpack('>I', rows)[0]\n",
    "    cols = images.read(4)\n",
    "    cols = unpack('>I', cols)[0]\n",
    "\n",
    "    # Get metadata for labels\n",
    "    labels.read(4)  # skip the magic_number\n",
    "    N = labels.read(4)\n",
    "    N = unpack('>I', N)[0]\n",
    "\n",
    "    # Get the data\n",
    "    x = np.zeros((lim, rows, cols), dtype=np.float32)  # Initialize numpy array\n",
    "    y = np.zeros((lim, 1), dtype=np.uint8)  # Initialize numpy array\n",
    "    for i in tqdm_notebook(range(lim)):\n",
    "        for row in range(rows):\n",
    "            for col in range(cols):\n",
    "                tmp_pixel = images.read(1)  # Just a single byte\n",
    "                tmp_pixel = unpack('>B', tmp_pixel)[0]\n",
    "                x[i][row][col] = tmp_pixel\n",
    "        tmp_label = labels.read(1)\n",
    "        y[i] = unpack('>B', tmp_label)[0]\n",
    "    return (x, y)\n",
    "\n",
    "(Images, Data) = get_labeled_data(\"train-images-idx3-ubyte.gz\", \"train-labels-idx1-ubyte.gz\", 500)"
   ]
  },
  {
   "cell_type": "code",
   "execution_count": 3,
   "metadata": {
    "collapsed": true
   },
   "outputs": [],
   "source": [
    "from pylab import imshow, show, cm\n",
    "\n",
    "def draw_image(image):\n",
    "    img = np.copy(image)\n",
    "    img[img == -1] = 0\n",
    "    img = spm.toimage(img)\n",
    "    return img\n",
    "def view_image(image, label=\"\"):\n",
    "    \"\"\"View a single image.\"\"\"\n",
    "    print(\"Label: %s\" % label)\n",
    "    imshow(image, cmap=cm.gray)\n",
    "    show()"
   ]
  },
  {
   "cell_type": "code",
   "execution_count": 4,
   "metadata": {
    "collapsed": false
   },
   "outputs": [
    {
     "name": "stdout",
     "output_type": "stream",
     "text": [
      "-1.0 1.0\n"
     ]
    }
   ],
   "source": [
    "if np.max(Images == 255):\n",
    "    Images /=255\n",
    "    Images = np.around(Images, 0)\n",
    "    Images[Images==0] = -1\n",
    "    print(np.min(Images), np.max(Images))\n",
    "    Noisy = np.copy(Images)"
   ]
  },
  {
   "cell_type": "code",
   "execution_count": 5,
   "metadata": {
    "collapsed": false
   },
   "outputs": [],
   "source": [
    "#flip with 2% rate\n",
    "for i in range(Images.shape[0]):\n",
    "    for j in range(Images[i].shape[0]):\n",
    "        for k in range(Images[i].shape[1]):\n",
    "            if (np.random.rand() < .02):\n",
    "                Noisy[i][j][k] *= -1\n"
   ]
  },
  {
   "cell_type": "code",
   "execution_count": 6,
   "metadata": {
    "collapsed": false
   },
   "outputs": [
    {
     "data": {
      "image/png": "[encoded data removed]",
      "text/plain": [
       "<PIL.Image.Image image mode=L size=28x28 at 0x21FB9173A20>"
      ]
     },
     "metadata": {},
     "output_type": "display_data"
    },
    {
     "data": {
      "image/png": "[encoded data removed]",
      "text/plain": [
       "<PIL.Image.Image image mode=L size=28x28 at 0x21FB9173A58>"
      ]
     },
     "metadata": {},
     "output_type": "display_data"
    }
   ],
   "source": [
    "display(draw_image(Images[0]))\n",
    "display(draw_image(Noisy[0]))"
   ]
  },
  {
   "cell_type": "code",
   "execution_count": 7,
   "metadata": {
    "collapsed": false
   },
   "outputs": [
    {
     "name": "stdout",
     "output_type": "stream",
     "text": [
      "2\n"
     ]
    }
   ],
   "source": [
    "data=(np.copy(Noisy), np.copy(Data))\n",
    "\n",
    "output=(np.copy(Noisy), np.copy(Data))\n",
    "#%%\n",
    "miu=np.zeros((28,28))+1\n",
    "miu_pre=np.zeros((28,28))+0\n",
    "for imgIdx in [0]:\n",
    "    while np.sum(abs(miu_pre-miu))>0.0000000000000001:\n",
    "        miu_pre=miu\n",
    "        for i in range(28):\n",
    "            for j in range(28):\n",
    "                neighbor=0\n",
    "                if(i-1>0):\n",
    "                    neighbor+=0.2*(2*data[0][imgIdx][i-1][j]-1)\n",
    "                if(i+1<28):\n",
    "                    neighbor+=0.2*(data[0][imgIdx][i+1][j]*2-1)\n",
    "                if(j-1>0):\n",
    "                    neighbor+=0.2*(data[0][imgIdx][i][j-1]*2-1)\n",
    "                if(j+1<28):\n",
    "                    neighbor+=0.2*(data[0][imgIdx][i][j-1]*2-1)\n",
    "                        \n",
    "                    xinput=2*data[0][imgIdx][i][j]\n",
    "                    miu[i][j]= np.exp(neighbor+xinput)/(np.exp(neighbor+xinput)+np.exp(-neighbor-xinput))\n",
    "    for i in range(28):\n",
    "        for j in range(28):\n",
    "            x=data[0][imgIdx][i][j]\n",
    "            output[0][imgIdx][i][j]=(-1)**(miu[i][j]**((1+x)/2)*(1-miu[i][j])**((1-x)/2) <0.5)*x            \n",
    "#             print(output[0][imgIdx][i][j])\n",
    "\n",
    "\n",
    "\n",
    "#%%\n",
    "print(len(data))\n",
    "#%%\n"
   ]
  },
  {
   "cell_type": "code",
   "execution_count": 8,
   "metadata": {
    "collapsed": false
   },
   "outputs": [],
   "source": [
    "def c_Bolts(c):\n",
    "    data=(np.copy(Noisy), np.copy(Data))\n",
    "    \n",
    "    output=(np.copy(Noisy), np.copy(Data))\n",
    "    #%%\n",
    "    miu=np.zeros((28,28))+1\n",
    "    miu_pre=np.zeros((28,28))+0\n",
    "    for imgIdx in [0]:\n",
    "        while np.sum(abs(miu_pre-miu))>0.0000000000000001:\n",
    "            miu_pre=miu\n",
    "            for i in range(28):\n",
    "                for j in range(28):\n",
    "                    neighbor=0\n",
    "                    if(i-1>0):\n",
    "                        neighbor+=c*(2*data[0][imgIdx][i-1][j]-1)\n",
    "                    if(i+1<28):\n",
    "                        neighbor+=c*(data[0][imgIdx][i+1][j]*2-1)\n",
    "                    if(j-1>0):\n",
    "                        neighbor+c*(data[0][imgIdx][i][j-1]*2-1)\n",
    "                    if(j+1<28):\n",
    "                        neighbor+=c*(data[0][imgIdx][i][j-1]*2-1)\n",
    "\n",
    "                        xinput=2*data[0][imgIdx][i][j]\n",
    "                        miu[i][j]= np.exp(neighbor+xinput)/(np.exp(neighbor+xinput)+np.exp(-neighbor-xinput))\n",
    "        for i in range(28):\n",
    "            for j in range(28):\n",
    "                x=data[0][imgIdx][i][j]\n",
    "                output[0][imgIdx][i][j]=(-1)**(miu[i][j]**((1+x)/2)*(1-miu[i][j])**((1-x)/2) <0.5)*x     \n",
    "#         view_image(Images[0])\n",
    "#         view_image(data[0][0])\n",
    "#         view_image(output[0][0])\n",
    "\n",
    "        return (output[0]) #labels don't really matter\n",
    "\n",
    "\n"
   ]
  },
  {
   "cell_type": "code",
   "execution_count": 9,
   "metadata": {
    "collapsed": true
   },
   "outputs": [],
   "source": [
    "# Accs = np.zeros(500)\n",
    "# for i in range(500)\n",
    "#     Accs[i] = "
   ]
  },
  {
   "cell_type": "code",
   "execution_count": 10,
   "metadata": {
    "collapsed": true
   },
   "outputs": [],
   "source": [
    "\n",
    "def tp_fp(real, predicted):\n",
    "    tp = 0\n",
    "    tp_d = 0\n",
    "    fp = 0\n",
    "    fp_d = 0\n",
    "    for i in range(500):\n",
    "        for j in range(28):\n",
    "            for k in range(28):\n",
    "                if predicted[i][j][k] == 1:\n",
    "                    if real[i][j][k] == 1:\n",
    "                        tp += 1\n",
    "                    else:\n",
    "                        fp +=1\n",
    "                        \n",
    "                if real[i][j][k] == 1:\n",
    "                    tp_d +=1\n",
    "                else:\n",
    "                    fp_d +=1\n",
    "    return (tp/tp_d, fp/fp_d)\n",
    "                \n"
   ]
  },
  {
   "cell_type": "code",
   "execution_count": 32,
   "metadata": {
    "collapsed": false
   },
   "outputs": [
    {
     "name": "stdout",
     "output_type": "stream",
     "text": [
      "\n"
     ]
    },
    {
     "data": {
      "image/png": "[encoded data removed]",
      "text/plain": [
       "<matplotlib.figure.Figure at 0x21fbc54ab00>"
      ]
     },
     "metadata": {},
     "output_type": "display_data"
    }
   ],
   "source": [
    "n = 7\n",
    "tp = np.zeros(n)\n",
    "fp = np.zeros(n)\n",
    "i = 0\n",
    "\n",
    "\n",
    "plt.figure(1)\n",
    "\n",
    "ys = [i+x+(i*x)**2 for i in range(10)]\n",
    "colors = cm.rainbow(np.linspace(0, 1, len(ys)))\n",
    "\n",
    "\n",
    "for c in tqdm_notebook(np.linspace(start = -1, stop = 1, num = n)):\n",
    "    tp,fp = tp_fp(Images, c_Bolts(c))\n",
    "    plt.scatter(x=fp,y= tp,color = colors[i], \n",
    "                label = \"c = \" + str(np.round(c,2)))\n",
    "\n",
    "    i+=1\n",
    "\n",
    "plt.plot([0.02001,.02001],[.023, .023],color = colors[i], \n",
    "         linestyle = '--', label = 'random classifier')\n",
    "plt.legend(loc = 'lower right')\n",
    "plt.suptitle('Receiver Operating Curve for differing Valuse of c from -1 to 1')\n",
    "plt.ylabel('true positive rate')\n",
    "plt.xlabel('false positive rate')\n",
    "plt.xlim([0.02,.023])\n",
    "plt.ylim([0,1])\n",
    "plt.show()"
   ]
  },
  {
   "cell_type": "code",
   "execution_count": 13,
   "metadata": {
    "collapsed": false
   },
   "outputs": [
    {
     "name": "stdout",
     "output_type": "stream",
     "text": [
      "['GTK', 'GTKAgg', 'GTKCairo', 'MacOSX', 'Qt4Agg', 'Qt5Agg', 'TkAgg', 'WX', 'WXAgg', 'GTK3Cairo', 'GTK3Agg', 'WebAgg', 'nbAgg', 'agg', 'cairo', 'gdk', 'pdf', 'pgf', 'ps', 'svg', 'template']\n"
     ]
    }
   ],
   "source": [
    "import matplotlib.rcsetup as rcsetup\n",
    "print(rcsetup.all_backends)\n"
   ]
  },
  {
   "cell_type": "code",
   "execution_count": null,
   "metadata": {
    "collapsed": true
   },
   "outputs": [],
   "source": []
  }
 ],
 "metadata": {
  "kernelspec": {
   "display_name": "Python 3",
   "language": "python",
   "name": "python3"
  },
  "language_info": {
   "codemirror_mode": {
    "name": "ipython",
    "version": 3
   },
   "file_extension": ".py",
   "mimetype": "text/x-python",
   "name": "python",
   "nbconvert_exporter": "python",
   "pygments_lexer": "ipython3",
   "version": "3.6.0"
  },
  "widgets": {
   "state": {
    "1369f4e291aa46de843a974bcf3730b9": {
     "views": [
      {
       "cell_index": 10
      }
     ]
    },
    "72d6008c788347a7acaac4f3afa3ec2f": {
     "views": [
      {
       "cell_index": 1
      }
     ]
    }
   },
   "version": "1.2.0"
  }
 },
 "nbformat": 4,
 "nbformat_minor": 2
}
