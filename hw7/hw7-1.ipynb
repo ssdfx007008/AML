{
 "cells": [
  {
   "cell_type": "code",
   "execution_count": 33,
   "metadata": {
    "collapsed": false
   },
   "outputs": [],
   "source": [
    "from struct import unpack\n",
    "import gzip\n",
    "import numpy as np\n",
    "from tqdm import tqdm_notebook\n",
    "import scipy.misc as spm\n",
    "from IPython.display import Image\n",
    "from IPython.display import display"
   ]
  },
  {
   "cell_type": "code",
   "execution_count": 3,
   "metadata": {
    "collapsed": false
   },
   "outputs": [
    {
     "name": "stdout",
     "output_type": "stream",
     "text": [
      "\n"
     ]
    }
   ],
   "source": [
    "def get_labeled_data(imagefile, labelfile, lim):\n",
    "    \"\"\"Read input-vector (image) and target class (label, 0-9) and return\n",
    "       it as list of tuples.\n",
    "    \"\"\"\n",
    "    # Open the images with gzip in read binary mode\n",
    "    images = gzip.open(imagefile, 'rb')\n",
    "    labels = gzip.open(labelfile, 'rb')\n",
    "\n",
    "    # Read the binary data\n",
    "\n",
    "    # We have to get big endian unsigned int. So we need '>I'\n",
    "\n",
    "    # Get metadata for images\n",
    "    images.read(4)  # skip the magic_number\n",
    "    number_of_images = images.read(4)\n",
    "    number_of_images = unpack('>I', number_of_images)[0]\n",
    "    rows = images.read(4)\n",
    "    rows = unpack('>I', rows)[0]\n",
    "    cols = images.read(4)\n",
    "    cols = unpack('>I', cols)[0]\n",
    "\n",
    "    # Get metadata for labels\n",
    "    labels.read(4)  # skip the magic_number\n",
    "    N = labels.read(4)\n",
    "    N = unpack('>I', N)[0]\n",
    "\n",
    "    # Get the data\n",
    "    x = np.zeros((lim, rows, cols), dtype=np.float32)  # Initialize numpy array\n",
    "    y = np.zeros((lim, 1), dtype=np.uint8)  # Initialize numpy array\n",
    "    for i in tqdm_notebook(range(lim)):\n",
    "        for row in range(rows):\n",
    "            for col in range(cols):\n",
    "                tmp_pixel = images.read(1)  # Just a single byte\n",
    "                tmp_pixel = unpack('>B', tmp_pixel)[0]\n",
    "                x[i][row][col] = tmp_pixel\n",
    "        tmp_label = labels.read(1)\n",
    "        y[i] = unpack('>B', tmp_label)[0]\n",
    "    return (x, y)\n",
    "\n",
    "(Images, Data) = get_labeled_data(\"train-images-idx3-ubyte.gz\", \"train-labels-idx1-ubyte.gz\", 500)"
   ]
  },
  {
   "cell_type": "code",
   "execution_count": 17,
   "metadata": {
    "collapsed": true
   },
   "outputs": [],
   "source": [
    "from pylab import imshow, show, cm\n",
    "\n",
    "def draw_image(image):\n",
    "    img = np.copy(image)\n",
    "    img[img == -1] = 0\n",
    "    img = spm.toimage(img)\n",
    "    return img\n",
    "def view_image(image, label=\"\"):\n",
    "    \"\"\"View a single image.\"\"\"\n",
    "    print(\"Label: %s\" % label)\n",
    "    imshow(image, cmap=cm.gray)\n",
    "    show()"
   ]
  },
  {
   "cell_type": "code",
   "execution_count": 18,
   "metadata": {
    "collapsed": false
   },
   "outputs": [],
   "source": [
    "if np.max(Images == 255):\n",
    "    Images /=255\n",
    "    Images = np.around(Images, 0)\n",
    "    Images[Images==0] = -1\n",
    "    print(np.min(Images), np.max(Images))\n",
    "    Noisy = np.copy(Images)"
   ]
  },
  {
   "cell_type": "code",
   "execution_count": 19,
   "metadata": {
    "collapsed": false
   },
   "outputs": [],
   "source": [
    "#flip with 2% rate\n",
    "for i in range(Images.shape[0]):\n",
    "    for j in range(Images[i].shape[0]):\n",
    "        for k in range(Images[i].shape[1]):\n",
    "            if (np.random.rand() < .02):\n",
    "                Noisy[i][j][k] *= -1\n"
   ]
  },
  {
   "cell_type": "code",
   "execution_count": 20,
   "metadata": {
    "collapsed": false
   },
   "outputs": [
    {
     "data": {
      "image/png": "[encoded data removed]",
      "text/plain": [
       "<PIL.Image.Image image mode=L size=28x28 at 0x1F751A3F940>"
      ]
     },
     "metadata": {},
     "output_type": "display_data"
    },
    {
     "data": {
      "image/png": "[encoded data removed]",
      "text/plain": [
       "<PIL.Image.Image image mode=L size=28x28 at 0x1F751A3F9E8>"
      ]
     },
     "metadata": {},
     "output_type": "display_data"
    }
   ],
   "source": [
    "display(draw_image(Images[0]))\n",
    "display(draw_image(Noisy[0]))"
   ]
  },
  {
   "cell_type": "code",
   "execution_count": 25,
   "metadata": {
    "collapsed": false
   },
   "outputs": [
    {
     "name": "stdout",
     "output_type": "stream",
     "text": [
      "Label: [5]\n"
     ]
    },
    {
     "data": {
      "image/png": "[encoded data removed]",
      "text/plain": [
       "<matplotlib.figure.Figure at 0x1f74e7392e8>"
      ]
     },
     "metadata": {},
     "output_type": "display_data"
    },
    {
     "name": "stdout",
     "output_type": "stream",
     "text": [
      "Label: [5]\n"
     ]
    },
    {
     "data": {
      "image/png": "[encoded data removed]",
      "text/plain": [
       "<matplotlib.figure.Figure at 0x1f7520152b0>"
      ]
     },
     "metadata": {},
     "output_type": "display_data"
    },
    {
     "name": "stdout",
     "output_type": "stream",
     "text": [
      "2\n"
     ]
    }
   ],
   "source": [
    "data=(np.copy(Noisy), np.copy(Data))\n",
    "\n",
    "output=(np.copy(Noisy), np.copy(Data))\n",
    "#%%\n",
    "miu=np.zeros((28,28))+1\n",
    "miu_pre=np.zeros((28,28))+0\n",
    "for imgIdx in [0]:\n",
    "    while np.sum(abs(miu_pre-miu))>0.0000000000000001:\n",
    "        miu_pre=miu\n",
    "        for i in range(28):\n",
    "            for j in range(28):\n",
    "                neighbor=0\n",
    "                if(i-1>0):\n",
    "                    neighbor+=0.2*(2*data[0][imgIdx][i-1][j]-1)\n",
    "                if(i+1<28):\n",
    "                    neighbor+=0.2*(data[0][imgIdx][i+1][j]*2-1)\n",
    "                if(j-1>0):\n",
    "                    neighbor+=0.2*(data[0][imgIdx][i][j-1]*2-1)\n",
    "                if(j+1<28):\n",
    "                    neighbor+=0.2*(data[0][imgIdx][i][j-1]*2-1)\n",
    "                        \n",
    "                    xinput=2*data[0][imgIdx][i][j]\n",
    "                    miu[i][j]= np.exp(neighbor+xinput)/(np.exp(neighbor+xinput)+np.exp(-neighbor-xinput))\n",
    "    for i in range(28):\n",
    "        for j in range(28):\n",
    "            x=data[0][imgIdx][i][j]\n",
    "            output[0][imgIdx][i][j]=(-1)**(miu[i][j]**((1+x)/2)*(1-miu[i][j])**((1-x)/2) <0.5)*x            \n",
    "#             print(output[0][imgIdx][i][j])\n",
    "\n",
    "\n",
    "\n",
    "#%%\n",
    "print(len(data))\n",
    "#%%\n"
   ]
  },
  {
   "cell_type": "code",
   "execution_count": 46,
   "metadata": {
    "collapsed": false
   },
   "outputs": [],
   "source": [
    "def c_Bolts(c):\n",
    "    data=(np.copy(Noisy), np.copy(Data))\n",
    "    \n",
    "    output=(np.copy(Noisy), np.copy(Data))\n",
    "    #%%\n",
    "    miu=np.zeros((28,28))+1\n",
    "    miu_pre=np.zeros((28,28))+0\n",
    "    for imgIdx in [0]:\n",
    "        while np.sum(abs(miu_pre-miu))>0.0000000000000001:\n",
    "            miu_pre=miu\n",
    "            for i in range(28):\n",
    "                for j in range(28):\n",
    "                    neighbor=0\n",
    "                    if(i-1>0):\n",
    "                        neighbor+=c*(2*data[0][imgIdx][i-1][j]-1)\n",
    "                    if(i+1<28):\n",
    "                        neighbor+=c*(data[0][imgIdx][i+1][j]*2-1)\n",
    "                    if(j-1>0):\n",
    "                        neighbor+c*(data[0][imgIdx][i][j-1]*2-1)\n",
    "                    if(j+1<28):\n",
    "                        neighbor+=c*(data[0][imgIdx][i][j-1]*2-1)\n",
    "\n",
    "                        xinput=2*data[0][imgIdx][i][j]\n",
    "                        miu[i][j]= np.exp(neighbor+xinput)/(np.exp(neighbor+xinput)+np.exp(-neighbor-xinput))\n",
    "        for i in range(28):\n",
    "            for j in range(28):\n",
    "                x=data[0][imgIdx][i][j]\n",
    "                output[0][imgIdx][i][j]=(-1)**(miu[i][j]**((1+x)/2)*(1-miu[i][j])**((1-x)/2) <0.5)*x     \n",
    "#         view_image(Images[0])\n",
    "#         view_image(data[0][0])\n",
    "#         view_image(output[0][0])\n",
    "\n",
    "        return (output[0]) #labels don't really matter\n",
    "\n",
    "\n"
   ]
  },
  {
   "cell_type": "code",
   "execution_count": null,
   "metadata": {
    "collapsed": true
   },
   "outputs": [],
   "source": [
    "# Accs = np.zeros(500)\n",
    "# for i in range(500)\n",
    "#     Accs[i] = "
   ]
  },
  {
   "cell_type": "code",
   "execution_count": 69,
   "metadata": {
    "collapsed": true
   },
   "outputs": [],
   "source": [
    "\n",
    "def tp_fp(real, predicted):\n",
    "    tp = 0\n",
    "    tp_d = 0\n",
    "    fp = 0\n",
    "    fp_d = 0\n",
    "    for i in range(500):\n",
    "        for j in range(28):\n",
    "            for k in range(28):\n",
    "                if predicted[i][j][k] == 1:\n",
    "                    if real[i][j][k] == 1:\n",
    "                        tp += 1\n",
    "                    else:\n",
    "                        fp +=1\n",
    "                        \n",
    "                if real[i][j][k] == 1:\n",
    "                    tp_d +=1\n",
    "                else:\n",
    "                    fp_d +=1\n",
    "    return (tp/tp_d, fp/fp_d)\n",
    "                \n",
    "                "
   ]
  },
  {
   "cell_type": "code",
   "execution_count": 70,
   "metadata": {
    "collapsed": false
   },
   "outputs": [
    {
     "name": "stdout",
     "output_type": "stream",
     "text": [
      "\n",
      "[ 0.96069712  0.9614383   0.96141827  0.96095753  0.9609976 ]\n",
      "[ 0.04123597  0.04123597  0.03949076  0.0394206   0.03942353]\n"
     ]
    },
    {
     "data": {
      "image/png": "[encoded data removed]",
      "text/plain": [
       "<matplotlib.figure.Figure at 0x1f7524973c8>"
      ]
     },
     "metadata": {},
     "output_type": "display_data"
    }
   ],
   "source": [
    "n = 5\n",
    "tp = np.zeros(n)\n",
    "fp = np.zeros(n)\n",
    "i = 0\n",
    "for c in tqdm_notebook(np.linspace(start = -1, stop = 1, num = n)):\n",
    "    (tp[i],fp[i]) = tp_fp(Images, c_Bolts(c))\n",
    "    i+=1\n",
    "import matplotlib.pyplot as plt\n",
    "print(tp)\n",
    "print(fp)\n",
    "plt.figure(1)\n",
    "plt.scatter(x=fp,y= tp)\n",
    "plt.ylabel('true positive rate')\n",
    "plt.xlabel('false positive rate')\n",
    "plt.show()"
   ]
  },
  {
   "cell_type": "code",
   "execution_count": null,
   "metadata": {
    "collapsed": true
   },
   "outputs": [],
   "source": []
  }
 ],
 "metadata": {
  "kernelspec": {
   "display_name": "Python 3",
   "language": "python",
   "name": "python3"
  },
  "language_info": {
   "codemirror_mode": {
    "name": "ipython",
    "version": 3
   },
   "file_extension": ".py",
   "mimetype": "text/x-python",
   "name": "python",
   "nbconvert_exporter": "python",
   "pygments_lexer": "ipython3",
   "version": "3.6.0"
  },
  "widgets": {
   "state": {
    "c12e8c204bd149f79e1d5634ac3070ae": {
     "views": [
      {
       "cell_index": 9
      }
     ]
    },
    "c18a65e681ed4bb2aa3e9eba17cb409d": {
     "views": [
      {
       "cell_index": 1
      }
     ]
    }
   },
   "version": "1.2.0"
  }
 },
 "nbformat": 4,
 "nbformat_minor": 2
}
